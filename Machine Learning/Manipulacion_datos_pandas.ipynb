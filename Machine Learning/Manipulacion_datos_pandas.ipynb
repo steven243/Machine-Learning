{
 "cells": [
  {
   "cell_type": "code",
   "execution_count": 1,
   "metadata": {
    "ExecuteTime": {
     "end_time": "2019-11-01T15:44:14.468508Z",
     "start_time": "2019-11-01T15:44:12.562054Z"
    }
   },
   "outputs": [],
   "source": [
    "import pandas as pd"
   ]
  },
  {
   "cell_type": "markdown",
   "metadata": {},
   "source": [
    "# Creamos un Dataset"
   ]
  },
  {
   "cell_type": "code",
   "execution_count": 2,
   "metadata": {
    "ExecuteTime": {
     "end_time": "2019-11-01T15:44:14.478192Z",
     "start_time": "2019-11-01T15:44:14.471473Z"
    }
   },
   "outputs": [],
   "source": [
    "df = pd.DataFrame(data={\"Pais\":['Mexico','Argentina','Espana','Colombia'],\n",
    "                        \"Poblacion\":[127212000, 45167000, 47099000, 48922000]})"
   ]
  },
  {
   "cell_type": "code",
   "execution_count": 3,
   "metadata": {
    "ExecuteTime": {
     "end_time": "2019-11-01T15:44:14.504353Z",
     "start_time": "2019-11-01T15:44:14.481401Z"
    }
   },
   "outputs": [
    {
     "data": {
      "text/html": [
       "<div>\n",
       "<style scoped>\n",
       "    .dataframe tbody tr th:only-of-type {\n",
       "        vertical-align: middle;\n",
       "    }\n",
       "\n",
       "    .dataframe tbody tr th {\n",
       "        vertical-align: top;\n",
       "    }\n",
       "\n",
       "    .dataframe thead th {\n",
       "        text-align: right;\n",
       "    }\n",
       "</style>\n",
       "<table border=\"1\" class=\"dataframe\">\n",
       "  <thead>\n",
       "    <tr style=\"text-align: right;\">\n",
       "      <th></th>\n",
       "      <th>Pais</th>\n",
       "      <th>Poblacion</th>\n",
       "    </tr>\n",
       "  </thead>\n",
       "  <tbody>\n",
       "    <tr>\n",
       "      <td>0</td>\n",
       "      <td>Mexico</td>\n",
       "      <td>127212000</td>\n",
       "    </tr>\n",
       "    <tr>\n",
       "      <td>1</td>\n",
       "      <td>Argentina</td>\n",
       "      <td>45167000</td>\n",
       "    </tr>\n",
       "    <tr>\n",
       "      <td>2</td>\n",
       "      <td>Espana</td>\n",
       "      <td>47099000</td>\n",
       "    </tr>\n",
       "    <tr>\n",
       "      <td>3</td>\n",
       "      <td>Colombia</td>\n",
       "      <td>48922000</td>\n",
       "    </tr>\n",
       "  </tbody>\n",
       "</table>\n",
       "</div>"
      ],
      "text/plain": [
       "        Pais  Poblacion\n",
       "0     Mexico  127212000\n",
       "1  Argentina   45167000\n",
       "2     Espana   47099000\n",
       "3   Colombia   48922000"
      ]
     },
     "execution_count": 3,
     "metadata": {},
     "output_type": "execute_result"
    }
   ],
   "source": [
    "df"
   ]
  },
  {
   "cell_type": "markdown",
   "metadata": {},
   "source": [
    "## Ordenamos por columna"
   ]
  },
  {
   "cell_type": "code",
   "execution_count": 4,
   "metadata": {
    "ExecuteTime": {
     "end_time": "2019-11-01T15:44:14.527018Z",
     "start_time": "2019-11-01T15:44:14.514223Z"
    }
   },
   "outputs": [
    {
     "data": {
      "text/html": [
       "<div>\n",
       "<style scoped>\n",
       "    .dataframe tbody tr th:only-of-type {\n",
       "        vertical-align: middle;\n",
       "    }\n",
       "\n",
       "    .dataframe tbody tr th {\n",
       "        vertical-align: top;\n",
       "    }\n",
       "\n",
       "    .dataframe thead th {\n",
       "        text-align: right;\n",
       "    }\n",
       "</style>\n",
       "<table border=\"1\" class=\"dataframe\">\n",
       "  <thead>\n",
       "    <tr style=\"text-align: right;\">\n",
       "      <th></th>\n",
       "      <th>Pais</th>\n",
       "      <th>Poblacion</th>\n",
       "    </tr>\n",
       "  </thead>\n",
       "  <tbody>\n",
       "    <tr>\n",
       "      <td>0</td>\n",
       "      <td>Mexico</td>\n",
       "      <td>127212000</td>\n",
       "    </tr>\n",
       "    <tr>\n",
       "      <td>3</td>\n",
       "      <td>Colombia</td>\n",
       "      <td>48922000</td>\n",
       "    </tr>\n",
       "    <tr>\n",
       "      <td>2</td>\n",
       "      <td>Espana</td>\n",
       "      <td>47099000</td>\n",
       "    </tr>\n",
       "    <tr>\n",
       "      <td>1</td>\n",
       "      <td>Argentina</td>\n",
       "      <td>45167000</td>\n",
       "    </tr>\n",
       "  </tbody>\n",
       "</table>\n",
       "</div>"
      ],
      "text/plain": [
       "        Pais  Poblacion\n",
       "0     Mexico  127212000\n",
       "3   Colombia   48922000\n",
       "2     Espana   47099000\n",
       "1  Argentina   45167000"
      ]
     },
     "execution_count": 4,
     "metadata": {},
     "output_type": "execute_result"
    }
   ],
   "source": [
    "df.sort_values([\"Poblacion\"], ascending=False)"
   ]
  },
  {
   "cell_type": "code",
   "execution_count": 5,
   "metadata": {
    "ExecuteTime": {
     "end_time": "2019-11-01T15:44:14.539098Z",
     "start_time": "2019-11-01T15:44:14.529889Z"
    }
   },
   "outputs": [
    {
     "data": {
      "text/html": [
       "<div>\n",
       "<style scoped>\n",
       "    .dataframe tbody tr th:only-of-type {\n",
       "        vertical-align: middle;\n",
       "    }\n",
       "\n",
       "    .dataframe tbody tr th {\n",
       "        vertical-align: top;\n",
       "    }\n",
       "\n",
       "    .dataframe thead th {\n",
       "        text-align: right;\n",
       "    }\n",
       "</style>\n",
       "<table border=\"1\" class=\"dataframe\">\n",
       "  <thead>\n",
       "    <tr style=\"text-align: right;\">\n",
       "      <th></th>\n",
       "      <th>Pais</th>\n",
       "      <th>Poblacion</th>\n",
       "    </tr>\n",
       "  </thead>\n",
       "  <tbody>\n",
       "    <tr>\n",
       "      <td>1</td>\n",
       "      <td>Argentina</td>\n",
       "      <td>45167000</td>\n",
       "    </tr>\n",
       "    <tr>\n",
       "      <td>3</td>\n",
       "      <td>Colombia</td>\n",
       "      <td>48922000</td>\n",
       "    </tr>\n",
       "    <tr>\n",
       "      <td>2</td>\n",
       "      <td>Espana</td>\n",
       "      <td>47099000</td>\n",
       "    </tr>\n",
       "    <tr>\n",
       "      <td>0</td>\n",
       "      <td>Mexico</td>\n",
       "      <td>127212000</td>\n",
       "    </tr>\n",
       "  </tbody>\n",
       "</table>\n",
       "</div>"
      ],
      "text/plain": [
       "        Pais  Poblacion\n",
       "1  Argentina   45167000\n",
       "3   Colombia   48922000\n",
       "2     Espana   47099000\n",
       "0     Mexico  127212000"
      ]
     },
     "execution_count": 5,
     "metadata": {},
     "output_type": "execute_result"
    }
   ],
   "source": [
    "df = df.sort_values([\"Pais\"])\n",
    "df"
   ]
  },
  {
   "cell_type": "markdown",
   "metadata": {},
   "source": [
    "## Agregar una columna"
   ]
  },
  {
   "cell_type": "code",
   "execution_count": 6,
   "metadata": {
    "ExecuteTime": {
     "end_time": "2019-11-01T15:44:14.550702Z",
     "start_time": "2019-11-01T15:44:14.541083Z"
    }
   },
   "outputs": [
    {
     "data": {
      "text/html": [
       "<div>\n",
       "<style scoped>\n",
       "    .dataframe tbody tr th:only-of-type {\n",
       "        vertical-align: middle;\n",
       "    }\n",
       "\n",
       "    .dataframe tbody tr th {\n",
       "        vertical-align: top;\n",
       "    }\n",
       "\n",
       "    .dataframe thead th {\n",
       "        text-align: right;\n",
       "    }\n",
       "</style>\n",
       "<table border=\"1\" class=\"dataframe\">\n",
       "  <thead>\n",
       "    <tr style=\"text-align: right;\">\n",
       "      <th></th>\n",
       "      <th>Pais</th>\n",
       "      <th>Poblacion</th>\n",
       "      <th>Superficie</th>\n",
       "    </tr>\n",
       "  </thead>\n",
       "  <tbody>\n",
       "    <tr>\n",
       "      <td>1</td>\n",
       "      <td>Argentina</td>\n",
       "      <td>45167000</td>\n",
       "      <td>1964375</td>\n",
       "    </tr>\n",
       "    <tr>\n",
       "      <td>3</td>\n",
       "      <td>Colombia</td>\n",
       "      <td>48922000</td>\n",
       "      <td>2780400</td>\n",
       "    </tr>\n",
       "    <tr>\n",
       "      <td>2</td>\n",
       "      <td>Espana</td>\n",
       "      <td>47099000</td>\n",
       "      <td>505944</td>\n",
       "    </tr>\n",
       "    <tr>\n",
       "      <td>0</td>\n",
       "      <td>Mexico</td>\n",
       "      <td>127212000</td>\n",
       "      <td>1142748</td>\n",
       "    </tr>\n",
       "  </tbody>\n",
       "</table>\n",
       "</div>"
      ],
      "text/plain": [
       "        Pais  Poblacion  Superficie\n",
       "1  Argentina   45167000     1964375\n",
       "3   Colombia   48922000     2780400\n",
       "2     Espana   47099000      505944\n",
       "0     Mexico  127212000     1142748"
      ]
     },
     "execution_count": 6,
     "metadata": {},
     "output_type": "execute_result"
    }
   ],
   "source": [
    "df[\"Superficie\"] = [1964375, 2780400, 505944, 1142748]\n",
    "df"
   ]
  },
  {
   "cell_type": "markdown",
   "metadata": {},
   "source": [
    "### Asigno mismo valor a todas las filas en una columna nueva"
   ]
  },
  {
   "cell_type": "code",
   "execution_count": 7,
   "metadata": {
    "ExecuteTime": {
     "end_time": "2019-11-01T15:44:14.562537Z",
     "start_time": "2019-11-01T15:44:14.552807Z"
    }
   },
   "outputs": [
    {
     "data": {
      "text/html": [
       "<div>\n",
       "<style scoped>\n",
       "    .dataframe tbody tr th:only-of-type {\n",
       "        vertical-align: middle;\n",
       "    }\n",
       "\n",
       "    .dataframe tbody tr th {\n",
       "        vertical-align: top;\n",
       "    }\n",
       "\n",
       "    .dataframe thead th {\n",
       "        text-align: right;\n",
       "    }\n",
       "</style>\n",
       "<table border=\"1\" class=\"dataframe\">\n",
       "  <thead>\n",
       "    <tr style=\"text-align: right;\">\n",
       "      <th></th>\n",
       "      <th>Pais</th>\n",
       "      <th>Poblacion</th>\n",
       "      <th>Superficie</th>\n",
       "      <th>Deporte</th>\n",
       "    </tr>\n",
       "  </thead>\n",
       "  <tbody>\n",
       "    <tr>\n",
       "      <td>1</td>\n",
       "      <td>Argentina</td>\n",
       "      <td>45167000</td>\n",
       "      <td>1964375</td>\n",
       "      <td>Futbol</td>\n",
       "    </tr>\n",
       "    <tr>\n",
       "      <td>3</td>\n",
       "      <td>Colombia</td>\n",
       "      <td>48922000</td>\n",
       "      <td>2780400</td>\n",
       "      <td>Futbol</td>\n",
       "    </tr>\n",
       "    <tr>\n",
       "      <td>2</td>\n",
       "      <td>Espana</td>\n",
       "      <td>47099000</td>\n",
       "      <td>505944</td>\n",
       "      <td>Futbol</td>\n",
       "    </tr>\n",
       "    <tr>\n",
       "      <td>0</td>\n",
       "      <td>Mexico</td>\n",
       "      <td>127212000</td>\n",
       "      <td>1142748</td>\n",
       "      <td>Futbol</td>\n",
       "    </tr>\n",
       "  </tbody>\n",
       "</table>\n",
       "</div>"
      ],
      "text/plain": [
       "        Pais  Poblacion  Superficie Deporte\n",
       "1  Argentina   45167000     1964375  Futbol\n",
       "3   Colombia   48922000     2780400  Futbol\n",
       "2     Espana   47099000      505944  Futbol\n",
       "0     Mexico  127212000     1142748  Futbol"
      ]
     },
     "execution_count": 7,
     "metadata": {},
     "output_type": "execute_result"
    }
   ],
   "source": [
    "df['Deporte']= 'Futbol'\n",
    "df"
   ]
  },
  {
   "cell_type": "markdown",
   "metadata": {},
   "source": [
    "## Eliminar una columna"
   ]
  },
  {
   "cell_type": "code",
   "execution_count": 8,
   "metadata": {
    "ExecuteTime": {
     "end_time": "2019-11-01T15:44:14.578164Z",
     "start_time": "2019-11-01T15:44:14.566159Z"
    }
   },
   "outputs": [
    {
     "data": {
      "text/html": [
       "<div>\n",
       "<style scoped>\n",
       "    .dataframe tbody tr th:only-of-type {\n",
       "        vertical-align: middle;\n",
       "    }\n",
       "\n",
       "    .dataframe tbody tr th {\n",
       "        vertical-align: top;\n",
       "    }\n",
       "\n",
       "    .dataframe thead th {\n",
       "        text-align: right;\n",
       "    }\n",
       "</style>\n",
       "<table border=\"1\" class=\"dataframe\">\n",
       "  <thead>\n",
       "    <tr style=\"text-align: right;\">\n",
       "      <th></th>\n",
       "      <th>Pais</th>\n",
       "      <th>Poblacion</th>\n",
       "      <th>Superficie</th>\n",
       "    </tr>\n",
       "  </thead>\n",
       "  <tbody>\n",
       "    <tr>\n",
       "      <td>1</td>\n",
       "      <td>Argentina</td>\n",
       "      <td>45167000</td>\n",
       "      <td>1964375</td>\n",
       "    </tr>\n",
       "    <tr>\n",
       "      <td>3</td>\n",
       "      <td>Colombia</td>\n",
       "      <td>48922000</td>\n",
       "      <td>2780400</td>\n",
       "    </tr>\n",
       "    <tr>\n",
       "      <td>2</td>\n",
       "      <td>Espana</td>\n",
       "      <td>47099000</td>\n",
       "      <td>505944</td>\n",
       "    </tr>\n",
       "    <tr>\n",
       "      <td>0</td>\n",
       "      <td>Mexico</td>\n",
       "      <td>127212000</td>\n",
       "      <td>1142748</td>\n",
       "    </tr>\n",
       "  </tbody>\n",
       "</table>\n",
       "</div>"
      ],
      "text/plain": [
       "        Pais  Poblacion  Superficie\n",
       "1  Argentina   45167000     1964375\n",
       "3   Colombia   48922000     2780400\n",
       "2     Espana   47099000      505944\n",
       "0     Mexico  127212000     1142748"
      ]
     },
     "execution_count": 8,
     "metadata": {},
     "output_type": "execute_result"
    }
   ],
   "source": [
    "df = df.drop(['Deporte'],axis=1)\n",
    "df"
   ]
  },
  {
   "cell_type": "markdown",
   "metadata": {},
   "source": [
    "## Eliminar multiples columnas"
   ]
  },
  {
   "cell_type": "code",
   "execution_count": 9,
   "metadata": {
    "ExecuteTime": {
     "end_time": "2019-11-01T15:44:14.595086Z",
     "start_time": "2019-11-01T15:44:14.581744Z"
    },
    "scrolled": true
   },
   "outputs": [
    {
     "data": {
      "text/html": [
       "<div>\n",
       "<style scoped>\n",
       "    .dataframe tbody tr th:only-of-type {\n",
       "        vertical-align: middle;\n",
       "    }\n",
       "\n",
       "    .dataframe tbody tr th {\n",
       "        vertical-align: top;\n",
       "    }\n",
       "\n",
       "    .dataframe thead th {\n",
       "        text-align: right;\n",
       "    }\n",
       "</style>\n",
       "<table border=\"1\" class=\"dataframe\">\n",
       "  <thead>\n",
       "    <tr style=\"text-align: right;\">\n",
       "      <th></th>\n",
       "      <th>Poblacion</th>\n",
       "    </tr>\n",
       "  </thead>\n",
       "  <tbody>\n",
       "    <tr>\n",
       "      <td>1</td>\n",
       "      <td>45167000</td>\n",
       "    </tr>\n",
       "    <tr>\n",
       "      <td>3</td>\n",
       "      <td>48922000</td>\n",
       "    </tr>\n",
       "    <tr>\n",
       "      <td>2</td>\n",
       "      <td>47099000</td>\n",
       "    </tr>\n",
       "    <tr>\n",
       "      <td>0</td>\n",
       "      <td>127212000</td>\n",
       "    </tr>\n",
       "  </tbody>\n",
       "</table>\n",
       "</div>"
      ],
      "text/plain": [
       "   Poblacion\n",
       "1   45167000\n",
       "3   48922000\n",
       "2   47099000\n",
       "0  127212000"
      ]
     },
     "execution_count": 9,
     "metadata": {},
     "output_type": "execute_result"
    }
   ],
   "source": [
    "df.drop(['Superficie','Pais'], axis=1)"
   ]
  },
  {
   "cell_type": "code",
   "execution_count": 10,
   "metadata": {
    "ExecuteTime": {
     "end_time": "2019-11-01T15:44:14.612566Z",
     "start_time": "2019-11-01T15:44:14.598332Z"
    }
   },
   "outputs": [
    {
     "data": {
      "text/html": [
       "<div>\n",
       "<style scoped>\n",
       "    .dataframe tbody tr th:only-of-type {\n",
       "        vertical-align: middle;\n",
       "    }\n",
       "\n",
       "    .dataframe tbody tr th {\n",
       "        vertical-align: top;\n",
       "    }\n",
       "\n",
       "    .dataframe thead th {\n",
       "        text-align: right;\n",
       "    }\n",
       "</style>\n",
       "<table border=\"1\" class=\"dataframe\">\n",
       "  <thead>\n",
       "    <tr style=\"text-align: right;\">\n",
       "      <th></th>\n",
       "      <th>Pais</th>\n",
       "      <th>Poblacion</th>\n",
       "      <th>Superficie</th>\n",
       "    </tr>\n",
       "  </thead>\n",
       "  <tbody>\n",
       "    <tr>\n",
       "      <td>1</td>\n",
       "      <td>Argentina</td>\n",
       "      <td>45167000</td>\n",
       "      <td>1964375</td>\n",
       "    </tr>\n",
       "    <tr>\n",
       "      <td>3</td>\n",
       "      <td>Colombia</td>\n",
       "      <td>48922000</td>\n",
       "      <td>2780400</td>\n",
       "    </tr>\n",
       "    <tr>\n",
       "      <td>2</td>\n",
       "      <td>Espana</td>\n",
       "      <td>47099000</td>\n",
       "      <td>505944</td>\n",
       "    </tr>\n",
       "    <tr>\n",
       "      <td>0</td>\n",
       "      <td>Mexico</td>\n",
       "      <td>127212000</td>\n",
       "      <td>1142748</td>\n",
       "    </tr>\n",
       "  </tbody>\n",
       "</table>\n",
       "</div>"
      ],
      "text/plain": [
       "        Pais  Poblacion  Superficie\n",
       "1  Argentina   45167000     1964375\n",
       "3   Colombia   48922000     2780400\n",
       "2     Espana   47099000      505944\n",
       "0     Mexico  127212000     1142748"
      ]
     },
     "execution_count": 10,
     "metadata": {},
     "output_type": "execute_result"
    }
   ],
   "source": [
    "df # recuerda! como no lo asignamos, el df anterior sigue \"intacto\""
   ]
  },
  {
   "cell_type": "markdown",
   "metadata": {},
   "source": [
    "## Agregar una fila nueva al final"
   ]
  },
  {
   "cell_type": "code",
   "execution_count": 11,
   "metadata": {
    "ExecuteTime": {
     "end_time": "2019-11-01T15:44:14.621927Z",
     "start_time": "2019-11-01T15:44:14.615114Z"
    }
   },
   "outputs": [
    {
     "data": {
      "text/plain": [
       "4"
      ]
     },
     "execution_count": 11,
     "metadata": {},
     "output_type": "execute_result"
    }
   ],
   "source": [
    "cantidad_filas = len(df) # obtengo la cantidad de filas\n",
    "cantidad_filas"
   ]
  },
  {
   "cell_type": "code",
   "execution_count": 12,
   "metadata": {
    "ExecuteTime": {
     "end_time": "2019-11-01T15:44:14.638448Z",
     "start_time": "2019-11-01T15:44:14.624353Z"
    }
   },
   "outputs": [
    {
     "data": {
      "text/html": [
       "<div>\n",
       "<style scoped>\n",
       "    .dataframe tbody tr th:only-of-type {\n",
       "        vertical-align: middle;\n",
       "    }\n",
       "\n",
       "    .dataframe tbody tr th {\n",
       "        vertical-align: top;\n",
       "    }\n",
       "\n",
       "    .dataframe thead th {\n",
       "        text-align: right;\n",
       "    }\n",
       "</style>\n",
       "<table border=\"1\" class=\"dataframe\">\n",
       "  <thead>\n",
       "    <tr style=\"text-align: right;\">\n",
       "      <th></th>\n",
       "      <th>Pais</th>\n",
       "      <th>Poblacion</th>\n",
       "      <th>Superficie</th>\n",
       "    </tr>\n",
       "  </thead>\n",
       "  <tbody>\n",
       "    <tr>\n",
       "      <td>1</td>\n",
       "      <td>Argentina</td>\n",
       "      <td>45167000</td>\n",
       "      <td>1964375</td>\n",
       "    </tr>\n",
       "    <tr>\n",
       "      <td>3</td>\n",
       "      <td>Colombia</td>\n",
       "      <td>48922000</td>\n",
       "      <td>2780400</td>\n",
       "    </tr>\n",
       "    <tr>\n",
       "      <td>2</td>\n",
       "      <td>Espana</td>\n",
       "      <td>47099000</td>\n",
       "      <td>505944</td>\n",
       "    </tr>\n",
       "    <tr>\n",
       "      <td>0</td>\n",
       "      <td>Mexico</td>\n",
       "      <td>127212000</td>\n",
       "      <td>1142748</td>\n",
       "    </tr>\n",
       "    <tr>\n",
       "      <td>4</td>\n",
       "      <td>Benezuela</td>\n",
       "      <td>0</td>\n",
       "      <td>916445</td>\n",
       "    </tr>\n",
       "  </tbody>\n",
       "</table>\n",
       "</div>"
      ],
      "text/plain": [
       "        Pais  Poblacion  Superficie\n",
       "1  Argentina   45167000     1964375\n",
       "3   Colombia   48922000     2780400\n",
       "2     Espana   47099000      505944\n",
       "0     Mexico  127212000     1142748\n",
       "4  Benezuela          0      916445"
      ]
     },
     "execution_count": 12,
     "metadata": {},
     "output_type": "execute_result"
    }
   ],
   "source": [
    "df.loc[cantidad_filas] = [\"Benezuela\", 0, 916445] # Está mal escrito el pais! (lo sé)\n",
    "df"
   ]
  },
  {
   "cell_type": "markdown",
   "metadata": {},
   "source": [
    "### Actualizo la fila entera"
   ]
  },
  {
   "cell_type": "code",
   "execution_count": 13,
   "metadata": {
    "ExecuteTime": {
     "end_time": "2019-11-01T15:44:14.654066Z",
     "start_time": "2019-11-01T15:44:14.640609Z"
    }
   },
   "outputs": [
    {
     "data": {
      "text/html": [
       "<div>\n",
       "<style scoped>\n",
       "    .dataframe tbody tr th:only-of-type {\n",
       "        vertical-align: middle;\n",
       "    }\n",
       "\n",
       "    .dataframe tbody tr th {\n",
       "        vertical-align: top;\n",
       "    }\n",
       "\n",
       "    .dataframe thead th {\n",
       "        text-align: right;\n",
       "    }\n",
       "</style>\n",
       "<table border=\"1\" class=\"dataframe\">\n",
       "  <thead>\n",
       "    <tr style=\"text-align: right;\">\n",
       "      <th></th>\n",
       "      <th>Pais</th>\n",
       "      <th>Poblacion</th>\n",
       "      <th>Superficie</th>\n",
       "    </tr>\n",
       "  </thead>\n",
       "  <tbody>\n",
       "    <tr>\n",
       "      <td>1</td>\n",
       "      <td>Argentina</td>\n",
       "      <td>45167000</td>\n",
       "      <td>1964375</td>\n",
       "    </tr>\n",
       "    <tr>\n",
       "      <td>3</td>\n",
       "      <td>Colombia</td>\n",
       "      <td>48922000</td>\n",
       "      <td>2780400</td>\n",
       "    </tr>\n",
       "    <tr>\n",
       "      <td>2</td>\n",
       "      <td>Espana</td>\n",
       "      <td>47099000</td>\n",
       "      <td>505944</td>\n",
       "    </tr>\n",
       "    <tr>\n",
       "      <td>0</td>\n",
       "      <td>Mexico</td>\n",
       "      <td>127212000</td>\n",
       "      <td>1142748</td>\n",
       "    </tr>\n",
       "    <tr>\n",
       "      <td>4</td>\n",
       "      <td>Venezuela</td>\n",
       "      <td>0</td>\n",
       "      <td>916445</td>\n",
       "    </tr>\n",
       "  </tbody>\n",
       "</table>\n",
       "</div>"
      ],
      "text/plain": [
       "        Pais  Poblacion  Superficie\n",
       "1  Argentina   45167000     1964375\n",
       "3   Colombia   48922000     2780400\n",
       "2     Espana   47099000      505944\n",
       "0     Mexico  127212000     1142748\n",
       "4  Venezuela          0      916445"
      ]
     },
     "execution_count": 13,
     "metadata": {},
     "output_type": "execute_result"
    }
   ],
   "source": [
    "df.loc[4] = [\"Venezuela\", 0, 916445]\n",
    "df"
   ]
  },
  {
   "cell_type": "markdown",
   "metadata": {},
   "source": [
    "### Actualizo una celda"
   ]
  },
  {
   "cell_type": "code",
   "execution_count": 14,
   "metadata": {
    "ExecuteTime": {
     "end_time": "2019-11-01T15:44:14.669129Z",
     "start_time": "2019-11-01T15:44:14.656468Z"
    }
   },
   "outputs": [
    {
     "data": {
      "text/html": [
       "<div>\n",
       "<style scoped>\n",
       "    .dataframe tbody tr th:only-of-type {\n",
       "        vertical-align: middle;\n",
       "    }\n",
       "\n",
       "    .dataframe tbody tr th {\n",
       "        vertical-align: top;\n",
       "    }\n",
       "\n",
       "    .dataframe thead th {\n",
       "        text-align: right;\n",
       "    }\n",
       "</style>\n",
       "<table border=\"1\" class=\"dataframe\">\n",
       "  <thead>\n",
       "    <tr style=\"text-align: right;\">\n",
       "      <th></th>\n",
       "      <th>Pais</th>\n",
       "      <th>Poblacion</th>\n",
       "      <th>Superficie</th>\n",
       "    </tr>\n",
       "  </thead>\n",
       "  <tbody>\n",
       "    <tr>\n",
       "      <td>1</td>\n",
       "      <td>Argentina</td>\n",
       "      <td>45167000</td>\n",
       "      <td>1964375</td>\n",
       "    </tr>\n",
       "    <tr>\n",
       "      <td>3</td>\n",
       "      <td>Colombia</td>\n",
       "      <td>48922000</td>\n",
       "      <td>2780400</td>\n",
       "    </tr>\n",
       "    <tr>\n",
       "      <td>2</td>\n",
       "      <td>Espana</td>\n",
       "      <td>47099000</td>\n",
       "      <td>505944</td>\n",
       "    </tr>\n",
       "    <tr>\n",
       "      <td>0</td>\n",
       "      <td>Mexico</td>\n",
       "      <td>127212000</td>\n",
       "      <td>1142748</td>\n",
       "    </tr>\n",
       "    <tr>\n",
       "      <td>4</td>\n",
       "      <td>Venezuela</td>\n",
       "      <td>32423000</td>\n",
       "      <td>916445</td>\n",
       "    </tr>\n",
       "  </tbody>\n",
       "</table>\n",
       "</div>"
      ],
      "text/plain": [
       "        Pais  Poblacion  Superficie\n",
       "1  Argentina   45167000     1964375\n",
       "3   Colombia   48922000     2780400\n",
       "2     Espana   47099000      505944\n",
       "0     Mexico  127212000     1142748\n",
       "4  Venezuela   32423000      916445"
      ]
     },
     "execution_count": 14,
     "metadata": {},
     "output_type": "execute_result"
    }
   ],
   "source": [
    "df.at[4,'Poblacion'] = 32423000\n",
    "df"
   ]
  },
  {
   "cell_type": "markdown",
   "metadata": {},
   "source": [
    "## Eliminar una fila"
   ]
  },
  {
   "cell_type": "code",
   "execution_count": 15,
   "metadata": {
    "ExecuteTime": {
     "end_time": "2019-11-01T15:44:14.687725Z",
     "start_time": "2019-11-01T15:44:14.673498Z"
    }
   },
   "outputs": [
    {
     "data": {
      "text/html": [
       "<div>\n",
       "<style scoped>\n",
       "    .dataframe tbody tr th:only-of-type {\n",
       "        vertical-align: middle;\n",
       "    }\n",
       "\n",
       "    .dataframe tbody tr th {\n",
       "        vertical-align: top;\n",
       "    }\n",
       "\n",
       "    .dataframe thead th {\n",
       "        text-align: right;\n",
       "    }\n",
       "</style>\n",
       "<table border=\"1\" class=\"dataframe\">\n",
       "  <thead>\n",
       "    <tr style=\"text-align: right;\">\n",
       "      <th></th>\n",
       "      <th>Pais</th>\n",
       "      <th>Poblacion</th>\n",
       "      <th>Superficie</th>\n",
       "    </tr>\n",
       "  </thead>\n",
       "  <tbody>\n",
       "    <tr>\n",
       "      <td>1</td>\n",
       "      <td>Argentina</td>\n",
       "      <td>45167000</td>\n",
       "      <td>1964375</td>\n",
       "    </tr>\n",
       "    <tr>\n",
       "      <td>2</td>\n",
       "      <td>Espana</td>\n",
       "      <td>47099000</td>\n",
       "      <td>505944</td>\n",
       "    </tr>\n",
       "    <tr>\n",
       "      <td>0</td>\n",
       "      <td>Mexico</td>\n",
       "      <td>127212000</td>\n",
       "      <td>1142748</td>\n",
       "    </tr>\n",
       "    <tr>\n",
       "      <td>4</td>\n",
       "      <td>Venezuela</td>\n",
       "      <td>32423000</td>\n",
       "      <td>916445</td>\n",
       "    </tr>\n",
       "  </tbody>\n",
       "</table>\n",
       "</div>"
      ],
      "text/plain": [
       "        Pais  Poblacion  Superficie\n",
       "1  Argentina   45167000     1964375\n",
       "2     Espana   47099000      505944\n",
       "0     Mexico  127212000     1142748\n",
       "4  Venezuela   32423000      916445"
      ]
     },
     "execution_count": 15,
     "metadata": {},
     "output_type": "execute_result"
    }
   ],
   "source": [
    "df.drop([3])"
   ]
  },
  {
   "cell_type": "markdown",
   "metadata": {},
   "source": [
    "## Eliminar multiples filas"
   ]
  },
  {
   "cell_type": "code",
   "execution_count": 16,
   "metadata": {
    "ExecuteTime": {
     "end_time": "2019-11-01T15:44:14.704514Z",
     "start_time": "2019-11-01T15:44:14.690302Z"
    }
   },
   "outputs": [
    {
     "data": {
      "text/html": [
       "<div>\n",
       "<style scoped>\n",
       "    .dataframe tbody tr th:only-of-type {\n",
       "        vertical-align: middle;\n",
       "    }\n",
       "\n",
       "    .dataframe tbody tr th {\n",
       "        vertical-align: top;\n",
       "    }\n",
       "\n",
       "    .dataframe thead th {\n",
       "        text-align: right;\n",
       "    }\n",
       "</style>\n",
       "<table border=\"1\" class=\"dataframe\">\n",
       "  <thead>\n",
       "    <tr style=\"text-align: right;\">\n",
       "      <th></th>\n",
       "      <th>Pais</th>\n",
       "      <th>Poblacion</th>\n",
       "      <th>Superficie</th>\n",
       "    </tr>\n",
       "  </thead>\n",
       "  <tbody>\n",
       "    <tr>\n",
       "      <td>2</td>\n",
       "      <td>Espana</td>\n",
       "      <td>47099000</td>\n",
       "      <td>505944</td>\n",
       "    </tr>\n",
       "    <tr>\n",
       "      <td>0</td>\n",
       "      <td>Mexico</td>\n",
       "      <td>127212000</td>\n",
       "      <td>1142748</td>\n",
       "    </tr>\n",
       "    <tr>\n",
       "      <td>4</td>\n",
       "      <td>Venezuela</td>\n",
       "      <td>32423000</td>\n",
       "      <td>916445</td>\n",
       "    </tr>\n",
       "  </tbody>\n",
       "</table>\n",
       "</div>"
      ],
      "text/plain": [
       "        Pais  Poblacion  Superficie\n",
       "2     Espana   47099000      505944\n",
       "0     Mexico  127212000     1142748\n",
       "4  Venezuela   32423000      916445"
      ]
     },
     "execution_count": 16,
     "metadata": {},
     "output_type": "execute_result"
    }
   ],
   "source": [
    "df.drop([3,1])"
   ]
  },
  {
   "cell_type": "markdown",
   "metadata": {},
   "source": [
    "# Filtrar"
   ]
  },
  {
   "cell_type": "markdown",
   "metadata": {},
   "source": [
    "## Paises con mas de 46 millones de habitantes"
   ]
  },
  {
   "cell_type": "code",
   "execution_count": 17,
   "metadata": {
    "ExecuteTime": {
     "end_time": "2019-11-01T15:44:14.718480Z",
     "start_time": "2019-11-01T15:44:14.706795Z"
    }
   },
   "outputs": [
    {
     "data": {
      "text/html": [
       "<div>\n",
       "<style scoped>\n",
       "    .dataframe tbody tr th:only-of-type {\n",
       "        vertical-align: middle;\n",
       "    }\n",
       "\n",
       "    .dataframe tbody tr th {\n",
       "        vertical-align: top;\n",
       "    }\n",
       "\n",
       "    .dataframe thead th {\n",
       "        text-align: right;\n",
       "    }\n",
       "</style>\n",
       "<table border=\"1\" class=\"dataframe\">\n",
       "  <thead>\n",
       "    <tr style=\"text-align: right;\">\n",
       "      <th></th>\n",
       "      <th>Pais</th>\n",
       "      <th>Poblacion</th>\n",
       "      <th>Superficie</th>\n",
       "    </tr>\n",
       "  </thead>\n",
       "  <tbody>\n",
       "    <tr>\n",
       "      <td>3</td>\n",
       "      <td>Colombia</td>\n",
       "      <td>48922000</td>\n",
       "      <td>2780400</td>\n",
       "    </tr>\n",
       "    <tr>\n",
       "      <td>2</td>\n",
       "      <td>Espana</td>\n",
       "      <td>47099000</td>\n",
       "      <td>505944</td>\n",
       "    </tr>\n",
       "    <tr>\n",
       "      <td>0</td>\n",
       "      <td>Mexico</td>\n",
       "      <td>127212000</td>\n",
       "      <td>1142748</td>\n",
       "    </tr>\n",
       "  </tbody>\n",
       "</table>\n",
       "</div>"
      ],
      "text/plain": [
       "       Pais  Poblacion  Superficie\n",
       "3  Colombia   48922000     2780400\n",
       "2    Espana   47099000      505944\n",
       "0    Mexico  127212000     1142748"
      ]
     },
     "execution_count": 17,
     "metadata": {},
     "output_type": "execute_result"
    }
   ],
   "source": [
    "mas_de_46 = df[ df['Poblacion'] > 46000000 ]\n",
    "mas_de_46"
   ]
  },
  {
   "cell_type": "markdown",
   "metadata": {},
   "source": [
    "## Más de 46 mill y superficie menor a 600.000 Km2"
   ]
  },
  {
   "cell_type": "code",
   "execution_count": 18,
   "metadata": {
    "ExecuteTime": {
     "end_time": "2019-11-01T15:44:14.733229Z",
     "start_time": "2019-11-01T15:44:14.721385Z"
    }
   },
   "outputs": [
    {
     "data": {
      "text/html": [
       "<div>\n",
       "<style scoped>\n",
       "    .dataframe tbody tr th:only-of-type {\n",
       "        vertical-align: middle;\n",
       "    }\n",
       "\n",
       "    .dataframe tbody tr th {\n",
       "        vertical-align: top;\n",
       "    }\n",
       "\n",
       "    .dataframe thead th {\n",
       "        text-align: right;\n",
       "    }\n",
       "</style>\n",
       "<table border=\"1\" class=\"dataframe\">\n",
       "  <thead>\n",
       "    <tr style=\"text-align: right;\">\n",
       "      <th></th>\n",
       "      <th>Pais</th>\n",
       "      <th>Poblacion</th>\n",
       "      <th>Superficie</th>\n",
       "    </tr>\n",
       "  </thead>\n",
       "  <tbody>\n",
       "    <tr>\n",
       "      <td>2</td>\n",
       "      <td>Espana</td>\n",
       "      <td>47099000</td>\n",
       "      <td>505944</td>\n",
       "    </tr>\n",
       "  </tbody>\n",
       "</table>\n",
       "</div>"
      ],
      "text/plain": [
       "     Pais  Poblacion  Superficie\n",
       "2  Espana   47099000      505944"
      ]
     },
     "execution_count": 18,
     "metadata": {},
     "output_type": "execute_result"
    }
   ],
   "source": [
    "doble_filtro = df[ (df['Poblacion'] > 46000000) & (df['Superficie'] < 600000) ]\n",
    "doble_filtro"
   ]
  },
  {
   "cell_type": "markdown",
   "metadata": {},
   "source": [
    "## Busco por un valor específico"
   ]
  },
  {
   "cell_type": "code",
   "execution_count": 19,
   "metadata": {
    "ExecuteTime": {
     "end_time": "2019-11-01T15:44:14.750037Z",
     "start_time": "2019-11-01T15:44:14.735910Z"
    }
   },
   "outputs": [
    {
     "data": {
      "text/html": [
       "<div>\n",
       "<style scoped>\n",
       "    .dataframe tbody tr th:only-of-type {\n",
       "        vertical-align: middle;\n",
       "    }\n",
       "\n",
       "    .dataframe tbody tr th {\n",
       "        vertical-align: top;\n",
       "    }\n",
       "\n",
       "    .dataframe thead th {\n",
       "        text-align: right;\n",
       "    }\n",
       "</style>\n",
       "<table border=\"1\" class=\"dataframe\">\n",
       "  <thead>\n",
       "    <tr style=\"text-align: right;\">\n",
       "      <th></th>\n",
       "      <th>Pais</th>\n",
       "      <th>Poblacion</th>\n",
       "      <th>Superficie</th>\n",
       "    </tr>\n",
       "  </thead>\n",
       "  <tbody>\n",
       "    <tr>\n",
       "      <td>3</td>\n",
       "      <td>Colombia</td>\n",
       "      <td>48922000</td>\n",
       "      <td>2780400</td>\n",
       "    </tr>\n",
       "  </tbody>\n",
       "</table>\n",
       "</div>"
      ],
      "text/plain": [
       "       Pais  Poblacion  Superficie\n",
       "3  Colombia   48922000     2780400"
      ]
     },
     "execution_count": 19,
     "metadata": {},
     "output_type": "execute_result"
    }
   ],
   "source": [
    "por_nombre = df[ df['Pais'] == 'Colombia' ]\n",
    "por_nombre"
   ]
  },
  {
   "cell_type": "markdown",
   "metadata": {},
   "source": [
    "## Paises con nombre mayor a 6 letras"
   ]
  },
  {
   "cell_type": "code",
   "execution_count": 20,
   "metadata": {
    "ExecuteTime": {
     "end_time": "2019-11-01T15:44:14.768810Z",
     "start_time": "2019-11-01T15:44:14.752716Z"
    }
   },
   "outputs": [
    {
     "data": {
      "text/html": [
       "<div>\n",
       "<style scoped>\n",
       "    .dataframe tbody tr th:only-of-type {\n",
       "        vertical-align: middle;\n",
       "    }\n",
       "\n",
       "    .dataframe tbody tr th {\n",
       "        vertical-align: top;\n",
       "    }\n",
       "\n",
       "    .dataframe thead th {\n",
       "        text-align: right;\n",
       "    }\n",
       "</style>\n",
       "<table border=\"1\" class=\"dataframe\">\n",
       "  <thead>\n",
       "    <tr style=\"text-align: right;\">\n",
       "      <th></th>\n",
       "      <th>Pais</th>\n",
       "      <th>Poblacion</th>\n",
       "      <th>Superficie</th>\n",
       "    </tr>\n",
       "  </thead>\n",
       "  <tbody>\n",
       "    <tr>\n",
       "      <td>1</td>\n",
       "      <td>Argentina</td>\n",
       "      <td>45167000</td>\n",
       "      <td>1964375</td>\n",
       "    </tr>\n",
       "    <tr>\n",
       "      <td>3</td>\n",
       "      <td>Colombia</td>\n",
       "      <td>48922000</td>\n",
       "      <td>2780400</td>\n",
       "    </tr>\n",
       "    <tr>\n",
       "      <td>4</td>\n",
       "      <td>Venezuela</td>\n",
       "      <td>32423000</td>\n",
       "      <td>916445</td>\n",
       "    </tr>\n",
       "  </tbody>\n",
       "</table>\n",
       "</div>"
      ],
      "text/plain": [
       "        Pais  Poblacion  Superficie\n",
       "1  Argentina   45167000     1964375\n",
       "3   Colombia   48922000     2780400\n",
       "4  Venezuela   32423000      916445"
      ]
     },
     "execution_count": 20,
     "metadata": {},
     "output_type": "execute_result"
    }
   ],
   "source": [
    "nombre_largo = df[ df['Pais'].str.len() > 6 ]\n",
    "nombre_largo"
   ]
  },
  {
   "cell_type": "markdown",
   "metadata": {},
   "source": [
    "### Filtrar por True/False"
   ]
  },
  {
   "cell_type": "code",
   "execution_count": 21,
   "metadata": {
    "ExecuteTime": {
     "end_time": "2019-11-01T15:44:14.783588Z",
     "start_time": "2019-11-01T15:44:14.771849Z"
    }
   },
   "outputs": [
    {
     "data": {
      "text/html": [
       "<div>\n",
       "<style scoped>\n",
       "    .dataframe tbody tr th:only-of-type {\n",
       "        vertical-align: middle;\n",
       "    }\n",
       "\n",
       "    .dataframe tbody tr th {\n",
       "        vertical-align: top;\n",
       "    }\n",
       "\n",
       "    .dataframe thead th {\n",
       "        text-align: right;\n",
       "    }\n",
       "</style>\n",
       "<table border=\"1\" class=\"dataframe\">\n",
       "  <thead>\n",
       "    <tr style=\"text-align: right;\">\n",
       "      <th></th>\n",
       "      <th>Pais</th>\n",
       "      <th>Poblacion</th>\n",
       "      <th>Superficie</th>\n",
       "    </tr>\n",
       "  </thead>\n",
       "  <tbody>\n",
       "    <tr>\n",
       "      <td>1</td>\n",
       "      <td>Argentina</td>\n",
       "      <td>45167000</td>\n",
       "      <td>1964375</td>\n",
       "    </tr>\n",
       "    <tr>\n",
       "      <td>4</td>\n",
       "      <td>Venezuela</td>\n",
       "      <td>32423000</td>\n",
       "      <td>916445</td>\n",
       "    </tr>\n",
       "  </tbody>\n",
       "</table>\n",
       "</div>"
      ],
      "text/plain": [
       "        Pais  Poblacion  Superficie\n",
       "1  Argentina   45167000     1964375\n",
       "4  Venezuela   32423000      916445"
      ]
     },
     "execution_count": 21,
     "metadata": {},
     "output_type": "execute_result"
    }
   ],
   "source": [
    "arreglo = [True,False,False,False,True] # Esto es lo que realmente hacemos en los casos anteriores!\n",
    "df[arreglo]"
   ]
  },
  {
   "cell_type": "markdown",
   "metadata": {},
   "source": [
    "## Obtener el indice de una fila"
   ]
  },
  {
   "cell_type": "code",
   "execution_count": 71,
   "metadata": {
    "ExecuteTime": {
     "end_time": "2019-11-01T16:06:11.395330Z",
     "start_time": "2019-11-01T16:06:11.388462Z"
    }
   },
   "outputs": [
    {
     "data": {
      "text/plain": [
       "3"
      ]
     },
     "execution_count": 71,
     "metadata": {},
     "output_type": "execute_result"
    }
   ],
   "source": [
    "por_nombre = df[ df['Pais'] == 'Colombia' ]\n",
    "por_nombre.index.tolist()[0]"
   ]
  },
  {
   "cell_type": "markdown",
   "metadata": {},
   "source": [
    "# Aplicar operaciones entre columnas"
   ]
  },
  {
   "cell_type": "code",
   "execution_count": 22,
   "metadata": {
    "ExecuteTime": {
     "end_time": "2019-11-01T15:44:14.802908Z",
     "start_time": "2019-11-01T15:44:14.786471Z"
    }
   },
   "outputs": [
    {
     "data": {
      "text/html": [
       "<div>\n",
       "<style scoped>\n",
       "    .dataframe tbody tr th:only-of-type {\n",
       "        vertical-align: middle;\n",
       "    }\n",
       "\n",
       "    .dataframe tbody tr th {\n",
       "        vertical-align: top;\n",
       "    }\n",
       "\n",
       "    .dataframe thead th {\n",
       "        text-align: right;\n",
       "    }\n",
       "</style>\n",
       "<table border=\"1\" class=\"dataframe\">\n",
       "  <thead>\n",
       "    <tr style=\"text-align: right;\">\n",
       "      <th></th>\n",
       "      <th>Pais</th>\n",
       "      <th>Poblacion</th>\n",
       "      <th>Superficie</th>\n",
       "      <th>Habit_x_km2</th>\n",
       "    </tr>\n",
       "  </thead>\n",
       "  <tbody>\n",
       "    <tr>\n",
       "      <td>3</td>\n",
       "      <td>Colombia</td>\n",
       "      <td>48922000</td>\n",
       "      <td>2780400</td>\n",
       "      <td>17</td>\n",
       "    </tr>\n",
       "    <tr>\n",
       "      <td>1</td>\n",
       "      <td>Argentina</td>\n",
       "      <td>45167000</td>\n",
       "      <td>1964375</td>\n",
       "      <td>22</td>\n",
       "    </tr>\n",
       "    <tr>\n",
       "      <td>4</td>\n",
       "      <td>Venezuela</td>\n",
       "      <td>32423000</td>\n",
       "      <td>916445</td>\n",
       "      <td>35</td>\n",
       "    </tr>\n",
       "    <tr>\n",
       "      <td>2</td>\n",
       "      <td>Espana</td>\n",
       "      <td>47099000</td>\n",
       "      <td>505944</td>\n",
       "      <td>93</td>\n",
       "    </tr>\n",
       "    <tr>\n",
       "      <td>0</td>\n",
       "      <td>Mexico</td>\n",
       "      <td>127212000</td>\n",
       "      <td>1142748</td>\n",
       "      <td>111</td>\n",
       "    </tr>\n",
       "  </tbody>\n",
       "</table>\n",
       "</div>"
      ],
      "text/plain": [
       "        Pais  Poblacion  Superficie  Habit_x_km2\n",
       "3   Colombia   48922000     2780400           17\n",
       "1  Argentina   45167000     1964375           22\n",
       "4  Venezuela   32423000      916445           35\n",
       "2     Espana   47099000      505944           93\n",
       "0     Mexico  127212000     1142748          111"
      ]
     },
     "execution_count": 22,
     "metadata": {},
     "output_type": "execute_result"
    }
   ],
   "source": [
    "# agregamos en una nueva columna el ratio de habitantes por superficie\n",
    "df['Habit_x_km2'] = (df['Poblacion'] / df['Superficie']).astype(int)\n",
    "df.sort_values(['Habit_x_km2'])"
   ]
  },
  {
   "cell_type": "markdown",
   "metadata": {},
   "source": [
    "## Aplicar una operacion definida"
   ]
  },
  {
   "cell_type": "code",
   "execution_count": 23,
   "metadata": {
    "ExecuteTime": {
     "end_time": "2019-11-01T15:44:14.813306Z",
     "start_time": "2019-11-01T15:44:14.808267Z"
    }
   },
   "outputs": [],
   "source": [
    "def crear_codigo(name):\n",
    "    name = name.upper() # paso a mayusculas\n",
    "    name = name[0:4]    # primeros 4 char\n",
    "    return name\n"
   ]
  },
  {
   "cell_type": "markdown",
   "metadata": {},
   "source": [
    "### aplicamos usando 1 columna"
   ]
  },
  {
   "cell_type": "code",
   "execution_count": 24,
   "metadata": {
    "ExecuteTime": {
     "end_time": "2019-11-01T15:44:14.836817Z",
     "start_time": "2019-11-01T15:44:14.819827Z"
    }
   },
   "outputs": [
    {
     "data": {
      "text/html": [
       "<div>\n",
       "<style scoped>\n",
       "    .dataframe tbody tr th:only-of-type {\n",
       "        vertical-align: middle;\n",
       "    }\n",
       "\n",
       "    .dataframe tbody tr th {\n",
       "        vertical-align: top;\n",
       "    }\n",
       "\n",
       "    .dataframe thead th {\n",
       "        text-align: right;\n",
       "    }\n",
       "</style>\n",
       "<table border=\"1\" class=\"dataframe\">\n",
       "  <thead>\n",
       "    <tr style=\"text-align: right;\">\n",
       "      <th></th>\n",
       "      <th>Pais</th>\n",
       "      <th>Poblacion</th>\n",
       "      <th>Superficie</th>\n",
       "      <th>Habit_x_km2</th>\n",
       "      <th>Codigo</th>\n",
       "    </tr>\n",
       "  </thead>\n",
       "  <tbody>\n",
       "    <tr>\n",
       "      <td>1</td>\n",
       "      <td>Argentina</td>\n",
       "      <td>45167000</td>\n",
       "      <td>1964375</td>\n",
       "      <td>22</td>\n",
       "      <td>ARGE</td>\n",
       "    </tr>\n",
       "    <tr>\n",
       "      <td>3</td>\n",
       "      <td>Colombia</td>\n",
       "      <td>48922000</td>\n",
       "      <td>2780400</td>\n",
       "      <td>17</td>\n",
       "      <td>COLO</td>\n",
       "    </tr>\n",
       "    <tr>\n",
       "      <td>2</td>\n",
       "      <td>Espana</td>\n",
       "      <td>47099000</td>\n",
       "      <td>505944</td>\n",
       "      <td>93</td>\n",
       "      <td>ESPA</td>\n",
       "    </tr>\n",
       "    <tr>\n",
       "      <td>0</td>\n",
       "      <td>Mexico</td>\n",
       "      <td>127212000</td>\n",
       "      <td>1142748</td>\n",
       "      <td>111</td>\n",
       "      <td>MEXI</td>\n",
       "    </tr>\n",
       "    <tr>\n",
       "      <td>4</td>\n",
       "      <td>Venezuela</td>\n",
       "      <td>32423000</td>\n",
       "      <td>916445</td>\n",
       "      <td>35</td>\n",
       "      <td>VENE</td>\n",
       "    </tr>\n",
       "  </tbody>\n",
       "</table>\n",
       "</div>"
      ],
      "text/plain": [
       "        Pais  Poblacion  Superficie  Habit_x_km2 Codigo\n",
       "1  Argentina   45167000     1964375           22   ARGE\n",
       "3   Colombia   48922000     2780400           17   COLO\n",
       "2     Espana   47099000      505944           93   ESPA\n",
       "0     Mexico  127212000     1142748          111   MEXI\n",
       "4  Venezuela   32423000      916445           35   VENE"
      ]
     },
     "execution_count": 24,
     "metadata": {},
     "output_type": "execute_result"
    }
   ],
   "source": [
    "df['Codigo'] = df['Pais'].apply(crear_codigo)\n",
    "df"
   ]
  },
  {
   "cell_type": "markdown",
   "metadata": {},
   "source": [
    "### Aplicamos una función enviando cada fila (todas las columnas)"
   ]
  },
  {
   "cell_type": "code",
   "execution_count": 25,
   "metadata": {
    "ExecuteTime": {
     "end_time": "2019-11-01T15:44:14.865479Z",
     "start_time": "2019-11-01T15:44:14.839881Z"
    }
   },
   "outputs": [
    {
     "data": {
      "text/html": [
       "<div>\n",
       "<style scoped>\n",
       "    .dataframe tbody tr th:only-of-type {\n",
       "        vertical-align: middle;\n",
       "    }\n",
       "\n",
       "    .dataframe tbody tr th {\n",
       "        vertical-align: top;\n",
       "    }\n",
       "\n",
       "    .dataframe thead th {\n",
       "        text-align: right;\n",
       "    }\n",
       "</style>\n",
       "<table border=\"1\" class=\"dataframe\">\n",
       "  <thead>\n",
       "    <tr style=\"text-align: right;\">\n",
       "      <th></th>\n",
       "      <th>Pais</th>\n",
       "      <th>Poblacion</th>\n",
       "      <th>Superficie</th>\n",
       "      <th>Habit_x_km2</th>\n",
       "      <th>Codigo</th>\n",
       "      <th>Categoria</th>\n",
       "    </tr>\n",
       "  </thead>\n",
       "  <tbody>\n",
       "    <tr>\n",
       "      <td>1</td>\n",
       "      <td>Argentina</td>\n",
       "      <td>45167000</td>\n",
       "      <td>1964375</td>\n",
       "      <td>22</td>\n",
       "      <td>ARGE</td>\n",
       "      <td>C</td>\n",
       "    </tr>\n",
       "    <tr>\n",
       "      <td>3</td>\n",
       "      <td>Colombia</td>\n",
       "      <td>48922000</td>\n",
       "      <td>2780400</td>\n",
       "      <td>17</td>\n",
       "      <td>COLO</td>\n",
       "      <td>A</td>\n",
       "    </tr>\n",
       "    <tr>\n",
       "      <td>2</td>\n",
       "      <td>Espana</td>\n",
       "      <td>47099000</td>\n",
       "      <td>505944</td>\n",
       "      <td>93</td>\n",
       "      <td>ESPA</td>\n",
       "      <td>B</td>\n",
       "    </tr>\n",
       "    <tr>\n",
       "      <td>0</td>\n",
       "      <td>Mexico</td>\n",
       "      <td>127212000</td>\n",
       "      <td>1142748</td>\n",
       "      <td>111</td>\n",
       "      <td>MEXI</td>\n",
       "      <td>B</td>\n",
       "    </tr>\n",
       "    <tr>\n",
       "      <td>4</td>\n",
       "      <td>Venezuela</td>\n",
       "      <td>32423000</td>\n",
       "      <td>916445</td>\n",
       "      <td>35</td>\n",
       "      <td>VENE</td>\n",
       "      <td>C</td>\n",
       "    </tr>\n",
       "  </tbody>\n",
       "</table>\n",
       "</div>"
      ],
      "text/plain": [
       "        Pais  Poblacion  Superficie  Habit_x_km2 Codigo Categoria\n",
       "1  Argentina   45167000     1964375           22   ARGE         C\n",
       "3   Colombia   48922000     2780400           17   COLO         A\n",
       "2     Espana   47099000      505944           93   ESPA         B\n",
       "0     Mexico  127212000     1142748          111   MEXI         B\n",
       "4  Venezuela   32423000      916445           35   VENE         C"
      ]
     },
     "execution_count": 25,
     "metadata": {},
     "output_type": "execute_result"
    }
   ],
   "source": [
    "def categoria(fila):\n",
    "    pob = fila['Poblacion']\n",
    "    habit = fila['Habit_x_km2']\n",
    "    if pob > 46000000:\n",
    "        if habit <50:\n",
    "            return 'A'\n",
    "        else:\n",
    "            return 'B'\n",
    "        \n",
    "    return 'C'\n",
    "\n",
    "df['Categoria'] = df.apply(categoria, axis=1)\n",
    "df"
   ]
  },
  {
   "cell_type": "markdown",
   "metadata": {},
   "source": [
    "### Aplicar enviando algunas columnas como parámetros"
   ]
  },
  {
   "cell_type": "code",
   "execution_count": 26,
   "metadata": {
    "ExecuteTime": {
     "end_time": "2019-11-01T15:44:14.893419Z",
     "start_time": "2019-11-01T15:44:14.867583Z"
    }
   },
   "outputs": [
    {
     "data": {
      "text/html": [
       "<div>\n",
       "<style scoped>\n",
       "    .dataframe tbody tr th:only-of-type {\n",
       "        vertical-align: middle;\n",
       "    }\n",
       "\n",
       "    .dataframe tbody tr th {\n",
       "        vertical-align: top;\n",
       "    }\n",
       "\n",
       "    .dataframe thead th {\n",
       "        text-align: right;\n",
       "    }\n",
       "</style>\n",
       "<table border=\"1\" class=\"dataframe\">\n",
       "  <thead>\n",
       "    <tr style=\"text-align: right;\">\n",
       "      <th></th>\n",
       "      <th>Pais</th>\n",
       "      <th>Poblacion</th>\n",
       "      <th>Superficie</th>\n",
       "      <th>Habit_x_km2</th>\n",
       "      <th>Codigo</th>\n",
       "      <th>Categoria</th>\n",
       "      <th>color</th>\n",
       "    </tr>\n",
       "  </thead>\n",
       "  <tbody>\n",
       "    <tr>\n",
       "      <td>1</td>\n",
       "      <td>Argentina</td>\n",
       "      <td>45167000</td>\n",
       "      <td>1964375</td>\n",
       "      <td>22</td>\n",
       "      <td>ARGE</td>\n",
       "      <td>C</td>\n",
       "      <td>azul</td>\n",
       "    </tr>\n",
       "    <tr>\n",
       "      <td>3</td>\n",
       "      <td>Colombia</td>\n",
       "      <td>48922000</td>\n",
       "      <td>2780400</td>\n",
       "      <td>17</td>\n",
       "      <td>COLO</td>\n",
       "      <td>A</td>\n",
       "      <td>rojo</td>\n",
       "    </tr>\n",
       "    <tr>\n",
       "      <td>2</td>\n",
       "      <td>Espana</td>\n",
       "      <td>47099000</td>\n",
       "      <td>505944</td>\n",
       "      <td>93</td>\n",
       "      <td>ESPA</td>\n",
       "      <td>B</td>\n",
       "      <td>verde</td>\n",
       "    </tr>\n",
       "    <tr>\n",
       "      <td>0</td>\n",
       "      <td>Mexico</td>\n",
       "      <td>127212000</td>\n",
       "      <td>1142748</td>\n",
       "      <td>111</td>\n",
       "      <td>MEXI</td>\n",
       "      <td>B</td>\n",
       "      <td>azul</td>\n",
       "    </tr>\n",
       "    <tr>\n",
       "      <td>4</td>\n",
       "      <td>Venezuela</td>\n",
       "      <td>32423000</td>\n",
       "      <td>916445</td>\n",
       "      <td>35</td>\n",
       "      <td>VENE</td>\n",
       "      <td>C</td>\n",
       "      <td>azul</td>\n",
       "    </tr>\n",
       "  </tbody>\n",
       "</table>\n",
       "</div>"
      ],
      "text/plain": [
       "        Pais  Poblacion  Superficie  Habit_x_km2 Codigo Categoria  color\n",
       "1  Argentina   45167000     1964375           22   ARGE         C   azul\n",
       "3   Colombia   48922000     2780400           17   COLO         A   rojo\n",
       "2     Espana   47099000      505944           93   ESPA         B  verde\n",
       "0     Mexico  127212000     1142748          111   MEXI         B   azul\n",
       "4  Venezuela   32423000      916445           35   VENE         C   azul"
      ]
     },
     "execution_count": 26,
     "metadata": {},
     "output_type": "execute_result"
    }
   ],
   "source": [
    "def asigna_color(codigo, categoria):\n",
    "    if categoria=='A':\n",
    "        return 'rojo'\n",
    "    if codigo == 'ESPA':\n",
    "        return 'verde'\n",
    "    return 'azul'\n",
    "\n",
    "df['color'] = df.apply(lambda x: asigna_color(x['Codigo'],x['Categoria']), axis=1);\n",
    "df"
   ]
  },
  {
   "cell_type": "markdown",
   "metadata": {},
   "source": [
    "### Mapeo"
   ]
  },
  {
   "cell_type": "code",
   "execution_count": 27,
   "metadata": {
    "ExecuteTime": {
     "end_time": "2019-11-01T15:44:14.912983Z",
     "start_time": "2019-11-01T15:44:14.896382Z"
    }
   },
   "outputs": [
    {
     "data": {
      "text/html": [
       "<div>\n",
       "<style scoped>\n",
       "    .dataframe tbody tr th:only-of-type {\n",
       "        vertical-align: middle;\n",
       "    }\n",
       "\n",
       "    .dataframe tbody tr th {\n",
       "        vertical-align: top;\n",
       "    }\n",
       "\n",
       "    .dataframe thead th {\n",
       "        text-align: right;\n",
       "    }\n",
       "</style>\n",
       "<table border=\"1\" class=\"dataframe\">\n",
       "  <thead>\n",
       "    <tr style=\"text-align: right;\">\n",
       "      <th></th>\n",
       "      <th>Pais</th>\n",
       "      <th>Poblacion</th>\n",
       "      <th>Superficie</th>\n",
       "      <th>Habit_x_km2</th>\n",
       "      <th>Codigo</th>\n",
       "      <th>Categoria</th>\n",
       "      <th>color</th>\n",
       "      <th>mapeo_color</th>\n",
       "    </tr>\n",
       "  </thead>\n",
       "  <tbody>\n",
       "    <tr>\n",
       "      <td>1</td>\n",
       "      <td>Argentina</td>\n",
       "      <td>45167000</td>\n",
       "      <td>1964375</td>\n",
       "      <td>22</td>\n",
       "      <td>ARGE</td>\n",
       "      <td>C</td>\n",
       "      <td>azul</td>\n",
       "      <td>0</td>\n",
       "    </tr>\n",
       "    <tr>\n",
       "      <td>3</td>\n",
       "      <td>Colombia</td>\n",
       "      <td>48922000</td>\n",
       "      <td>2780400</td>\n",
       "      <td>17</td>\n",
       "      <td>COLO</td>\n",
       "      <td>A</td>\n",
       "      <td>rojo</td>\n",
       "      <td>1</td>\n",
       "    </tr>\n",
       "    <tr>\n",
       "      <td>2</td>\n",
       "      <td>Espana</td>\n",
       "      <td>47099000</td>\n",
       "      <td>505944</td>\n",
       "      <td>93</td>\n",
       "      <td>ESPA</td>\n",
       "      <td>B</td>\n",
       "      <td>verde</td>\n",
       "      <td>2</td>\n",
       "    </tr>\n",
       "    <tr>\n",
       "      <td>0</td>\n",
       "      <td>Mexico</td>\n",
       "      <td>127212000</td>\n",
       "      <td>1142748</td>\n",
       "      <td>111</td>\n",
       "      <td>MEXI</td>\n",
       "      <td>B</td>\n",
       "      <td>azul</td>\n",
       "      <td>0</td>\n",
       "    </tr>\n",
       "    <tr>\n",
       "      <td>4</td>\n",
       "      <td>Venezuela</td>\n",
       "      <td>32423000</td>\n",
       "      <td>916445</td>\n",
       "      <td>35</td>\n",
       "      <td>VENE</td>\n",
       "      <td>C</td>\n",
       "      <td>azul</td>\n",
       "      <td>0</td>\n",
       "    </tr>\n",
       "  </tbody>\n",
       "</table>\n",
       "</div>"
      ],
      "text/plain": [
       "        Pais  Poblacion  Superficie  Habit_x_km2 Codigo Categoria  color  \\\n",
       "1  Argentina   45167000     1964375           22   ARGE         C   azul   \n",
       "3   Colombia   48922000     2780400           17   COLO         A   rojo   \n",
       "2     Espana   47099000      505944           93   ESPA         B  verde   \n",
       "0     Mexico  127212000     1142748          111   MEXI         B   azul   \n",
       "4  Venezuela   32423000      916445           35   VENE         C   azul   \n",
       "\n",
       "   mapeo_color  \n",
       "1            0  \n",
       "3            1  \n",
       "2            2  \n",
       "0            0  \n",
       "4            0  "
      ]
     },
     "execution_count": 27,
     "metadata": {},
     "output_type": "execute_result"
    }
   ],
   "source": [
    "df['mapeo_color'] = df['color'].map( {'azul': 0, 'rojo': 1, 'verde': 2} ).astype(int)\n",
    "df"
   ]
  },
  {
   "cell_type": "markdown",
   "metadata": {},
   "source": [
    "# Reordenamos columnas"
   ]
  },
  {
   "cell_type": "code",
   "execution_count": 28,
   "metadata": {
    "ExecuteTime": {
     "end_time": "2019-11-01T15:44:14.934899Z",
     "start_time": "2019-11-01T15:44:14.916339Z"
    }
   },
   "outputs": [
    {
     "data": {
      "text/html": [
       "<div>\n",
       "<style scoped>\n",
       "    .dataframe tbody tr th:only-of-type {\n",
       "        vertical-align: middle;\n",
       "    }\n",
       "\n",
       "    .dataframe tbody tr th {\n",
       "        vertical-align: top;\n",
       "    }\n",
       "\n",
       "    .dataframe thead th {\n",
       "        text-align: right;\n",
       "    }\n",
       "</style>\n",
       "<table border=\"1\" class=\"dataframe\">\n",
       "  <thead>\n",
       "    <tr style=\"text-align: right;\">\n",
       "      <th></th>\n",
       "      <th>Codigo</th>\n",
       "      <th>Pais</th>\n",
       "      <th>Poblacion</th>\n",
       "      <th>Categoria</th>\n",
       "      <th>Superficie</th>\n",
       "      <th>Habit_x_km2</th>\n",
       "    </tr>\n",
       "  </thead>\n",
       "  <tbody>\n",
       "    <tr>\n",
       "      <td>1</td>\n",
       "      <td>ARGE</td>\n",
       "      <td>Argentina</td>\n",
       "      <td>45167000</td>\n",
       "      <td>C</td>\n",
       "      <td>1964375</td>\n",
       "      <td>22</td>\n",
       "    </tr>\n",
       "    <tr>\n",
       "      <td>3</td>\n",
       "      <td>COLO</td>\n",
       "      <td>Colombia</td>\n",
       "      <td>48922000</td>\n",
       "      <td>A</td>\n",
       "      <td>2780400</td>\n",
       "      <td>17</td>\n",
       "    </tr>\n",
       "    <tr>\n",
       "      <td>2</td>\n",
       "      <td>ESPA</td>\n",
       "      <td>Espana</td>\n",
       "      <td>47099000</td>\n",
       "      <td>B</td>\n",
       "      <td>505944</td>\n",
       "      <td>93</td>\n",
       "    </tr>\n",
       "    <tr>\n",
       "      <td>0</td>\n",
       "      <td>MEXI</td>\n",
       "      <td>Mexico</td>\n",
       "      <td>127212000</td>\n",
       "      <td>B</td>\n",
       "      <td>1142748</td>\n",
       "      <td>111</td>\n",
       "    </tr>\n",
       "    <tr>\n",
       "      <td>4</td>\n",
       "      <td>VENE</td>\n",
       "      <td>Venezuela</td>\n",
       "      <td>32423000</td>\n",
       "      <td>C</td>\n",
       "      <td>916445</td>\n",
       "      <td>35</td>\n",
       "    </tr>\n",
       "  </tbody>\n",
       "</table>\n",
       "</div>"
      ],
      "text/plain": [
       "  Codigo       Pais  Poblacion Categoria  Superficie  Habit_x_km2\n",
       "1   ARGE  Argentina   45167000         C     1964375           22\n",
       "3   COLO   Colombia   48922000         A     2780400           17\n",
       "2   ESPA     Espana   47099000         B      505944           93\n",
       "0   MEXI     Mexico  127212000         B     1142748          111\n",
       "4   VENE  Venezuela   32423000         C      916445           35"
      ]
     },
     "execution_count": 28,
     "metadata": {},
     "output_type": "execute_result"
    }
   ],
   "source": [
    "df = df[ ['Codigo','Pais','Poblacion','Categoria','Superficie','Habit_x_km2'] ]\n",
    "df"
   ]
  },
  {
   "cell_type": "markdown",
   "metadata": {},
   "source": [
    "# Join entre tablas"
   ]
  },
  {
   "cell_type": "markdown",
   "metadata": {},
   "source": [
    "## Concat usando indice"
   ]
  },
  {
   "cell_type": "code",
   "execution_count": 29,
   "metadata": {
    "ExecuteTime": {
     "end_time": "2019-11-01T15:44:14.952745Z",
     "start_time": "2019-11-01T15:44:14.937961Z"
    }
   },
   "outputs": [
    {
     "data": {
      "text/html": [
       "<div>\n",
       "<style scoped>\n",
       "    .dataframe tbody tr th:only-of-type {\n",
       "        vertical-align: middle;\n",
       "    }\n",
       "\n",
       "    .dataframe tbody tr th {\n",
       "        vertical-align: top;\n",
       "    }\n",
       "\n",
       "    .dataframe thead th {\n",
       "        text-align: right;\n",
       "    }\n",
       "</style>\n",
       "<table border=\"1\" class=\"dataframe\">\n",
       "  <thead>\n",
       "    <tr style=\"text-align: right;\">\n",
       "      <th></th>\n",
       "      <th>Comida</th>\n",
       "    </tr>\n",
       "  </thead>\n",
       "  <tbody>\n",
       "    <tr>\n",
       "      <td>MEXI</td>\n",
       "      <td>Burritos</td>\n",
       "    </tr>\n",
       "    <tr>\n",
       "      <td>ARGE</td>\n",
       "      <td>Milanesa</td>\n",
       "    </tr>\n",
       "    <tr>\n",
       "      <td>ESPA</td>\n",
       "      <td>Tortilla</td>\n",
       "    </tr>\n",
       "    <tr>\n",
       "      <td>COLO</td>\n",
       "      <td>Sancocho</td>\n",
       "    </tr>\n",
       "    <tr>\n",
       "      <td>VENE</td>\n",
       "      <td>Arepas</td>\n",
       "    </tr>\n",
       "  </tbody>\n",
       "</table>\n",
       "</div>"
      ],
      "text/plain": [
       "        Comida\n",
       "MEXI  Burritos\n",
       "ARGE  Milanesa\n",
       "ESPA  Tortilla\n",
       "COLO  Sancocho\n",
       "VENE    Arepas"
      ]
     },
     "execution_count": 29,
     "metadata": {},
     "output_type": "execute_result"
    }
   ],
   "source": [
    "# Creamos un DF nuevo, le asignamos el Codigo como identificador único\n",
    "df_comida = pd.DataFrame(data={\n",
    "                        \"Comida\":['Burritos', 'Milanesa', 'Tortilla', 'Sancocho','Arepas']},\n",
    "                        index = ['MEXI','ARGE','ESPA','COLO','VENE'])\n",
    "df_comida"
   ]
  },
  {
   "cell_type": "code",
   "execution_count": 30,
   "metadata": {
    "ExecuteTime": {
     "end_time": "2019-11-01T15:44:14.973063Z",
     "start_time": "2019-11-01T15:44:14.955356Z"
    }
   },
   "outputs": [
    {
     "data": {
      "text/html": [
       "<div>\n",
       "<style scoped>\n",
       "    .dataframe tbody tr th:only-of-type {\n",
       "        vertical-align: middle;\n",
       "    }\n",
       "\n",
       "    .dataframe tbody tr th {\n",
       "        vertical-align: top;\n",
       "    }\n",
       "\n",
       "    .dataframe thead th {\n",
       "        text-align: right;\n",
       "    }\n",
       "</style>\n",
       "<table border=\"1\" class=\"dataframe\">\n",
       "  <thead>\n",
       "    <tr style=\"text-align: right;\">\n",
       "      <th></th>\n",
       "      <th>Pais</th>\n",
       "      <th>Poblacion</th>\n",
       "      <th>Categoria</th>\n",
       "      <th>Superficie</th>\n",
       "      <th>Habit_x_km2</th>\n",
       "    </tr>\n",
       "    <tr>\n",
       "      <th>Codigo</th>\n",
       "      <th></th>\n",
       "      <th></th>\n",
       "      <th></th>\n",
       "      <th></th>\n",
       "      <th></th>\n",
       "    </tr>\n",
       "  </thead>\n",
       "  <tbody>\n",
       "    <tr>\n",
       "      <td>ARGE</td>\n",
       "      <td>Argentina</td>\n",
       "      <td>45167000</td>\n",
       "      <td>C</td>\n",
       "      <td>1964375</td>\n",
       "      <td>22</td>\n",
       "    </tr>\n",
       "    <tr>\n",
       "      <td>COLO</td>\n",
       "      <td>Colombia</td>\n",
       "      <td>48922000</td>\n",
       "      <td>A</td>\n",
       "      <td>2780400</td>\n",
       "      <td>17</td>\n",
       "    </tr>\n",
       "    <tr>\n",
       "      <td>ESPA</td>\n",
       "      <td>Espana</td>\n",
       "      <td>47099000</td>\n",
       "      <td>B</td>\n",
       "      <td>505944</td>\n",
       "      <td>93</td>\n",
       "    </tr>\n",
       "    <tr>\n",
       "      <td>MEXI</td>\n",
       "      <td>Mexico</td>\n",
       "      <td>127212000</td>\n",
       "      <td>B</td>\n",
       "      <td>1142748</td>\n",
       "      <td>111</td>\n",
       "    </tr>\n",
       "    <tr>\n",
       "      <td>VENE</td>\n",
       "      <td>Venezuela</td>\n",
       "      <td>32423000</td>\n",
       "      <td>C</td>\n",
       "      <td>916445</td>\n",
       "      <td>35</td>\n",
       "    </tr>\n",
       "  </tbody>\n",
       "</table>\n",
       "</div>"
      ],
      "text/plain": [
       "             Pais  Poblacion Categoria  Superficie  Habit_x_km2\n",
       "Codigo                                                         \n",
       "ARGE    Argentina   45167000         C     1964375           22\n",
       "COLO     Colombia   48922000         A     2780400           17\n",
       "ESPA       Espana   47099000         B      505944           93\n",
       "MEXI       Mexico  127212000         B     1142748          111\n",
       "VENE    Venezuela   32423000         C      916445           35"
      ]
     },
     "execution_count": 30,
     "metadata": {},
     "output_type": "execute_result"
    }
   ],
   "source": [
    "#asignamos indice en nuestro DF inicial\n",
    "df_index = df.set_index('Codigo')\n",
    "df_index"
   ]
  },
  {
   "cell_type": "code",
   "execution_count": 31,
   "metadata": {
    "ExecuteTime": {
     "end_time": "2019-11-01T15:44:14.995530Z",
     "start_time": "2019-11-01T15:44:14.979854Z"
    }
   },
   "outputs": [
    {
     "data": {
      "text/html": [
       "<div>\n",
       "<style scoped>\n",
       "    .dataframe tbody tr th:only-of-type {\n",
       "        vertical-align: middle;\n",
       "    }\n",
       "\n",
       "    .dataframe tbody tr th {\n",
       "        vertical-align: top;\n",
       "    }\n",
       "\n",
       "    .dataframe thead th {\n",
       "        text-align: right;\n",
       "    }\n",
       "</style>\n",
       "<table border=\"1\" class=\"dataframe\">\n",
       "  <thead>\n",
       "    <tr style=\"text-align: right;\">\n",
       "      <th></th>\n",
       "      <th>Pais</th>\n",
       "      <th>Poblacion</th>\n",
       "      <th>Categoria</th>\n",
       "      <th>Superficie</th>\n",
       "      <th>Habit_x_km2</th>\n",
       "      <th>Comida</th>\n",
       "    </tr>\n",
       "  </thead>\n",
       "  <tbody>\n",
       "    <tr>\n",
       "      <td>ARGE</td>\n",
       "      <td>Argentina</td>\n",
       "      <td>45167000</td>\n",
       "      <td>C</td>\n",
       "      <td>1964375</td>\n",
       "      <td>22</td>\n",
       "      <td>Milanesa</td>\n",
       "    </tr>\n",
       "    <tr>\n",
       "      <td>COLO</td>\n",
       "      <td>Colombia</td>\n",
       "      <td>48922000</td>\n",
       "      <td>A</td>\n",
       "      <td>2780400</td>\n",
       "      <td>17</td>\n",
       "      <td>Sancocho</td>\n",
       "    </tr>\n",
       "    <tr>\n",
       "      <td>ESPA</td>\n",
       "      <td>Espana</td>\n",
       "      <td>47099000</td>\n",
       "      <td>B</td>\n",
       "      <td>505944</td>\n",
       "      <td>93</td>\n",
       "      <td>Tortilla</td>\n",
       "    </tr>\n",
       "    <tr>\n",
       "      <td>MEXI</td>\n",
       "      <td>Mexico</td>\n",
       "      <td>127212000</td>\n",
       "      <td>B</td>\n",
       "      <td>1142748</td>\n",
       "      <td>111</td>\n",
       "      <td>Burritos</td>\n",
       "    </tr>\n",
       "    <tr>\n",
       "      <td>VENE</td>\n",
       "      <td>Venezuela</td>\n",
       "      <td>32423000</td>\n",
       "      <td>C</td>\n",
       "      <td>916445</td>\n",
       "      <td>35</td>\n",
       "      <td>Arepas</td>\n",
       "    </tr>\n",
       "  </tbody>\n",
       "</table>\n",
       "</div>"
      ],
      "text/plain": [
       "           Pais  Poblacion Categoria  Superficie  Habit_x_km2    Comida\n",
       "ARGE  Argentina   45167000         C     1964375           22  Milanesa\n",
       "COLO   Colombia   48922000         A     2780400           17  Sancocho\n",
       "ESPA     Espana   47099000         B      505944           93  Tortilla\n",
       "MEXI     Mexico  127212000         B     1142748          111  Burritos\n",
       "VENE  Venezuela   32423000         C      916445           35    Arepas"
      ]
     },
     "execution_count": 31,
     "metadata": {},
     "output_type": "execute_result"
    }
   ],
   "source": [
    "#hacemos el join por indice\n",
    "result1 = pd.concat([df_index, df_comida], axis=1,sort=True)\n",
    "result1"
   ]
  },
  {
   "cell_type": "markdown",
   "metadata": {},
   "source": [
    "## Left join por columna clave (merge)"
   ]
  },
  {
   "cell_type": "code",
   "execution_count": 32,
   "metadata": {
    "ExecuteTime": {
     "end_time": "2019-11-01T15:44:15.010248Z",
     "start_time": "2019-11-01T15:44:14.998373Z"
    }
   },
   "outputs": [
    {
     "data": {
      "text/html": [
       "<div>\n",
       "<style scoped>\n",
       "    .dataframe tbody tr th:only-of-type {\n",
       "        vertical-align: middle;\n",
       "    }\n",
       "\n",
       "    .dataframe tbody tr th {\n",
       "        vertical-align: top;\n",
       "    }\n",
       "\n",
       "    .dataframe thead th {\n",
       "        text-align: right;\n",
       "    }\n",
       "</style>\n",
       "<table border=\"1\" class=\"dataframe\">\n",
       "  <thead>\n",
       "    <tr style=\"text-align: right;\">\n",
       "      <th></th>\n",
       "      <th>Categoria</th>\n",
       "      <th>Factor</th>\n",
       "    </tr>\n",
       "  </thead>\n",
       "  <tbody>\n",
       "    <tr>\n",
       "      <td>0</td>\n",
       "      <td>A</td>\n",
       "      <td>12.500</td>\n",
       "    </tr>\n",
       "    <tr>\n",
       "      <td>1</td>\n",
       "      <td>B</td>\n",
       "      <td>103.000</td>\n",
       "    </tr>\n",
       "    <tr>\n",
       "      <td>2</td>\n",
       "      <td>C</td>\n",
       "      <td>0.001</td>\n",
       "    </tr>\n",
       "  </tbody>\n",
       "</table>\n",
       "</div>"
      ],
      "text/plain": [
       "  Categoria   Factor\n",
       "0         A   12.500\n",
       "1         B  103.000\n",
       "2         C    0.001"
      ]
     },
     "execution_count": 32,
     "metadata": {},
     "output_type": "execute_result"
    }
   ],
   "source": [
    "# Imaginemos que tenemos un DF nuevo, le asignamos el Codigo como identificador único\n",
    "df_factor = pd.DataFrame(data={\"Categoria\" : [\"A\",\"B\",\"C\"],\n",
    "                            \"Factor\":[12.5,103,0.001]}\n",
    "                        )\n",
    "df_factor"
   ]
  },
  {
   "cell_type": "code",
   "execution_count": 33,
   "metadata": {
    "ExecuteTime": {
     "end_time": "2019-11-01T15:44:15.041154Z",
     "start_time": "2019-11-01T15:44:15.012815Z"
    }
   },
   "outputs": [
    {
     "data": {
      "text/html": [
       "<div>\n",
       "<style scoped>\n",
       "    .dataframe tbody tr th:only-of-type {\n",
       "        vertical-align: middle;\n",
       "    }\n",
       "\n",
       "    .dataframe tbody tr th {\n",
       "        vertical-align: top;\n",
       "    }\n",
       "\n",
       "    .dataframe thead th {\n",
       "        text-align: right;\n",
       "    }\n",
       "</style>\n",
       "<table border=\"1\" class=\"dataframe\">\n",
       "  <thead>\n",
       "    <tr style=\"text-align: right;\">\n",
       "      <th></th>\n",
       "      <th>Codigo</th>\n",
       "      <th>Pais</th>\n",
       "      <th>Poblacion</th>\n",
       "      <th>Categoria</th>\n",
       "      <th>Superficie</th>\n",
       "      <th>Habit_x_km2</th>\n",
       "      <th>Factor</th>\n",
       "    </tr>\n",
       "  </thead>\n",
       "  <tbody>\n",
       "    <tr>\n",
       "      <td>0</td>\n",
       "      <td>ARGE</td>\n",
       "      <td>Argentina</td>\n",
       "      <td>45167000</td>\n",
       "      <td>C</td>\n",
       "      <td>1964375</td>\n",
       "      <td>22</td>\n",
       "      <td>0.001</td>\n",
       "    </tr>\n",
       "    <tr>\n",
       "      <td>1</td>\n",
       "      <td>COLO</td>\n",
       "      <td>Colombia</td>\n",
       "      <td>48922000</td>\n",
       "      <td>A</td>\n",
       "      <td>2780400</td>\n",
       "      <td>17</td>\n",
       "      <td>12.500</td>\n",
       "    </tr>\n",
       "    <tr>\n",
       "      <td>2</td>\n",
       "      <td>ESPA</td>\n",
       "      <td>Espana</td>\n",
       "      <td>47099000</td>\n",
       "      <td>B</td>\n",
       "      <td>505944</td>\n",
       "      <td>93</td>\n",
       "      <td>103.000</td>\n",
       "    </tr>\n",
       "    <tr>\n",
       "      <td>3</td>\n",
       "      <td>MEXI</td>\n",
       "      <td>Mexico</td>\n",
       "      <td>127212000</td>\n",
       "      <td>B</td>\n",
       "      <td>1142748</td>\n",
       "      <td>111</td>\n",
       "      <td>103.000</td>\n",
       "    </tr>\n",
       "    <tr>\n",
       "      <td>4</td>\n",
       "      <td>VENE</td>\n",
       "      <td>Venezuela</td>\n",
       "      <td>32423000</td>\n",
       "      <td>C</td>\n",
       "      <td>916445</td>\n",
       "      <td>35</td>\n",
       "      <td>0.001</td>\n",
       "    </tr>\n",
       "  </tbody>\n",
       "</table>\n",
       "</div>"
      ],
      "text/plain": [
       "  Codigo       Pais  Poblacion Categoria  Superficie  Habit_x_km2   Factor\n",
       "0   ARGE  Argentina   45167000         C     1964375           22    0.001\n",
       "1   COLO   Colombia   48922000         A     2780400           17   12.500\n",
       "2   ESPA     Espana   47099000         B      505944           93  103.000\n",
       "3   MEXI     Mexico  127212000         B     1142748          111  103.000\n",
       "4   VENE  Venezuela   32423000         C      916445           35    0.001"
      ]
     },
     "execution_count": 33,
     "metadata": {},
     "output_type": "execute_result"
    }
   ],
   "source": [
    "result2 = pd.merge(df, df_factor, how='left', on=['Categoria'])\n",
    "result2"
   ]
  },
  {
   "cell_type": "markdown",
   "metadata": {},
   "source": [
    "## Adicionar multiples filas desde otra Tabla con Append"
   ]
  },
  {
   "cell_type": "code",
   "execution_count": 34,
   "metadata": {
    "ExecuteTime": {
     "end_time": "2019-11-01T15:44:15.055827Z",
     "start_time": "2019-11-01T15:44:15.044875Z"
    }
   },
   "outputs": [
    {
     "data": {
      "text/html": [
       "<div>\n",
       "<style scoped>\n",
       "    .dataframe tbody tr th:only-of-type {\n",
       "        vertical-align: middle;\n",
       "    }\n",
       "\n",
       "    .dataframe tbody tr th {\n",
       "        vertical-align: top;\n",
       "    }\n",
       "\n",
       "    .dataframe thead th {\n",
       "        text-align: right;\n",
       "    }\n",
       "</style>\n",
       "<table border=\"1\" class=\"dataframe\">\n",
       "  <thead>\n",
       "    <tr style=\"text-align: right;\">\n",
       "      <th></th>\n",
       "      <th>Pais</th>\n",
       "      <th>Poblacion</th>\n",
       "      <th>Superficie</th>\n",
       "    </tr>\n",
       "  </thead>\n",
       "  <tbody>\n",
       "    <tr>\n",
       "      <td>0</td>\n",
       "      <td>Brasil</td>\n",
       "      <td>210688000</td>\n",
       "      <td>8515770</td>\n",
       "    </tr>\n",
       "    <tr>\n",
       "      <td>1</td>\n",
       "      <td>Chile</td>\n",
       "      <td>19241000</td>\n",
       "      <td>56102</td>\n",
       "    </tr>\n",
       "  </tbody>\n",
       "</table>\n",
       "</div>"
      ],
      "text/plain": [
       "     Pais  Poblacion  Superficie\n",
       "0  Brasil  210688000     8515770\n",
       "1   Chile   19241000       56102"
      ]
     },
     "execution_count": 34,
     "metadata": {},
     "output_type": "execute_result"
    }
   ],
   "source": [
    "#supongamos que tenemos otra tabla:\n",
    "df_otros = pd.DataFrame(data={\"Pais\":['Brasil','Chile'],\n",
    "                        \"Poblacion\":[210688000, 19241000],\n",
    "                        \"Superficie\":[8515770,56102]})\n",
    "df_otros"
   ]
  },
  {
   "cell_type": "code",
   "execution_count": 36,
   "metadata": {
    "ExecuteTime": {
     "end_time": "2019-11-01T15:46:06.559771Z",
     "start_time": "2019-11-01T15:46:06.537879Z"
    }
   },
   "outputs": [
    {
     "data": {
      "text/html": [
       "<div>\n",
       "<style scoped>\n",
       "    .dataframe tbody tr th:only-of-type {\n",
       "        vertical-align: middle;\n",
       "    }\n",
       "\n",
       "    .dataframe tbody tr th {\n",
       "        vertical-align: top;\n",
       "    }\n",
       "\n",
       "    .dataframe thead th {\n",
       "        text-align: right;\n",
       "    }\n",
       "</style>\n",
       "<table border=\"1\" class=\"dataframe\">\n",
       "  <thead>\n",
       "    <tr style=\"text-align: right;\">\n",
       "      <th></th>\n",
       "      <th>Categoria</th>\n",
       "      <th>Codigo</th>\n",
       "      <th>Habit_x_km2</th>\n",
       "      <th>Pais</th>\n",
       "      <th>Poblacion</th>\n",
       "      <th>Superficie</th>\n",
       "    </tr>\n",
       "  </thead>\n",
       "  <tbody>\n",
       "    <tr>\n",
       "      <td>0</td>\n",
       "      <td>C</td>\n",
       "      <td>ARGE</td>\n",
       "      <td>22.0</td>\n",
       "      <td>Argentina</td>\n",
       "      <td>45167000</td>\n",
       "      <td>1964375</td>\n",
       "    </tr>\n",
       "    <tr>\n",
       "      <td>1</td>\n",
       "      <td>A</td>\n",
       "      <td>COLO</td>\n",
       "      <td>17.0</td>\n",
       "      <td>Colombia</td>\n",
       "      <td>48922000</td>\n",
       "      <td>2780400</td>\n",
       "    </tr>\n",
       "    <tr>\n",
       "      <td>2</td>\n",
       "      <td>B</td>\n",
       "      <td>ESPA</td>\n",
       "      <td>93.0</td>\n",
       "      <td>Espana</td>\n",
       "      <td>47099000</td>\n",
       "      <td>505944</td>\n",
       "    </tr>\n",
       "    <tr>\n",
       "      <td>3</td>\n",
       "      <td>B</td>\n",
       "      <td>MEXI</td>\n",
       "      <td>111.0</td>\n",
       "      <td>Mexico</td>\n",
       "      <td>127212000</td>\n",
       "      <td>1142748</td>\n",
       "    </tr>\n",
       "    <tr>\n",
       "      <td>4</td>\n",
       "      <td>C</td>\n",
       "      <td>VENE</td>\n",
       "      <td>35.0</td>\n",
       "      <td>Venezuela</td>\n",
       "      <td>32423000</td>\n",
       "      <td>916445</td>\n",
       "    </tr>\n",
       "    <tr>\n",
       "      <td>5</td>\n",
       "      <td>NaN</td>\n",
       "      <td>NaN</td>\n",
       "      <td>NaN</td>\n",
       "      <td>Brasil</td>\n",
       "      <td>210688000</td>\n",
       "      <td>8515770</td>\n",
       "    </tr>\n",
       "    <tr>\n",
       "      <td>6</td>\n",
       "      <td>NaN</td>\n",
       "      <td>NaN</td>\n",
       "      <td>NaN</td>\n",
       "      <td>Chile</td>\n",
       "      <td>19241000</td>\n",
       "      <td>56102</td>\n",
       "    </tr>\n",
       "  </tbody>\n",
       "</table>\n",
       "</div>"
      ],
      "text/plain": [
       "  Categoria Codigo  Habit_x_km2       Pais  Poblacion  Superficie\n",
       "0         C   ARGE         22.0  Argentina   45167000     1964375\n",
       "1         A   COLO         17.0   Colombia   48922000     2780400\n",
       "2         B   ESPA         93.0     Espana   47099000      505944\n",
       "3         B   MEXI        111.0     Mexico  127212000     1142748\n",
       "4         C   VENE         35.0  Venezuela   32423000      916445\n",
       "5       NaN    NaN          NaN     Brasil  210688000     8515770\n",
       "6       NaN    NaN          NaN      Chile   19241000       56102"
      ]
     },
     "execution_count": 36,
     "metadata": {},
     "output_type": "execute_result"
    }
   ],
   "source": [
    "# Queremos agregar estas filas al final\n",
    "df.append(df_otros, ignore_index=True, sort=True)"
   ]
  },
  {
   "cell_type": "markdown",
   "metadata": {},
   "source": [
    "## Agrupar"
   ]
  },
  {
   "cell_type": "code",
   "execution_count": 38,
   "metadata": {
    "ExecuteTime": {
     "end_time": "2019-11-01T15:47:36.567983Z",
     "start_time": "2019-11-01T15:47:36.557822Z"
    }
   },
   "outputs": [
    {
     "data": {
      "text/plain": [
       "Categoria\n",
       "A    1\n",
       "B    2\n",
       "C    2\n",
       "dtype: int64"
      ]
     },
     "execution_count": 38,
     "metadata": {},
     "output_type": "execute_result"
    }
   ],
   "source": [
    "# agrupo por categoria y sumo cuantos hay de cada una\n",
    "grupo2 = df.groupby(['Categoria']).size()\n",
    "grupo2"
   ]
  },
  {
   "cell_type": "code",
   "execution_count": 37,
   "metadata": {
    "ExecuteTime": {
     "end_time": "2019-11-01T15:47:26.846898Z",
     "start_time": "2019-11-01T15:47:26.831749Z"
    }
   },
   "outputs": [
    {
     "data": {
      "text/html": [
       "<div>\n",
       "<style scoped>\n",
       "    .dataframe tbody tr th:only-of-type {\n",
       "        vertical-align: middle;\n",
       "    }\n",
       "\n",
       "    .dataframe tbody tr th {\n",
       "        vertical-align: top;\n",
       "    }\n",
       "\n",
       "    .dataframe thead th {\n",
       "        text-align: right;\n",
       "    }\n",
       "</style>\n",
       "<table border=\"1\" class=\"dataframe\">\n",
       "  <thead>\n",
       "    <tr style=\"text-align: right;\">\n",
       "      <th></th>\n",
       "      <th>Poblacion</th>\n",
       "      <th>Superficie</th>\n",
       "      <th>Habit_x_km2</th>\n",
       "    </tr>\n",
       "    <tr>\n",
       "      <th>Categoria</th>\n",
       "      <th></th>\n",
       "      <th></th>\n",
       "      <th></th>\n",
       "    </tr>\n",
       "  </thead>\n",
       "  <tbody>\n",
       "    <tr>\n",
       "      <td>A</td>\n",
       "      <td>48922000</td>\n",
       "      <td>2780400</td>\n",
       "      <td>17</td>\n",
       "    </tr>\n",
       "    <tr>\n",
       "      <td>B</td>\n",
       "      <td>174311000</td>\n",
       "      <td>1648692</td>\n",
       "      <td>204</td>\n",
       "    </tr>\n",
       "    <tr>\n",
       "      <td>C</td>\n",
       "      <td>77590000</td>\n",
       "      <td>2880820</td>\n",
       "      <td>57</td>\n",
       "    </tr>\n",
       "  </tbody>\n",
       "</table>\n",
       "</div>"
      ],
      "text/plain": [
       "           Poblacion  Superficie  Habit_x_km2\n",
       "Categoria                                    \n",
       "A           48922000     2780400           17\n",
       "B          174311000     1648692          204\n",
       "C           77590000     2880820           57"
      ]
     },
     "execution_count": 37,
     "metadata": {},
     "output_type": "execute_result"
    }
   ],
   "source": [
    "# agrupo por cateroría y sumo\n",
    "grupo1 = df.groupby(['Categoria']).sum()\n",
    "grupo1"
   ]
  },
  {
   "cell_type": "markdown",
   "metadata": {},
   "source": [
    "## Agrupamos por 2 variables y sumarizamos"
   ]
  },
  {
   "cell_type": "code",
   "execution_count": 62,
   "metadata": {
    "ExecuteTime": {
     "end_time": "2019-11-01T15:57:48.494522Z",
     "start_time": "2019-11-01T15:57:48.471806Z"
    }
   },
   "outputs": [
    {
     "data": {
      "text/html": [
       "<div>\n",
       "<style scoped>\n",
       "    .dataframe tbody tr th:only-of-type {\n",
       "        vertical-align: middle;\n",
       "    }\n",
       "\n",
       "    .dataframe tbody tr th {\n",
       "        vertical-align: top;\n",
       "    }\n",
       "\n",
       "    .dataframe thead tr th {\n",
       "        text-align: left;\n",
       "    }\n",
       "\n",
       "    .dataframe thead tr:last-of-type th {\n",
       "        text-align: right;\n",
       "    }\n",
       "</style>\n",
       "<table border=\"1\" class=\"dataframe\">\n",
       "  <thead>\n",
       "    <tr>\n",
       "      <th></th>\n",
       "      <th colspan=\"3\" halign=\"left\">Factor</th>\n",
       "    </tr>\n",
       "    <tr>\n",
       "      <th></th>\n",
       "      <th>mean</th>\n",
       "      <th>count</th>\n",
       "      <th>sum</th>\n",
       "    </tr>\n",
       "    <tr>\n",
       "      <th>Categoria</th>\n",
       "      <th></th>\n",
       "      <th></th>\n",
       "      <th></th>\n",
       "    </tr>\n",
       "  </thead>\n",
       "  <tbody>\n",
       "    <tr>\n",
       "      <td>A</td>\n",
       "      <td>12.500</td>\n",
       "      <td>1</td>\n",
       "      <td>12.500</td>\n",
       "    </tr>\n",
       "    <tr>\n",
       "      <td>B</td>\n",
       "      <td>103.000</td>\n",
       "      <td>2</td>\n",
       "      <td>206.000</td>\n",
       "    </tr>\n",
       "    <tr>\n",
       "      <td>C</td>\n",
       "      <td>0.001</td>\n",
       "      <td>2</td>\n",
       "      <td>0.002</td>\n",
       "    </tr>\n",
       "  </tbody>\n",
       "</table>\n",
       "</div>"
      ],
      "text/plain": [
       "            Factor               \n",
       "              mean count      sum\n",
       "Categoria                        \n",
       "A           12.500     1   12.500\n",
       "B          103.000     2  206.000\n",
       "C            0.001     2    0.002"
      ]
     },
     "execution_count": 62,
     "metadata": {},
     "output_type": "execute_result"
    }
   ],
   "source": [
    "tabla = result2[['Categoria', 'Factor']].groupby(['Categoria'], as_index=False).agg(['mean', 'count', 'sum'])\n",
    "tabla"
   ]
  },
  {
   "cell_type": "markdown",
   "metadata": {},
   "source": [
    "## Pivotar una Tabla"
   ]
  },
  {
   "cell_type": "code",
   "execution_count": 69,
   "metadata": {
    "ExecuteTime": {
     "end_time": "2019-11-01T16:01:28.469318Z",
     "start_time": "2019-11-01T16:01:28.440453Z"
    }
   },
   "outputs": [
    {
     "data": {
      "text/html": [
       "<div>\n",
       "<style scoped>\n",
       "    .dataframe tbody tr th:only-of-type {\n",
       "        vertical-align: middle;\n",
       "    }\n",
       "\n",
       "    .dataframe tbody tr th {\n",
       "        vertical-align: top;\n",
       "    }\n",
       "\n",
       "    .dataframe thead th {\n",
       "        text-align: right;\n",
       "    }\n",
       "</style>\n",
       "<table border=\"1\" class=\"dataframe\">\n",
       "  <thead>\n",
       "    <tr style=\"text-align: right;\">\n",
       "      <th>Pais</th>\n",
       "      <th>Argentina</th>\n",
       "      <th>Colombia</th>\n",
       "      <th>Espana</th>\n",
       "      <th>Mexico</th>\n",
       "      <th>Venezuela</th>\n",
       "    </tr>\n",
       "    <tr>\n",
       "      <th>Categoria</th>\n",
       "      <th></th>\n",
       "      <th></th>\n",
       "      <th></th>\n",
       "      <th></th>\n",
       "      <th></th>\n",
       "    </tr>\n",
       "  </thead>\n",
       "  <tbody>\n",
       "    <tr>\n",
       "      <td>A</td>\n",
       "      <td>0.000</td>\n",
       "      <td>12.5</td>\n",
       "      <td>0.0</td>\n",
       "      <td>0.0</td>\n",
       "      <td>0.000</td>\n",
       "    </tr>\n",
       "    <tr>\n",
       "      <td>B</td>\n",
       "      <td>0.000</td>\n",
       "      <td>0.0</td>\n",
       "      <td>103.0</td>\n",
       "      <td>103.0</td>\n",
       "      <td>0.000</td>\n",
       "    </tr>\n",
       "    <tr>\n",
       "      <td>C</td>\n",
       "      <td>0.001</td>\n",
       "      <td>0.0</td>\n",
       "      <td>0.0</td>\n",
       "      <td>0.0</td>\n",
       "      <td>0.001</td>\n",
       "    </tr>\n",
       "  </tbody>\n",
       "</table>\n",
       "</div>"
      ],
      "text/plain": [
       "Pais       Argentina  Colombia  Espana  Mexico  Venezuela\n",
       "Categoria                                                \n",
       "A              0.000      12.5     0.0     0.0      0.000\n",
       "B              0.000       0.0   103.0   103.0      0.000\n",
       "C              0.001       0.0     0.0     0.0      0.001"
      ]
     },
     "execution_count": 69,
     "metadata": {},
     "output_type": "execute_result"
    }
   ],
   "source": [
    "tabla_t = pd.pivot_table(result2, index='Categoria', columns='Pais', values='Factor').fillna(0)\n",
    "tabla_t"
   ]
  },
  {
   "cell_type": "markdown",
   "metadata": {},
   "source": [
    "## Transponer una tabla"
   ]
  },
  {
   "cell_type": "code",
   "execution_count": 72,
   "metadata": {
    "ExecuteTime": {
     "end_time": "2019-11-01T16:08:34.699663Z",
     "start_time": "2019-11-01T16:08:34.685897Z"
    }
   },
   "outputs": [
    {
     "data": {
      "text/html": [
       "<div>\n",
       "<style scoped>\n",
       "    .dataframe tbody tr th:only-of-type {\n",
       "        vertical-align: middle;\n",
       "    }\n",
       "\n",
       "    .dataframe tbody tr th {\n",
       "        vertical-align: top;\n",
       "    }\n",
       "\n",
       "    .dataframe thead th {\n",
       "        text-align: right;\n",
       "    }\n",
       "</style>\n",
       "<table border=\"1\" class=\"dataframe\">\n",
       "  <thead>\n",
       "    <tr style=\"text-align: right;\">\n",
       "      <th></th>\n",
       "      <th>1</th>\n",
       "      <th>3</th>\n",
       "      <th>2</th>\n",
       "      <th>0</th>\n",
       "      <th>4</th>\n",
       "    </tr>\n",
       "  </thead>\n",
       "  <tbody>\n",
       "    <tr>\n",
       "      <td>Codigo</td>\n",
       "      <td>ARGE</td>\n",
       "      <td>COLO</td>\n",
       "      <td>ESPA</td>\n",
       "      <td>MEXI</td>\n",
       "      <td>VENE</td>\n",
       "    </tr>\n",
       "    <tr>\n",
       "      <td>Pais</td>\n",
       "      <td>Argentina</td>\n",
       "      <td>Colombia</td>\n",
       "      <td>Espana</td>\n",
       "      <td>Mexico</td>\n",
       "      <td>Venezuela</td>\n",
       "    </tr>\n",
       "    <tr>\n",
       "      <td>Poblacion</td>\n",
       "      <td>45167000</td>\n",
       "      <td>48922000</td>\n",
       "      <td>47099000</td>\n",
       "      <td>127212000</td>\n",
       "      <td>32423000</td>\n",
       "    </tr>\n",
       "    <tr>\n",
       "      <td>Categoria</td>\n",
       "      <td>C</td>\n",
       "      <td>A</td>\n",
       "      <td>B</td>\n",
       "      <td>B</td>\n",
       "      <td>C</td>\n",
       "    </tr>\n",
       "    <tr>\n",
       "      <td>Superficie</td>\n",
       "      <td>1964375</td>\n",
       "      <td>2780400</td>\n",
       "      <td>505944</td>\n",
       "      <td>1142748</td>\n",
       "      <td>916445</td>\n",
       "    </tr>\n",
       "    <tr>\n",
       "      <td>Habit_x_km2</td>\n",
       "      <td>22</td>\n",
       "      <td>17</td>\n",
       "      <td>93</td>\n",
       "      <td>111</td>\n",
       "      <td>35</td>\n",
       "    </tr>\n",
       "  </tbody>\n",
       "</table>\n",
       "</div>"
      ],
      "text/plain": [
       "                     1         3         2          0          4\n",
       "Codigo            ARGE      COLO      ESPA       MEXI       VENE\n",
       "Pais         Argentina  Colombia    Espana     Mexico  Venezuela\n",
       "Poblacion     45167000  48922000  47099000  127212000   32423000\n",
       "Categoria            C         A         B          B          C\n",
       "Superficie     1964375   2780400    505944    1142748     916445\n",
       "Habit_x_km2         22        17        93        111         35"
      ]
     },
     "execution_count": 72,
     "metadata": {},
     "output_type": "execute_result"
    }
   ],
   "source": [
    "df.T"
   ]
  },
  {
   "cell_type": "markdown",
   "metadata": {},
   "source": [
    "# Visualizacion"
   ]
  },
  {
   "cell_type": "code",
   "execution_count": 40,
   "metadata": {
    "ExecuteTime": {
     "end_time": "2019-11-01T15:48:35.805982Z",
     "start_time": "2019-11-01T15:48:35.411642Z"
    }
   },
   "outputs": [
    {
     "data": {
      "image/png": "[encoded data removed]",
      "text/plain": [
       "<Figure size 432x288 with 1 Axes>"
      ]
     },
     "metadata": {
      "needs_background": "light"
     },
     "output_type": "display_data"
    }
   ],
   "source": [
    "import matplotlib.pyplot as plt\n",
    "%matplotlib inline\n",
    "\n",
    "df[['Poblacion','Superficie']].plot.hist(bins=5,alpha=0.5)\n",
    "plt.show()"
   ]
  },
  {
   "cell_type": "code",
   "execution_count": 41,
   "metadata": {
    "ExecuteTime": {
     "end_time": "2019-11-01T15:48:36.336928Z",
     "start_time": "2019-11-01T15:48:36.045568Z"
    }
   },
   "outputs": [
    {
     "data": {
      "image/png": "[encoded data removed]",
      "text/plain": [
       "<Figure size 432x288 with 1 Axes>"
      ]
     },
     "metadata": {
      "needs_background": "light"
     },
     "output_type": "display_data"
    }
   ],
   "source": [
    "df.set_index('Pais')['Poblacion'].plot(kind='bar');"
   ]
  },
  {
   "cell_type": "code",
   "execution_count": 42,
   "metadata": {
    "ExecuteTime": {
     "end_time": "2019-11-01T15:48:36.884370Z",
     "start_time": "2019-11-01T15:48:36.687776Z"
    }
   },
   "outputs": [
    {
     "data": {
      "image/png": "[encoded data removed]",
      "text/plain": [
       "<Figure size 432x288 with 1 Axes>"
      ]
     },
     "metadata": {
      "needs_background": "light"
     },
     "output_type": "display_data"
    }
   ],
   "source": [
    "df.set_index('Pais')['Habit_x_km2'].plot(kind='area');"
   ]
  },
  {
   "cell_type": "code",
   "execution_count": 43,
   "metadata": {
    "ExecuteTime": {
     "end_time": "2019-11-01T15:48:37.676445Z",
     "start_time": "2019-11-01T15:48:37.280687Z"
    }
   },
   "outputs": [
    {
     "data": {
      "image/png": "[encoded data removed]",
      "text/plain": [
       "<Figure size 432x288 with 1 Axes>"
      ]
     },
     "metadata": {
      "needs_background": "light"
     },
     "output_type": "display_data"
    }
   ],
   "source": [
    "df.set_index('Pais').plot.barh(stacked=True);"
   ]
  },
  {
   "cell_type": "code",
   "execution_count": 44,
   "metadata": {
    "ExecuteTime": {
     "end_time": "2019-11-01T15:48:38.052042Z",
     "start_time": "2019-11-01T15:48:37.912306Z"
    }
   },
   "outputs": [
    {
     "data": {
      "image/png": "[encoded data removed]",
      "text/plain": [
       "<Figure size 432x288 with 1 Axes>"
      ]
     },
     "metadata": {},
     "output_type": "display_data"
    }
   ],
   "source": [
    "df.set_index('Pais')['Superficie'].plot.pie();"
   ]
  },
  {
   "cell_type": "code",
   "execution_count": 45,
   "metadata": {
    "ExecuteTime": {
     "end_time": "2019-11-01T15:48:38.810494Z",
     "start_time": "2019-11-01T15:48:38.586759Z"
    }
   },
   "outputs": [
    {
     "data": {
      "image/png": "[encoded data removed]",
      "text/plain": [
       "<Figure size 432x288 with 1 Axes>"
      ]
     },
     "metadata": {
      "needs_background": "light"
     },
     "output_type": "display_data"
    }
   ],
   "source": [
    "df.plot.scatter(x='Habit_x_km2', y='Superficie');"
   ]
  },
  {
   "cell_type": "markdown",
   "metadata": {},
   "source": [
    "# Basicos!"
   ]
  },
  {
   "cell_type": "code",
   "execution_count": 46,
   "metadata": {
    "ExecuteTime": {
     "end_time": "2019-11-01T15:48:42.272449Z",
     "start_time": "2019-11-01T15:48:42.269550Z"
    }
   },
   "outputs": [],
   "source": [
    "# Leer un archivo csv\n",
    "#df_csv = pd.read_csv(\"nombre_archivo.csv\")"
   ]
  },
  {
   "cell_type": "code",
   "execution_count": 47,
   "metadata": {
    "ExecuteTime": {
     "end_time": "2019-11-01T15:48:42.479909Z",
     "start_time": "2019-11-01T15:48:42.471503Z"
    }
   },
   "outputs": [
    {
     "name": "stdout",
     "output_type": "stream",
     "text": [
      "<class 'pandas.core.frame.DataFrame'>\n",
      "Int64Index: 5 entries, 1 to 4\n",
      "Data columns (total 6 columns):\n",
      "Codigo         5 non-null object\n",
      "Pais           5 non-null object\n",
      "Poblacion      5 non-null int64\n",
      "Categoria      5 non-null object\n",
      "Superficie     5 non-null int64\n",
      "Habit_x_km2    5 non-null int64\n",
      "dtypes: int64(3), object(3)\n",
      "memory usage: 440.0+ bytes\n"
     ]
    }
   ],
   "source": [
    "# Informacion de columnas, tipos de datos y nulos\n",
    "df.info()"
   ]
  },
  {
   "cell_type": "code",
   "execution_count": 48,
   "metadata": {
    "ExecuteTime": {
     "end_time": "2019-11-01T15:48:42.660761Z",
     "start_time": "2019-11-01T15:48:42.627756Z"
    }
   },
   "outputs": [
    {
     "data": {
      "text/html": [
       "<div>\n",
       "<style scoped>\n",
       "    .dataframe tbody tr th:only-of-type {\n",
       "        vertical-align: middle;\n",
       "    }\n",
       "\n",
       "    .dataframe tbody tr th {\n",
       "        vertical-align: top;\n",
       "    }\n",
       "\n",
       "    .dataframe thead th {\n",
       "        text-align: right;\n",
       "    }\n",
       "</style>\n",
       "<table border=\"1\" class=\"dataframe\">\n",
       "  <thead>\n",
       "    <tr style=\"text-align: right;\">\n",
       "      <th></th>\n",
       "      <th>Poblacion</th>\n",
       "      <th>Superficie</th>\n",
       "      <th>Habit_x_km2</th>\n",
       "    </tr>\n",
       "  </thead>\n",
       "  <tbody>\n",
       "    <tr>\n",
       "      <td>count</td>\n",
       "      <td>5.000000e+00</td>\n",
       "      <td>5.000</td>\n",
       "      <td>5.00000</td>\n",
       "    </tr>\n",
       "    <tr>\n",
       "      <td>mean</td>\n",
       "      <td>6.016460e+07</td>\n",
       "      <td>1461982.400</td>\n",
       "      <td>55.60000</td>\n",
       "    </tr>\n",
       "    <tr>\n",
       "      <td>std</td>\n",
       "      <td>3.803612e+07</td>\n",
       "      <td>908866.653</td>\n",
       "      <td>43.33359</td>\n",
       "    </tr>\n",
       "    <tr>\n",
       "      <td>min</td>\n",
       "      <td>3.242300e+07</td>\n",
       "      <td>505944.000</td>\n",
       "      <td>17.00000</td>\n",
       "    </tr>\n",
       "    <tr>\n",
       "      <td>25%</td>\n",
       "      <td>4.516700e+07</td>\n",
       "      <td>916445.000</td>\n",
       "      <td>22.00000</td>\n",
       "    </tr>\n",
       "    <tr>\n",
       "      <td>50%</td>\n",
       "      <td>4.709900e+07</td>\n",
       "      <td>1142748.000</td>\n",
       "      <td>35.00000</td>\n",
       "    </tr>\n",
       "    <tr>\n",
       "      <td>75%</td>\n",
       "      <td>4.892200e+07</td>\n",
       "      <td>1964375.000</td>\n",
       "      <td>93.00000</td>\n",
       "    </tr>\n",
       "    <tr>\n",
       "      <td>max</td>\n",
       "      <td>1.272120e+08</td>\n",
       "      <td>2780400.000</td>\n",
       "      <td>111.00000</td>\n",
       "    </tr>\n",
       "  </tbody>\n",
       "</table>\n",
       "</div>"
      ],
      "text/plain": [
       "          Poblacion   Superficie  Habit_x_km2\n",
       "count  5.000000e+00        5.000      5.00000\n",
       "mean   6.016460e+07  1461982.400     55.60000\n",
       "std    3.803612e+07   908866.653     43.33359\n",
       "min    3.242300e+07   505944.000     17.00000\n",
       "25%    4.516700e+07   916445.000     22.00000\n",
       "50%    4.709900e+07  1142748.000     35.00000\n",
       "75%    4.892200e+07  1964375.000     93.00000\n",
       "max    1.272120e+08  2780400.000    111.00000"
      ]
     },
     "execution_count": 48,
     "metadata": {},
     "output_type": "execute_result"
    }
   ],
   "source": [
    "# estadísticas sobre las columnas numéricas\n",
    "df.describe()"
   ]
  },
  {
   "cell_type": "code",
   "execution_count": 49,
   "metadata": {
    "ExecuteTime": {
     "end_time": "2019-11-01T15:48:42.784227Z",
     "start_time": "2019-11-01T15:48:42.772163Z"
    }
   },
   "outputs": [
    {
     "data": {
      "text/html": [
       "<div>\n",
       "<style scoped>\n",
       "    .dataframe tbody tr th:only-of-type {\n",
       "        vertical-align: middle;\n",
       "    }\n",
       "\n",
       "    .dataframe tbody tr th {\n",
       "        vertical-align: top;\n",
       "    }\n",
       "\n",
       "    .dataframe thead th {\n",
       "        text-align: right;\n",
       "    }\n",
       "</style>\n",
       "<table border=\"1\" class=\"dataframe\">\n",
       "  <thead>\n",
       "    <tr style=\"text-align: right;\">\n",
       "      <th></th>\n",
       "      <th>Codigo</th>\n",
       "      <th>Pais</th>\n",
       "      <th>Poblacion</th>\n",
       "      <th>Categoria</th>\n",
       "      <th>Superficie</th>\n",
       "      <th>Habit_x_km2</th>\n",
       "    </tr>\n",
       "  </thead>\n",
       "  <tbody>\n",
       "    <tr>\n",
       "      <td>0</td>\n",
       "      <td>MEXI</td>\n",
       "      <td>Mexico</td>\n",
       "      <td>127212000</td>\n",
       "      <td>B</td>\n",
       "      <td>1142748</td>\n",
       "      <td>111</td>\n",
       "    </tr>\n",
       "    <tr>\n",
       "      <td>4</td>\n",
       "      <td>VENE</td>\n",
       "      <td>Venezuela</td>\n",
       "      <td>32423000</td>\n",
       "      <td>C</td>\n",
       "      <td>916445</td>\n",
       "      <td>35</td>\n",
       "    </tr>\n",
       "  </tbody>\n",
       "</table>\n",
       "</div>"
      ],
      "text/plain": [
       "  Codigo       Pais  Poblacion Categoria  Superficie  Habit_x_km2\n",
       "0   MEXI     Mexico  127212000         B     1142748          111\n",
       "4   VENE  Venezuela   32423000         C      916445           35"
      ]
     },
     "execution_count": 49,
     "metadata": {},
     "output_type": "execute_result"
    }
   ],
   "source": [
    "#ver primeras n filas  (ó ultimas)\n",
    "df.head(2)\n",
    "df.tail(2)"
   ]
  },
  {
   "cell_type": "code",
   "execution_count": 50,
   "metadata": {
    "ExecuteTime": {
     "end_time": "2019-11-01T15:48:42.927525Z",
     "start_time": "2019-11-01T15:48:42.921997Z"
    }
   },
   "outputs": [
    {
     "data": {
      "text/plain": [
       "(5, 6)"
      ]
     },
     "execution_count": 50,
     "metadata": {},
     "output_type": "execute_result"
    }
   ],
   "source": [
    "# dimensiones del dataframe (filas, columnas)\n",
    "df.shape"
   ]
  },
  {
   "cell_type": "code",
   "execution_count": 51,
   "metadata": {
    "ExecuteTime": {
     "end_time": "2019-11-01T15:48:43.063888Z",
     "start_time": "2019-11-01T15:48:43.058500Z"
    }
   },
   "outputs": [
    {
     "data": {
      "text/plain": [
       "5"
      ]
     },
     "execution_count": 51,
     "metadata": {},
     "output_type": "execute_result"
    }
   ],
   "source": [
    "#cantidad de filas\n",
    "len(df)"
   ]
  },
  {
   "cell_type": "code",
   "execution_count": 52,
   "metadata": {
    "ExecuteTime": {
     "end_time": "2019-11-01T15:48:45.118320Z",
     "start_time": "2019-11-01T15:48:45.111800Z"
    }
   },
   "outputs": [
    {
     "name": "stdout",
     "output_type": "stream",
     "text": [
      "Argentina\n",
      "Colombia\n",
      "Espana\n",
      "Mexico\n",
      "Venezuela\n"
     ]
    }
   ],
   "source": [
    "#Iterar un dataframe\n",
    "for index, row in df.iterrows():    \n",
    "    print(row['Pais'])\n"
   ]
  },
  {
   "cell_type": "code",
   "execution_count": 73,
   "metadata": {
    "ExecuteTime": {
     "end_time": "2019-11-01T16:14:18.686615Z",
     "start_time": "2019-11-01T16:14:18.676083Z"
    }
   },
   "outputs": [
    {
     "name": "stdout",
     "output_type": "stream",
     "text": [
      "55.6\n",
      "278\n",
      "5\n",
      "17\n",
      "111\n"
     ]
    }
   ],
   "source": [
    "# Obtener sumatoria, media y cantidad de una columna\n",
    "print(df['Habit_x_km2'].mean())\n",
    "print(df['Habit_x_km2'].sum())\n",
    "print(df['Habit_x_km2'].count())\n",
    "print(df['Habit_x_km2'].min())\n",
    "print(df['Habit_x_km2'].max())"
   ]
  },
  {
   "cell_type": "code",
   "execution_count": 54,
   "metadata": {
    "ExecuteTime": {
     "end_time": "2019-11-01T15:48:45.404594Z",
     "start_time": "2019-11-01T15:48:45.396695Z"
    }
   },
   "outputs": [
    {
     "data": {
      "text/plain": [
       "Codigo         0\n",
       "Pais           0\n",
       "Poblacion      0\n",
       "Categoria      0\n",
       "Superficie     0\n",
       "Habit_x_km2    0\n",
       "dtype: int64"
      ]
     },
     "execution_count": 54,
     "metadata": {},
     "output_type": "execute_result"
    }
   ],
   "source": [
    "# Revisar si tenemos nulos en la tabla\n",
    "df.isnull().sum()"
   ]
  },
  {
   "cell_type": "code",
   "execution_count": 55,
   "metadata": {
    "ExecuteTime": {
     "end_time": "2019-11-01T15:53:42.527742Z",
     "start_time": "2019-11-01T15:53:42.520437Z"
    }
   },
   "outputs": [
    {
     "data": {
      "text/plain": [
       "1    1964375\n",
       "3    2780400\n",
       "2     505944\n",
       "0    1142748\n",
       "4     916445\n",
       "Name: Superficie, dtype: int64"
      ]
     },
     "execution_count": 55,
     "metadata": {},
     "output_type": "execute_result"
    }
   ],
   "source": [
    "#acceso a una columna\n",
    "df.Superficie"
   ]
  },
  {
   "cell_type": "code",
   "execution_count": 57,
   "metadata": {
    "ExecuteTime": {
     "end_time": "2019-11-01T15:54:15.168930Z",
     "start_time": "2019-11-01T15:54:15.162817Z"
    }
   },
   "outputs": [
    {
     "data": {
      "text/plain": [
       "array(['C', 'A', 'B'], dtype=object)"
      ]
     },
     "execution_count": 57,
     "metadata": {},
     "output_type": "execute_result"
    }
   ],
   "source": [
    "# unicos\n",
    "df.Categoria.unique()"
   ]
  },
  {
   "cell_type": "code",
   "execution_count": 58,
   "metadata": {
    "ExecuteTime": {
     "end_time": "2019-11-01T15:54:38.800040Z",
     "start_time": "2019-11-01T15:54:38.794408Z"
    }
   },
   "outputs": [
    {
     "data": {
      "text/plain": [
       "3"
      ]
     },
     "execution_count": 58,
     "metadata": {},
     "output_type": "execute_result"
    }
   ],
   "source": [
    "# cantidad de unicos\n",
    "len(df.Categoria.unique())"
   ]
  },
  {
   "cell_type": "code",
   "execution_count": 75,
   "metadata": {
    "ExecuteTime": {
     "end_time": "2019-11-01T16:21:27.013185Z",
     "start_time": "2019-11-01T16:21:27.005734Z"
    }
   },
   "outputs": [
    {
     "data": {
      "text/plain": [
       "B    2\n",
       "C    2\n",
       "A    1\n",
       "Name: Categoria, dtype: int64"
      ]
     },
     "execution_count": 75,
     "metadata": {},
     "output_type": "execute_result"
    }
   ],
   "source": [
    "# contabilizar por una columna\n",
    "pd.value_counts(df['Categoria'], sort = True)"
   ]
  },
  {
   "cell_type": "code",
   "execution_count": 76,
   "metadata": {
    "ExecuteTime": {
     "end_time": "2019-11-01T16:24:48.876826Z",
     "start_time": "2019-11-01T16:24:48.869436Z"
    }
   },
   "outputs": [
    {
     "data": {
      "text/plain": [
       "Codigo              VENE\n",
       "Pais           Venezuela\n",
       "Poblacion       32423000\n",
       "Categoria              C\n",
       "Superficie        916445\n",
       "Habit_x_km2           35\n",
       "Name: 4, dtype: object"
      ]
     },
     "execution_count": 76,
     "metadata": {},
     "output_type": "execute_result"
    }
   ],
   "source": [
    "# Obtener ultima fila\n",
    "df.iloc[-1]"
   ]
  },
  {
   "cell_type": "code",
   "execution_count": 77,
   "metadata": {
    "ExecuteTime": {
     "end_time": "2019-11-01T16:25:29.673946Z",
     "start_time": "2019-11-01T16:25:29.667260Z"
    }
   },
   "outputs": [
    {
     "data": {
      "text/plain": [
       "1    ARGE\n",
       "3    COLO\n",
       "2    ESPA\n",
       "0    MEXI\n",
       "4    VENE\n",
       "Name: Codigo, dtype: object"
      ]
     },
     "execution_count": 77,
     "metadata": {},
     "output_type": "execute_result"
    }
   ],
   "source": [
    "# obtener primera columna\n",
    "df.iloc[:,0]"
   ]
  },
  {
   "cell_type": "code",
   "execution_count": 78,
   "metadata": {
    "ExecuteTime": {
     "end_time": "2019-11-01T16:26:27.040151Z",
     "start_time": "2019-11-01T16:26:27.032513Z"
    }
   },
   "outputs": [
    {
     "data": {
      "text/plain": [
       "Codigo             ESPA\n",
       "Pais             Espana\n",
       "Poblacion      47099000\n",
       "Categoria             B\n",
       "Superficie       505944\n",
       "Habit_x_km2          93\n",
       "Name: 2, dtype: object"
      ]
     },
     "execution_count": 78,
     "metadata": {},
     "output_type": "execute_result"
    }
   ],
   "source": [
    "# Busco por indice\n",
    "df.loc[2]"
   ]
  },
  {
   "cell_type": "code",
   "execution_count": 84,
   "metadata": {
    "ExecuteTime": {
     "end_time": "2019-11-01T16:30:21.541499Z",
     "start_time": "2019-11-01T16:30:21.535748Z"
    }
   },
   "outputs": [
    {
     "data": {
      "text/plain": [
       "Index(['Codigo', 'Pais', 'Poblacion', 'Categoria', 'Superficie',\n",
       "       'Habit_x_km2'],\n",
       "      dtype='object')"
      ]
     },
     "execution_count": 84,
     "metadata": {},
     "output_type": "execute_result"
    }
   ],
   "source": [
    "df.columns"
   ]
  },
  {
   "cell_type": "code",
   "execution_count": 83,
   "metadata": {
    "ExecuteTime": {
     "end_time": "2019-11-01T16:29:00.459256Z",
     "start_time": "2019-11-01T16:29:00.449058Z"
    }
   },
   "outputs": [
    {
     "data": {
      "text/html": [
       "<div>\n",
       "<style scoped>\n",
       "    .dataframe tbody tr th:only-of-type {\n",
       "        vertical-align: middle;\n",
       "    }\n",
       "\n",
       "    .dataframe tbody tr th {\n",
       "        vertical-align: top;\n",
       "    }\n",
       "\n",
       "    .dataframe thead th {\n",
       "        text-align: right;\n",
       "    }\n",
       "</style>\n",
       "<table border=\"1\" class=\"dataframe\">\n",
       "  <thead>\n",
       "    <tr style=\"text-align: right;\">\n",
       "      <th></th>\n",
       "      <th>Pais</th>\n",
       "    </tr>\n",
       "  </thead>\n",
       "  <tbody>\n",
       "    <tr>\n",
       "      <td>2</td>\n",
       "      <td>Espana</td>\n",
       "    </tr>\n",
       "    <tr>\n",
       "      <td>4</td>\n",
       "      <td>Venezuela</td>\n",
       "    </tr>\n",
       "  </tbody>\n",
       "</table>\n",
       "</div>"
      ],
      "text/plain": [
       "        Pais\n",
       "2     Espana\n",
       "4  Venezuela"
      ]
     },
     "execution_count": 83,
     "metadata": {},
     "output_type": "execute_result"
    }
   ],
   "source": [
    "# obtner una columna dentro de una condicion\n",
    "df.loc[ df['Superficie'] < 1000000 ,[\"Pais\"]]"
   ]
  },
  {
   "cell_type": "code",
   "execution_count": 86,
   "metadata": {
    "ExecuteTime": {
     "end_time": "2019-11-01T16:31:45.314846Z",
     "start_time": "2019-11-01T16:31:45.299595Z"
    }
   },
   "outputs": [
    {
     "data": {
      "text/html": [
       "<div>\n",
       "<style scoped>\n",
       "    .dataframe tbody tr th:only-of-type {\n",
       "        vertical-align: middle;\n",
       "    }\n",
       "\n",
       "    .dataframe tbody tr th {\n",
       "        vertical-align: top;\n",
       "    }\n",
       "\n",
       "    .dataframe thead th {\n",
       "        text-align: right;\n",
       "    }\n",
       "</style>\n",
       "<table border=\"1\" class=\"dataframe\">\n",
       "  <thead>\n",
       "    <tr style=\"text-align: right;\">\n",
       "      <th></th>\n",
       "      <th>Codigo</th>\n",
       "      <th>Pais</th>\n",
       "      <th>Poblacion</th>\n",
       "      <th>Categoria</th>\n",
       "      <th>Superficie</th>\n",
       "      <th>Habit_x_km2</th>\n",
       "    </tr>\n",
       "  </thead>\n",
       "  <tbody>\n",
       "    <tr>\n",
       "      <td>1</td>\n",
       "      <td>ARGE</td>\n",
       "      <td>Argentina</td>\n",
       "      <td>45167000</td>\n",
       "      <td>C</td>\n",
       "      <td>1964375</td>\n",
       "      <td>22</td>\n",
       "    </tr>\n",
       "    <tr>\n",
       "      <td>3</td>\n",
       "      <td>COLO</td>\n",
       "      <td>Colombia</td>\n",
       "      <td>48922000</td>\n",
       "      <td>A</td>\n",
       "      <td>2780400</td>\n",
       "      <td>17</td>\n",
       "    </tr>\n",
       "    <tr>\n",
       "      <td>2</td>\n",
       "      <td>ESPA</td>\n",
       "      <td>Espana</td>\n",
       "      <td>47099000</td>\n",
       "      <td>D</td>\n",
       "      <td>505944</td>\n",
       "      <td>93</td>\n",
       "    </tr>\n",
       "    <tr>\n",
       "      <td>0</td>\n",
       "      <td>MEXI</td>\n",
       "      <td>Mexico</td>\n",
       "      <td>127212000</td>\n",
       "      <td>B</td>\n",
       "      <td>1142748</td>\n",
       "      <td>111</td>\n",
       "    </tr>\n",
       "    <tr>\n",
       "      <td>4</td>\n",
       "      <td>VENE</td>\n",
       "      <td>Venezuela</td>\n",
       "      <td>32423000</td>\n",
       "      <td>D</td>\n",
       "      <td>916445</td>\n",
       "      <td>35</td>\n",
       "    </tr>\n",
       "  </tbody>\n",
       "</table>\n",
       "</div>"
      ],
      "text/plain": [
       "  Codigo       Pais  Poblacion Categoria  Superficie  Habit_x_km2\n",
       "1   ARGE  Argentina   45167000         C     1964375           22\n",
       "3   COLO   Colombia   48922000         A     2780400           17\n",
       "2   ESPA     Espana   47099000         D      505944           93\n",
       "0   MEXI     Mexico  127212000         B     1142748          111\n",
       "4   VENE  Venezuela   32423000         D      916445           35"
      ]
     },
     "execution_count": 86,
     "metadata": {},
     "output_type": "execute_result"
    }
   ],
   "source": [
    "# Modificar Valor con loc\n",
    "df.loc[ df['Superficie'] < 1000000 ,\"Categoria\"] = 'D'\n",
    "df"
   ]
  },
  {
   "cell_type": "code",
   "execution_count": null,
   "metadata": {},
   "outputs": [],
   "source": []
  }
 ],
 "metadata": {
  "kernelspec": {
   "display_name": "Python 3",
   "language": "python",
   "name": "python3"
  },
  "language_info": {
   "codemirror_mode": {
    "name": "ipython",
    "version": 3
   },
   "file_extension": ".py",
   "mimetype": "text/x-python",
   "name": "python",
   "nbconvert_exporter": "python",
   "pygments_lexer": "ipython3",
   "version": "3.6.9"
  }
 },
 "nbformat": 4,
 "nbformat_minor": 2
}
