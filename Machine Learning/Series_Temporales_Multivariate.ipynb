{
 "cells": [
  {
   "cell_type": "markdown",
   "metadata": {},
   "source": [
    "# Predicción de Series Temporales NN - Multivariate"
   ]
  },
  {
   "cell_type": "markdown",
   "metadata": {},
   "source": [
    "El artículo completo con la explicación detallada en el blog: http://www.aprendemachinelearning.com/"
   ]
  },
  {
   "cell_type": "markdown",
   "metadata": {},
   "source": [
    "## Usaremos Keras y Tensorflow"
   ]
  },
  {
   "cell_type": "markdown",
   "metadata": {},
   "source": [
    "Importamos las Librerías que vamos a utilizar"
   ]
  },
  {
   "cell_type": "code",
   "execution_count": 161,
   "metadata": {
    "ExecuteTime": {
     "end_time": "2019-03-09T11:38:08.477422Z",
     "start_time": "2019-03-09T11:38:08.469434Z"
    }
   },
   "outputs": [],
   "source": [
    "import pandas as pd\n",
    "import numpy as np\n",
    "import matplotlib.pylab as plt\n",
    "%matplotlib inline\n",
    "plt.rcParams['figure.figsize'] = (16, 9)\n",
    "plt.style.use('fast')\n",
    "\n",
    "from keras.models import Sequential\n",
    "from keras.layers import Dense,Activation,Flatten\n",
    "from sklearn.preprocessing import MinMaxScaler"
   ]
  },
  {
   "cell_type": "markdown",
   "metadata": {},
   "source": [
    "### Cargamos nuestro Dataset"
   ]
  },
  {
   "cell_type": "code",
   "execution_count": 162,
   "metadata": {
    "ExecuteTime": {
     "end_time": "2019-03-09T11:38:08.498936Z",
     "start_time": "2019-03-09T11:38:08.481129Z"
    }
   },
   "outputs": [
    {
     "data": {
      "text/html": [
       "<div>\n",
       "<style scoped>\n",
       "    .dataframe tbody tr th:only-of-type {\n",
       "        vertical-align: middle;\n",
       "    }\n",
       "\n",
       "    .dataframe tbody tr th {\n",
       "        vertical-align: top;\n",
       "    }\n",
       "\n",
       "    .dataframe thead th {\n",
       "        text-align: right;\n",
       "    }\n",
       "</style>\n",
       "<table border=\"1\" class=\"dataframe\">\n",
       "  <thead>\n",
       "    <tr style=\"text-align: right;\">\n",
       "      <th></th>\n",
       "      <th>unidades</th>\n",
       "    </tr>\n",
       "    <tr>\n",
       "      <th>fecha</th>\n",
       "      <th></th>\n",
       "    </tr>\n",
       "  </thead>\n",
       "  <tbody>\n",
       "    <tr>\n",
       "      <th>2017-01-02</th>\n",
       "      <td>236</td>\n",
       "    </tr>\n",
       "    <tr>\n",
       "      <th>2017-01-03</th>\n",
       "      <td>237</td>\n",
       "    </tr>\n",
       "    <tr>\n",
       "      <th>2017-01-04</th>\n",
       "      <td>290</td>\n",
       "    </tr>\n",
       "    <tr>\n",
       "      <th>2017-01-05</th>\n",
       "      <td>221</td>\n",
       "    </tr>\n",
       "    <tr>\n",
       "      <th>2017-01-07</th>\n",
       "      <td>128</td>\n",
       "    </tr>\n",
       "  </tbody>\n",
       "</table>\n",
       "</div>"
      ],
      "text/plain": [
       "            unidades\n",
       "fecha               \n",
       "2017-01-02       236\n",
       "2017-01-03       237\n",
       "2017-01-04       290\n",
       "2017-01-05       221\n",
       "2017-01-07       128"
      ]
     },
     "execution_count": 162,
     "metadata": {},
     "output_type": "execute_result"
    }
   ],
   "source": [
    "df = pd.read_csv('time_series.csv',  parse_dates=[0], header=None,index_col=0, names=['fecha','unidades'])\n",
    "df.head()"
   ]
  },
  {
   "cell_type": "markdown",
   "metadata": {},
   "source": [
    "### Cargamos Datos Categóricos: Día y Mes"
   ]
  },
  {
   "cell_type": "code",
   "execution_count": 163,
   "metadata": {
    "ExecuteTime": {
     "end_time": "2019-03-09T11:38:08.520760Z",
     "start_time": "2019-03-09T11:38:08.503032Z"
    }
   },
   "outputs": [
    {
     "data": {
      "text/html": [
       "<div>\n",
       "<style scoped>\n",
       "    .dataframe tbody tr th:only-of-type {\n",
       "        vertical-align: middle;\n",
       "    }\n",
       "\n",
       "    .dataframe tbody tr th {\n",
       "        vertical-align: top;\n",
       "    }\n",
       "\n",
       "    .dataframe thead th {\n",
       "        text-align: right;\n",
       "    }\n",
       "</style>\n",
       "<table border=\"1\" class=\"dataframe\">\n",
       "  <thead>\n",
       "    <tr style=\"text-align: right;\">\n",
       "      <th></th>\n",
       "      <th>unidades</th>\n",
       "      <th>weekday</th>\n",
       "      <th>month</th>\n",
       "    </tr>\n",
       "    <tr>\n",
       "      <th>fecha</th>\n",
       "      <th></th>\n",
       "      <th></th>\n",
       "      <th></th>\n",
       "    </tr>\n",
       "  </thead>\n",
       "  <tbody>\n",
       "    <tr>\n",
       "      <th>2017-01-02</th>\n",
       "      <td>236</td>\n",
       "      <td>0</td>\n",
       "      <td>1</td>\n",
       "    </tr>\n",
       "    <tr>\n",
       "      <th>2017-01-03</th>\n",
       "      <td>237</td>\n",
       "      <td>1</td>\n",
       "      <td>1</td>\n",
       "    </tr>\n",
       "    <tr>\n",
       "      <th>2017-01-04</th>\n",
       "      <td>290</td>\n",
       "      <td>2</td>\n",
       "      <td>1</td>\n",
       "    </tr>\n",
       "    <tr>\n",
       "      <th>2017-01-05</th>\n",
       "      <td>221</td>\n",
       "      <td>3</td>\n",
       "      <td>1</td>\n",
       "    </tr>\n",
       "    <tr>\n",
       "      <th>2017-01-07</th>\n",
       "      <td>128</td>\n",
       "      <td>5</td>\n",
       "      <td>1</td>\n",
       "    </tr>\n",
       "  </tbody>\n",
       "</table>\n",
       "</div>"
      ],
      "text/plain": [
       "            unidades  weekday  month\n",
       "fecha                               \n",
       "2017-01-02       236        0      1\n",
       "2017-01-03       237        1      1\n",
       "2017-01-04       290        2      1\n",
       "2017-01-05       221        3      1\n",
       "2017-01-07       128        5      1"
      ]
     },
     "execution_count": 163,
     "metadata": {},
     "output_type": "execute_result"
    }
   ],
   "source": [
    "df['weekday']=[x.weekday() for x in df.index]\n",
    "df['month']=[x.month for x in df.index]\n",
    "df.head()"
   ]
  },
  {
   "cell_type": "code",
   "execution_count": 164,
   "metadata": {
    "ExecuteTime": {
     "end_time": "2019-03-09T11:38:08.545066Z",
     "start_time": "2019-03-09T11:38:08.523852Z"
    }
   },
   "outputs": [
    {
     "data": {
      "text/html": [
       "<div>\n",
       "<style scoped>\n",
       "    .dataframe tbody tr th:only-of-type {\n",
       "        vertical-align: middle;\n",
       "    }\n",
       "\n",
       "    .dataframe tbody tr th {\n",
       "        vertical-align: top;\n",
       "    }\n",
       "\n",
       "    .dataframe thead th {\n",
       "        text-align: right;\n",
       "    }\n",
       "</style>\n",
       "<table border=\"1\" class=\"dataframe\">\n",
       "  <thead>\n",
       "    <tr style=\"text-align: right;\">\n",
       "      <th></th>\n",
       "      <th>unidades</th>\n",
       "      <th>weekday</th>\n",
       "      <th>month</th>\n",
       "    </tr>\n",
       "  </thead>\n",
       "  <tbody>\n",
       "    <tr>\n",
       "      <th>count</th>\n",
       "      <td>604.000000</td>\n",
       "      <td>604.000000</td>\n",
       "      <td>604.000000</td>\n",
       "    </tr>\n",
       "    <tr>\n",
       "      <th>mean</th>\n",
       "      <td>215.935430</td>\n",
       "      <td>2.644040</td>\n",
       "      <td>6.304636</td>\n",
       "    </tr>\n",
       "    <tr>\n",
       "      <th>std</th>\n",
       "      <td>75.050304</td>\n",
       "      <td>1.818674</td>\n",
       "      <td>3.312359</td>\n",
       "    </tr>\n",
       "    <tr>\n",
       "      <th>min</th>\n",
       "      <td>51.000000</td>\n",
       "      <td>0.000000</td>\n",
       "      <td>1.000000</td>\n",
       "    </tr>\n",
       "    <tr>\n",
       "      <th>25%</th>\n",
       "      <td>171.000000</td>\n",
       "      <td>1.000000</td>\n",
       "      <td>3.000000</td>\n",
       "    </tr>\n",
       "    <tr>\n",
       "      <th>50%</th>\n",
       "      <td>214.000000</td>\n",
       "      <td>3.000000</td>\n",
       "      <td>6.000000</td>\n",
       "    </tr>\n",
       "    <tr>\n",
       "      <th>75%</th>\n",
       "      <td>261.250000</td>\n",
       "      <td>4.000000</td>\n",
       "      <td>9.000000</td>\n",
       "    </tr>\n",
       "    <tr>\n",
       "      <th>max</th>\n",
       "      <td>591.000000</td>\n",
       "      <td>6.000000</td>\n",
       "      <td>12.000000</td>\n",
       "    </tr>\n",
       "  </tbody>\n",
       "</table>\n",
       "</div>"
      ],
      "text/plain": [
       "         unidades     weekday       month\n",
       "count  604.000000  604.000000  604.000000\n",
       "mean   215.935430    2.644040    6.304636\n",
       "std     75.050304    1.818674    3.312359\n",
       "min     51.000000    0.000000    1.000000\n",
       "25%    171.000000    1.000000    3.000000\n",
       "50%    214.000000    3.000000    6.000000\n",
       "75%    261.250000    4.000000    9.000000\n",
       "max    591.000000    6.000000   12.000000"
      ]
     },
     "execution_count": 164,
     "metadata": {},
     "output_type": "execute_result"
    }
   ],
   "source": [
    "df.describe()"
   ]
  },
  {
   "cell_type": "markdown",
   "metadata": {},
   "source": [
    "# Preprocesado de los datos"
   ]
  },
  {
   "cell_type": "code",
   "execution_count": null,
   "metadata": {},
   "outputs": [],
   "source": [
    "\n",
    "# convert series to supervised learning\n",
    "def series_to_supervised(data, n_in=1, n_out=1, dropnan=True):\n",
    "    n_vars = 1 if type(data) is list else data.shape[1]\n",
    "    df = pd.DataFrame(data)\n",
    "    cols, names = list(), list()\n",
    "    # input sequence (t-n, ... t-1)\n",
    "    for i in range(n_in, 0, -1):\n",
    "        cols.append(df.shift(i))\n",
    "        names += [('var%d(t-%d)' % (j+1, i)) for j in range(n_vars)]\n",
    "    # forecast sequence (t, t+1, ... t+n)\n",
    "    for i in range(0, n_out):\n",
    "        cols.append(df.shift(-i))\n",
    "        if i == 0:\n",
    "            names += [('var%d(t)' % (j+1)) for j in range(n_vars)]\n",
    "        else:\n",
    "            names += [('var%d(t+%d)' % (j+1, i)) for j in range(n_vars)]\n",
    "    # put it all together\n",
    "    agg = pd.concat(cols, axis=1)\n",
    "    agg.columns = names\n",
    "    # drop rows with NaN values\n",
    "    if dropnan:\n",
    "        agg.dropna(inplace=True)\n",
    "    return agg\n",
    " "
   ]
  },
  {
   "cell_type": "code",
   "execution_count": 165,
   "metadata": {
    "ExecuteTime": {
     "end_time": "2019-03-09T11:38:08.595658Z",
     "start_time": "2019-03-09T11:38:08.548198Z"
    }
   },
   "outputs": [
    {
     "name": "stdout",
     "output_type": "stream",
     "text": [
      "[[ 0.          1.         -0.31481487]\n",
      " [ 1.          1.         -0.31111115]\n",
      " [ 2.          1.         -0.11481488]\n",
      " ...\n",
      " [ 2.         11.         -0.51111114]\n",
      " [ 3.         11.         -0.25925928]\n",
      " [ 4.         11.         -0.48888892]]\n"
     ]
    },
    {
     "data": {
      "text/html": [
       "<div>\n",
       "<style scoped>\n",
       "    .dataframe tbody tr th:only-of-type {\n",
       "        vertical-align: middle;\n",
       "    }\n",
       "\n",
       "    .dataframe tbody tr th {\n",
       "        vertical-align: top;\n",
       "    }\n",
       "\n",
       "    .dataframe thead th {\n",
       "        text-align: right;\n",
       "    }\n",
       "</style>\n",
       "<table border=\"1\" class=\"dataframe\">\n",
       "  <thead>\n",
       "    <tr style=\"text-align: right;\">\n",
       "      <th></th>\n",
       "      <th>var1(t-7)</th>\n",
       "      <th>var2(t-7)</th>\n",
       "      <th>var3(t-7)</th>\n",
       "      <th>var1(t-6)</th>\n",
       "      <th>var2(t-6)</th>\n",
       "      <th>var3(t-6)</th>\n",
       "      <th>var1(t-5)</th>\n",
       "      <th>var2(t-5)</th>\n",
       "      <th>var3(t-5)</th>\n",
       "      <th>var1(t-4)</th>\n",
       "      <th>...</th>\n",
       "      <th>var3(t-3)</th>\n",
       "      <th>var1(t-2)</th>\n",
       "      <th>var2(t-2)</th>\n",
       "      <th>var3(t-2)</th>\n",
       "      <th>var1(t-1)</th>\n",
       "      <th>var2(t-1)</th>\n",
       "      <th>var3(t-1)</th>\n",
       "      <th>var1(t)</th>\n",
       "      <th>var2(t)</th>\n",
       "      <th>var3(t)</th>\n",
       "    </tr>\n",
       "    <tr>\n",
       "      <th>fecha</th>\n",
       "      <th></th>\n",
       "      <th></th>\n",
       "      <th></th>\n",
       "      <th></th>\n",
       "      <th></th>\n",
       "      <th></th>\n",
       "      <th></th>\n",
       "      <th></th>\n",
       "      <th></th>\n",
       "      <th></th>\n",
       "      <th></th>\n",
       "      <th></th>\n",
       "      <th></th>\n",
       "      <th></th>\n",
       "      <th></th>\n",
       "      <th></th>\n",
       "      <th></th>\n",
       "      <th></th>\n",
       "      <th></th>\n",
       "      <th></th>\n",
       "      <th></th>\n",
       "    </tr>\n",
       "  </thead>\n",
       "  <tbody>\n",
       "    <tr>\n",
       "      <th>2017-01-11</th>\n",
       "      <td>0.0</td>\n",
       "      <td>1.0</td>\n",
       "      <td>-0.314815</td>\n",
       "      <td>1.0</td>\n",
       "      <td>1.0</td>\n",
       "      <td>-0.311111</td>\n",
       "      <td>2.0</td>\n",
       "      <td>1.0</td>\n",
       "      <td>-0.114815</td>\n",
       "      <td>3.0</td>\n",
       "      <td>...</td>\n",
       "      <td>-0.714815</td>\n",
       "      <td>0.0</td>\n",
       "      <td>1.0</td>\n",
       "      <td>-0.103704</td>\n",
       "      <td>1.0</td>\n",
       "      <td>1.0</td>\n",
       "      <td>-0.225926</td>\n",
       "      <td>2</td>\n",
       "      <td>1</td>\n",
       "      <td>-0.433333</td>\n",
       "    </tr>\n",
       "    <tr>\n",
       "      <th>2017-01-12</th>\n",
       "      <td>1.0</td>\n",
       "      <td>1.0</td>\n",
       "      <td>-0.311111</td>\n",
       "      <td>2.0</td>\n",
       "      <td>1.0</td>\n",
       "      <td>-0.114815</td>\n",
       "      <td>3.0</td>\n",
       "      <td>1.0</td>\n",
       "      <td>-0.370370</td>\n",
       "      <td>5.0</td>\n",
       "      <td>...</td>\n",
       "      <td>-0.103704</td>\n",
       "      <td>1.0</td>\n",
       "      <td>1.0</td>\n",
       "      <td>-0.225926</td>\n",
       "      <td>2.0</td>\n",
       "      <td>1.0</td>\n",
       "      <td>-0.433333</td>\n",
       "      <td>3</td>\n",
       "      <td>1</td>\n",
       "      <td>-0.607407</td>\n",
       "    </tr>\n",
       "    <tr>\n",
       "      <th>2017-01-13</th>\n",
       "      <td>2.0</td>\n",
       "      <td>1.0</td>\n",
       "      <td>-0.114815</td>\n",
       "      <td>3.0</td>\n",
       "      <td>1.0</td>\n",
       "      <td>-0.370370</td>\n",
       "      <td>5.0</td>\n",
       "      <td>1.0</td>\n",
       "      <td>-0.714815</td>\n",
       "      <td>0.0</td>\n",
       "      <td>...</td>\n",
       "      <td>-0.225926</td>\n",
       "      <td>2.0</td>\n",
       "      <td>1.0</td>\n",
       "      <td>-0.433333</td>\n",
       "      <td>3.0</td>\n",
       "      <td>1.0</td>\n",
       "      <td>-0.607407</td>\n",
       "      <td>4</td>\n",
       "      <td>1</td>\n",
       "      <td>-0.522222</td>\n",
       "    </tr>\n",
       "    <tr>\n",
       "      <th>2017-01-14</th>\n",
       "      <td>3.0</td>\n",
       "      <td>1.0</td>\n",
       "      <td>-0.370370</td>\n",
       "      <td>5.0</td>\n",
       "      <td>1.0</td>\n",
       "      <td>-0.714815</td>\n",
       "      <td>0.0</td>\n",
       "      <td>1.0</td>\n",
       "      <td>-0.103704</td>\n",
       "      <td>1.0</td>\n",
       "      <td>...</td>\n",
       "      <td>-0.433333</td>\n",
       "      <td>3.0</td>\n",
       "      <td>1.0</td>\n",
       "      <td>-0.607407</td>\n",
       "      <td>4.0</td>\n",
       "      <td>1.0</td>\n",
       "      <td>-0.522222</td>\n",
       "      <td>5</td>\n",
       "      <td>1</td>\n",
       "      <td>-0.644444</td>\n",
       "    </tr>\n",
       "    <tr>\n",
       "      <th>2017-01-16</th>\n",
       "      <td>5.0</td>\n",
       "      <td>1.0</td>\n",
       "      <td>-0.714815</td>\n",
       "      <td>0.0</td>\n",
       "      <td>1.0</td>\n",
       "      <td>-0.103704</td>\n",
       "      <td>1.0</td>\n",
       "      <td>1.0</td>\n",
       "      <td>-0.225926</td>\n",
       "      <td>2.0</td>\n",
       "      <td>...</td>\n",
       "      <td>-0.607407</td>\n",
       "      <td>4.0</td>\n",
       "      <td>1.0</td>\n",
       "      <td>-0.522222</td>\n",
       "      <td>5.0</td>\n",
       "      <td>1.0</td>\n",
       "      <td>-0.644444</td>\n",
       "      <td>0</td>\n",
       "      <td>1</td>\n",
       "      <td>-0.344444</td>\n",
       "    </tr>\n",
       "  </tbody>\n",
       "</table>\n",
       "<p>5 rows × 24 columns</p>\n",
       "</div>"
      ],
      "text/plain": [
       "            var1(t-7)  var2(t-7)  var3(t-7)  var1(t-6)  var2(t-6)  var3(t-6)  \\\n",
       "fecha                                                                          \n",
       "2017-01-11        0.0        1.0  -0.314815        1.0        1.0  -0.311111   \n",
       "2017-01-12        1.0        1.0  -0.311111        2.0        1.0  -0.114815   \n",
       "2017-01-13        2.0        1.0  -0.114815        3.0        1.0  -0.370370   \n",
       "2017-01-14        3.0        1.0  -0.370370        5.0        1.0  -0.714815   \n",
       "2017-01-16        5.0        1.0  -0.714815        0.0        1.0  -0.103704   \n",
       "\n",
       "            var1(t-5)  var2(t-5)  var3(t-5)  var1(t-4)    ...     var3(t-3)  \\\n",
       "fecha                                                     ...                 \n",
       "2017-01-11        2.0        1.0  -0.114815        3.0    ...     -0.714815   \n",
       "2017-01-12        3.0        1.0  -0.370370        5.0    ...     -0.103704   \n",
       "2017-01-13        5.0        1.0  -0.714815        0.0    ...     -0.225926   \n",
       "2017-01-14        0.0        1.0  -0.103704        1.0    ...     -0.433333   \n",
       "2017-01-16        1.0        1.0  -0.225926        2.0    ...     -0.607407   \n",
       "\n",
       "            var1(t-2)  var2(t-2)  var3(t-2)  var1(t-1)  var2(t-1)  var3(t-1)  \\\n",
       "fecha                                                                          \n",
       "2017-01-11        0.0        1.0  -0.103704        1.0        1.0  -0.225926   \n",
       "2017-01-12        1.0        1.0  -0.225926        2.0        1.0  -0.433333   \n",
       "2017-01-13        2.0        1.0  -0.433333        3.0        1.0  -0.607407   \n",
       "2017-01-14        3.0        1.0  -0.607407        4.0        1.0  -0.522222   \n",
       "2017-01-16        4.0        1.0  -0.522222        5.0        1.0  -0.644444   \n",
       "\n",
       "            var1(t)  var2(t)   var3(t)  \n",
       "fecha                                   \n",
       "2017-01-11        2        1 -0.433333  \n",
       "2017-01-12        3        1 -0.607407  \n",
       "2017-01-13        4        1 -0.522222  \n",
       "2017-01-14        5        1 -0.644444  \n",
       "2017-01-16        0        1 -0.344444  \n",
       "\n",
       "[5 rows x 24 columns]"
      ]
     },
     "execution_count": 165,
     "metadata": {},
     "output_type": "execute_result"
    }
   ],
   "source": [
    "PASOS=7\n",
    "\n",
    "# load dataset\n",
    "values = df['unidades'].values\n",
    "\n",
    "# ensure all data is float\n",
    "values = values.astype('float32')\n",
    "# normalize features\n",
    "scaler = MinMaxScaler(feature_range=(-1, 1))\n",
    "values=values.reshape(-1, 1) # esto lo hacemos porque tenemos 1 sola dimension\n",
    "scaled = scaler.fit_transform(values)\n",
    "\n",
    "df['scaled'] = scaled\n",
    "scaledMerge=df.drop('unidades',axis=1)\n",
    "#print(scaledMerge.values)\n",
    "\n",
    "# frame as supervised learning\n",
    "reframed = series_to_supervised(scaledMerge, PASOS, 1)\n",
    "reframed.head()"
   ]
  },
  {
   "cell_type": "markdown",
   "metadata": {},
   "source": [
    "## Dividimos en set de Entrenamiento y Validación"
   ]
  },
  {
   "cell_type": "code",
   "execution_count": 166,
   "metadata": {
    "ExecuteTime": {
     "end_time": "2019-03-09T11:38:08.638397Z",
     "start_time": "2019-03-09T11:38:08.598139Z"
    },
    "scrolled": true
   },
   "outputs": [
    {
     "name": "stdout",
     "output_type": "stream",
     "text": [
      "(597, 22)\n"
     ]
    },
    {
     "data": {
      "text/html": [
       "<div>\n",
       "<style scoped>\n",
       "    .dataframe tbody tr th:only-of-type {\n",
       "        vertical-align: middle;\n",
       "    }\n",
       "\n",
       "    .dataframe tbody tr th {\n",
       "        vertical-align: top;\n",
       "    }\n",
       "\n",
       "    .dataframe thead th {\n",
       "        text-align: right;\n",
       "    }\n",
       "</style>\n",
       "<table border=\"1\" class=\"dataframe\">\n",
       "  <thead>\n",
       "    <tr style=\"text-align: right;\">\n",
       "      <th></th>\n",
       "      <th>var1(t-7)</th>\n",
       "      <th>var2(t-7)</th>\n",
       "      <th>var3(t-7)</th>\n",
       "      <th>var1(t-6)</th>\n",
       "      <th>var2(t-6)</th>\n",
       "      <th>var3(t-6)</th>\n",
       "      <th>var1(t-5)</th>\n",
       "      <th>var2(t-5)</th>\n",
       "      <th>var3(t-5)</th>\n",
       "      <th>var1(t-4)</th>\n",
       "      <th>...</th>\n",
       "      <th>var1(t-3)</th>\n",
       "      <th>var2(t-3)</th>\n",
       "      <th>var3(t-3)</th>\n",
       "      <th>var1(t-2)</th>\n",
       "      <th>var2(t-2)</th>\n",
       "      <th>var3(t-2)</th>\n",
       "      <th>var1(t-1)</th>\n",
       "      <th>var2(t-1)</th>\n",
       "      <th>var3(t-1)</th>\n",
       "      <th>var3(t)</th>\n",
       "    </tr>\n",
       "    <tr>\n",
       "      <th>fecha</th>\n",
       "      <th></th>\n",
       "      <th></th>\n",
       "      <th></th>\n",
       "      <th></th>\n",
       "      <th></th>\n",
       "      <th></th>\n",
       "      <th></th>\n",
       "      <th></th>\n",
       "      <th></th>\n",
       "      <th></th>\n",
       "      <th></th>\n",
       "      <th></th>\n",
       "      <th></th>\n",
       "      <th></th>\n",
       "      <th></th>\n",
       "      <th></th>\n",
       "      <th></th>\n",
       "      <th></th>\n",
       "      <th></th>\n",
       "      <th></th>\n",
       "      <th></th>\n",
       "    </tr>\n",
       "  </thead>\n",
       "  <tbody>\n",
       "    <tr>\n",
       "      <th>2017-01-11</th>\n",
       "      <td>0.0</td>\n",
       "      <td>1.0</td>\n",
       "      <td>-0.314815</td>\n",
       "      <td>1.0</td>\n",
       "      <td>1.0</td>\n",
       "      <td>-0.311111</td>\n",
       "      <td>2.0</td>\n",
       "      <td>1.0</td>\n",
       "      <td>-0.114815</td>\n",
       "      <td>3.0</td>\n",
       "      <td>...</td>\n",
       "      <td>5.0</td>\n",
       "      <td>1.0</td>\n",
       "      <td>-0.714815</td>\n",
       "      <td>0.0</td>\n",
       "      <td>1.0</td>\n",
       "      <td>-0.103704</td>\n",
       "      <td>1.0</td>\n",
       "      <td>1.0</td>\n",
       "      <td>-0.225926</td>\n",
       "      <td>-0.433333</td>\n",
       "    </tr>\n",
       "    <tr>\n",
       "      <th>2017-01-12</th>\n",
       "      <td>1.0</td>\n",
       "      <td>1.0</td>\n",
       "      <td>-0.311111</td>\n",
       "      <td>2.0</td>\n",
       "      <td>1.0</td>\n",
       "      <td>-0.114815</td>\n",
       "      <td>3.0</td>\n",
       "      <td>1.0</td>\n",
       "      <td>-0.370370</td>\n",
       "      <td>5.0</td>\n",
       "      <td>...</td>\n",
       "      <td>0.0</td>\n",
       "      <td>1.0</td>\n",
       "      <td>-0.103704</td>\n",
       "      <td>1.0</td>\n",
       "      <td>1.0</td>\n",
       "      <td>-0.225926</td>\n",
       "      <td>2.0</td>\n",
       "      <td>1.0</td>\n",
       "      <td>-0.433333</td>\n",
       "      <td>-0.607407</td>\n",
       "    </tr>\n",
       "    <tr>\n",
       "      <th>2017-01-13</th>\n",
       "      <td>2.0</td>\n",
       "      <td>1.0</td>\n",
       "      <td>-0.114815</td>\n",
       "      <td>3.0</td>\n",
       "      <td>1.0</td>\n",
       "      <td>-0.370370</td>\n",
       "      <td>5.0</td>\n",
       "      <td>1.0</td>\n",
       "      <td>-0.714815</td>\n",
       "      <td>0.0</td>\n",
       "      <td>...</td>\n",
       "      <td>1.0</td>\n",
       "      <td>1.0</td>\n",
       "      <td>-0.225926</td>\n",
       "      <td>2.0</td>\n",
       "      <td>1.0</td>\n",
       "      <td>-0.433333</td>\n",
       "      <td>3.0</td>\n",
       "      <td>1.0</td>\n",
       "      <td>-0.607407</td>\n",
       "      <td>-0.522222</td>\n",
       "    </tr>\n",
       "    <tr>\n",
       "      <th>2017-01-14</th>\n",
       "      <td>3.0</td>\n",
       "      <td>1.0</td>\n",
       "      <td>-0.370370</td>\n",
       "      <td>5.0</td>\n",
       "      <td>1.0</td>\n",
       "      <td>-0.714815</td>\n",
       "      <td>0.0</td>\n",
       "      <td>1.0</td>\n",
       "      <td>-0.103704</td>\n",
       "      <td>1.0</td>\n",
       "      <td>...</td>\n",
       "      <td>2.0</td>\n",
       "      <td>1.0</td>\n",
       "      <td>-0.433333</td>\n",
       "      <td>3.0</td>\n",
       "      <td>1.0</td>\n",
       "      <td>-0.607407</td>\n",
       "      <td>4.0</td>\n",
       "      <td>1.0</td>\n",
       "      <td>-0.522222</td>\n",
       "      <td>-0.644444</td>\n",
       "    </tr>\n",
       "    <tr>\n",
       "      <th>2017-01-16</th>\n",
       "      <td>5.0</td>\n",
       "      <td>1.0</td>\n",
       "      <td>-0.714815</td>\n",
       "      <td>0.0</td>\n",
       "      <td>1.0</td>\n",
       "      <td>-0.103704</td>\n",
       "      <td>1.0</td>\n",
       "      <td>1.0</td>\n",
       "      <td>-0.225926</td>\n",
       "      <td>2.0</td>\n",
       "      <td>...</td>\n",
       "      <td>3.0</td>\n",
       "      <td>1.0</td>\n",
       "      <td>-0.607407</td>\n",
       "      <td>4.0</td>\n",
       "      <td>1.0</td>\n",
       "      <td>-0.522222</td>\n",
       "      <td>5.0</td>\n",
       "      <td>1.0</td>\n",
       "      <td>-0.644444</td>\n",
       "      <td>-0.344444</td>\n",
       "    </tr>\n",
       "  </tbody>\n",
       "</table>\n",
       "<p>5 rows × 22 columns</p>\n",
       "</div>"
      ],
      "text/plain": [
       "            var1(t-7)  var2(t-7)  var3(t-7)  var1(t-6)  var2(t-6)  var3(t-6)  \\\n",
       "fecha                                                                          \n",
       "2017-01-11        0.0        1.0  -0.314815        1.0        1.0  -0.311111   \n",
       "2017-01-12        1.0        1.0  -0.311111        2.0        1.0  -0.114815   \n",
       "2017-01-13        2.0        1.0  -0.114815        3.0        1.0  -0.370370   \n",
       "2017-01-14        3.0        1.0  -0.370370        5.0        1.0  -0.714815   \n",
       "2017-01-16        5.0        1.0  -0.714815        0.0        1.0  -0.103704   \n",
       "\n",
       "            var1(t-5)  var2(t-5)  var3(t-5)  var1(t-4)    ...     var1(t-3)  \\\n",
       "fecha                                                     ...                 \n",
       "2017-01-11        2.0        1.0  -0.114815        3.0    ...           5.0   \n",
       "2017-01-12        3.0        1.0  -0.370370        5.0    ...           0.0   \n",
       "2017-01-13        5.0        1.0  -0.714815        0.0    ...           1.0   \n",
       "2017-01-14        0.0        1.0  -0.103704        1.0    ...           2.0   \n",
       "2017-01-16        1.0        1.0  -0.225926        2.0    ...           3.0   \n",
       "\n",
       "            var2(t-3)  var3(t-3)  var1(t-2)  var2(t-2)  var3(t-2)  var1(t-1)  \\\n",
       "fecha                                                                          \n",
       "2017-01-11        1.0  -0.714815        0.0        1.0  -0.103704        1.0   \n",
       "2017-01-12        1.0  -0.103704        1.0        1.0  -0.225926        2.0   \n",
       "2017-01-13        1.0  -0.225926        2.0        1.0  -0.433333        3.0   \n",
       "2017-01-14        1.0  -0.433333        3.0        1.0  -0.607407        4.0   \n",
       "2017-01-16        1.0  -0.607407        4.0        1.0  -0.522222        5.0   \n",
       "\n",
       "            var2(t-1)  var3(t-1)   var3(t)  \n",
       "fecha                                       \n",
       "2017-01-11        1.0  -0.225926 -0.433333  \n",
       "2017-01-12        1.0  -0.433333 -0.607407  \n",
       "2017-01-13        1.0  -0.607407 -0.522222  \n",
       "2017-01-14        1.0  -0.522222 -0.644444  \n",
       "2017-01-16        1.0  -0.644444 -0.344444  \n",
       "\n",
       "[5 rows x 22 columns]"
      ]
     },
     "execution_count": 166,
     "metadata": {},
     "output_type": "execute_result"
    }
   ],
   "source": [
    "newReframed=reframed.drop(['var1(t)','var2(t)'],axis=1)\n",
    "print(newReframed.shape)\n",
    "newReframed.head()"
   ]
  },
  {
   "cell_type": "code",
   "execution_count": 167,
   "metadata": {
    "ExecuteTime": {
     "end_time": "2019-03-09T11:38:08.654131Z",
     "start_time": "2019-03-09T11:38:08.641865Z"
    }
   },
   "outputs": [
    {
     "name": "stdout",
     "output_type": "stream",
     "text": [
      "(567, 1, 21) (567,) (30, 1, 21) (30,)\n"
     ]
    }
   ],
   "source": [
    "# split into train and test sets\n",
    "values = newReframed.values\n",
    "n_train_days = 315+289 - (30+PASOS)\n",
    "train = values[:n_train_days, :]\n",
    "test = values[n_train_days:, :]\n",
    "# split into input and outputs\n",
    "x_train, y_train = train[:, :-1], train[:, -1]\n",
    "x_val, y_val = test[:, :-1], test[:, -1]\n",
    "# reshape input to be 3D [samples, timesteps, features]\n",
    "x_train = x_train.reshape((x_train.shape[0], 1, x_train.shape[1]))\n",
    "x_val = x_val.reshape((x_val.shape[0], 1, x_val.shape[1]))\n",
    "print(x_train.shape, y_train.shape, x_val.shape, y_val.shape)"
   ]
  },
  {
   "cell_type": "markdown",
   "metadata": {
    "ExecuteTime": {
     "end_time": "2019-02-22T21:40:14.487519Z",
     "start_time": "2019-02-22T21:40:14.474395Z"
    }
   },
   "source": [
    "# Creamos el Modelo de Red Neuronal"
   ]
  },
  {
   "cell_type": "markdown",
   "metadata": {},
   "source": [
    "## Utilizaremos una Red Feedforward"
   ]
  },
  {
   "cell_type": "markdown",
   "metadata": {},
   "source": [
    "### Como entradas son 21 columnas (7 pasos por 3 variables)"
   ]
  },
  {
   "cell_type": "code",
   "execution_count": 168,
   "metadata": {
    "ExecuteTime": {
     "end_time": "2019-03-09T11:38:08.664641Z",
     "start_time": "2019-03-09T11:38:08.657037Z"
    }
   },
   "outputs": [],
   "source": [
    "def crear_modeloFF():\n",
    "    model = Sequential() \n",
    "    model.add(Dense(PASOS, input_shape=(1,PASOS*3),activation='tanh'))\n",
    "    model.add(Flatten())\n",
    "    model.add(Dense(1, activation='tanh'))\n",
    "    model.compile(loss='mean_absolute_error',optimizer='Adam',metrics=[\"mse\"])\n",
    "    model.summary()\n",
    "    return model\n"
   ]
  },
  {
   "cell_type": "markdown",
   "metadata": {},
   "source": [
    "## Entrenamos nuestra máquina"
   ]
  },
  {
   "cell_type": "code",
   "execution_count": 169,
   "metadata": {
    "ExecuteTime": {
     "end_time": "2019-03-09T11:38:14.490273Z",
     "start_time": "2019-03-09T11:38:08.667759Z"
    }
   },
   "outputs": [
    {
     "name": "stdout",
     "output_type": "stream",
     "text": [
      "_________________________________________________________________\n",
      "Layer (type)                 Output Shape              Param #   \n",
      "=================================================================\n",
      "dense_9 (Dense)              (None, 1, 7)              154       \n",
      "_________________________________________________________________\n",
      "flatten_5 (Flatten)          (None, 7)                 0         \n",
      "_________________________________________________________________\n",
      "dense_10 (Dense)             (None, 1)                 8         \n",
      "=================================================================\n",
      "Total params: 162\n",
      "Trainable params: 162\n",
      "Non-trainable params: 0\n",
      "_________________________________________________________________\n",
      "Train on 567 samples, validate on 30 samples\n",
      "Epoch 1/40\n",
      "567/567 [==============================] - 0s 769us/step - loss: 0.9168 - mean_squared_error: 1.0901 - val_loss: 0.2777 - val_mean_squared_error: 0.1117\n",
      "Epoch 2/40\n",
      "567/567 [==============================] - 0s 232us/step - loss: 0.3147 - mean_squared_error: 0.1677 - val_loss: 0.2270 - val_mean_squared_error: 0.0790\n",
      "Epoch 3/40\n",
      "567/567 [==============================] - 0s 229us/step - loss: 0.2561 - mean_squared_error: 0.1173 - val_loss: 0.2822 - val_mean_squared_error: 0.1181\n",
      "Epoch 4/40\n",
      "567/567 [==============================] - 0s 222us/step - loss: 0.2370 - mean_squared_error: 0.0952 - val_loss: 0.2239 - val_mean_squared_error: 0.0770\n",
      "Epoch 5/40\n",
      "567/567 [==============================] - 0s 212us/step - loss: 0.2175 - mean_squared_error: 0.0842 - val_loss: 0.1679 - val_mean_squared_error: 0.0480\n",
      "Epoch 6/40\n",
      "567/567 [==============================] - 0s 214us/step - loss: 0.2056 - mean_squared_error: 0.0778 - val_loss: 0.1868 - val_mean_squared_error: 0.0543\n",
      "Epoch 7/40\n",
      "567/567 [==============================] - 0s 218us/step - loss: 0.1965 - mean_squared_error: 0.0724 - val_loss: 0.1976 - val_mean_squared_error: 0.0596\n",
      "Epoch 8/40\n",
      "567/567 [==============================] - 0s 226us/step - loss: 0.1883 - mean_squared_error: 0.0699 - val_loss: 0.1467 - val_mean_squared_error: 0.0378\n",
      "Epoch 9/40\n",
      "567/567 [==============================] - 0s 213us/step - loss: 0.1789 - mean_squared_error: 0.0662 - val_loss: 0.1635 - val_mean_squared_error: 0.0477\n",
      "Epoch 10/40\n",
      "567/567 [==============================] - 0s 222us/step - loss: 0.1719 - mean_squared_error: 0.0648 - val_loss: 0.1554 - val_mean_squared_error: 0.0388\n",
      "Epoch 11/40\n",
      "567/567 [==============================] - 0s 217us/step - loss: 0.1697 - mean_squared_error: 0.0620 - val_loss: 0.1667 - val_mean_squared_error: 0.0464\n",
      "Epoch 12/40\n",
      "567/567 [==============================] - 0s 210us/step - loss: 0.1661 - mean_squared_error: 0.0607 - val_loss: 0.1357 - val_mean_squared_error: 0.0354\n",
      "Epoch 13/40\n",
      "567/567 [==============================] - 0s 217us/step - loss: 0.1635 - mean_squared_error: 0.0601 - val_loss: 0.1529 - val_mean_squared_error: 0.0405\n",
      "Epoch 14/40\n",
      "567/567 [==============================] - 0s 212us/step - loss: 0.1641 - mean_squared_error: 0.0605 - val_loss: 0.1435 - val_mean_squared_error: 0.0399\n",
      "Epoch 15/40\n",
      "567/567 [==============================] - 0s 213us/step - loss: 0.1607 - mean_squared_error: 0.0591 - val_loss: 0.1301 - val_mean_squared_error: 0.0325\n",
      "Epoch 16/40\n",
      "567/567 [==============================] - 0s 216us/step - loss: 0.1607 - mean_squared_error: 0.0594 - val_loss: 0.1343 - val_mean_squared_error: 0.0362\n",
      "Epoch 17/40\n",
      "567/567 [==============================] - 0s 212us/step - loss: 0.1598 - mean_squared_error: 0.0586 - val_loss: 0.1448 - val_mean_squared_error: 0.0381\n",
      "Epoch 18/40\n",
      "567/567 [==============================] - 0s 212us/step - loss: 0.1597 - mean_squared_error: 0.0588 - val_loss: 0.1447 - val_mean_squared_error: 0.0391\n",
      "Epoch 19/40\n",
      "567/567 [==============================] - 0s 219us/step - loss: 0.1590 - mean_squared_error: 0.0580 - val_loss: 0.1495 - val_mean_squared_error: 0.0435\n",
      "Epoch 20/40\n",
      "567/567 [==============================] - 0s 215us/step - loss: 0.1597 - mean_squared_error: 0.0582 - val_loss: 0.1427 - val_mean_squared_error: 0.0383\n",
      "Epoch 21/40\n",
      "567/567 [==============================] - 0s 218us/step - loss: 0.1577 - mean_squared_error: 0.0583 - val_loss: 0.1425 - val_mean_squared_error: 0.0350\n",
      "Epoch 22/40\n",
      "567/567 [==============================] - 0s 213us/step - loss: 0.1576 - mean_squared_error: 0.0566 - val_loss: 0.1379 - val_mean_squared_error: 0.0376\n",
      "Epoch 23/40\n",
      "567/567 [==============================] - 0s 258us/step - loss: 0.1572 - mean_squared_error: 0.0567 - val_loss: 0.1393 - val_mean_squared_error: 0.0373\n",
      "Epoch 24/40\n",
      "567/567 [==============================] - 0s 275us/step - loss: 0.1553 - mean_squared_error: 0.0555 - val_loss: 0.1354 - val_mean_squared_error: 0.0349\n",
      "Epoch 25/40\n",
      "567/567 [==============================] - 0s 206us/step - loss: 0.1552 - mean_squared_error: 0.0568 - val_loss: 0.1534 - val_mean_squared_error: 0.0429\n",
      "Epoch 26/40\n",
      "567/567 [==============================] - 0s 201us/step - loss: 0.1544 - mean_squared_error: 0.0545 - val_loss: 0.1471 - val_mean_squared_error: 0.0386\n",
      "Epoch 27/40\n",
      "567/567 [==============================] - 0s 228us/step - loss: 0.1534 - mean_squared_error: 0.0539 - val_loss: 0.1517 - val_mean_squared_error: 0.0437\n",
      "Epoch 28/40\n",
      "567/567 [==============================] - 0s 213us/step - loss: 0.1530 - mean_squared_error: 0.0543 - val_loss: 0.1388 - val_mean_squared_error: 0.0365\n",
      "Epoch 29/40\n",
      "567/567 [==============================] - 0s 227us/step - loss: 0.1532 - mean_squared_error: 0.0534 - val_loss: 0.1430 - val_mean_squared_error: 0.0388\n",
      "Epoch 30/40\n",
      "567/567 [==============================] - 0s 239us/step - loss: 0.1515 - mean_squared_error: 0.0530 - val_loss: 0.1303 - val_mean_squared_error: 0.0314\n",
      "Epoch 31/40\n",
      "567/567 [==============================] - 0s 204us/step - loss: 0.1533 - mean_squared_error: 0.0544 - val_loss: 0.1339 - val_mean_squared_error: 0.0336\n",
      "Epoch 32/40\n",
      "567/567 [==============================] - 0s 202us/step - loss: 0.1521 - mean_squared_error: 0.0527 - val_loss: 0.1428 - val_mean_squared_error: 0.0366\n",
      "Epoch 33/40\n",
      "567/567 [==============================] - 0s 209us/step - loss: 0.1517 - mean_squared_error: 0.0531 - val_loss: 0.1403 - val_mean_squared_error: 0.0369\n",
      "Epoch 34/40\n",
      "567/567 [==============================] - 0s 235us/step - loss: 0.1505 - mean_squared_error: 0.0521 - val_loss: 0.1491 - val_mean_squared_error: 0.0394\n",
      "Epoch 35/40\n",
      "567/567 [==============================] - 0s 218us/step - loss: 0.1508 - mean_squared_error: 0.0524 - val_loss: 0.1441 - val_mean_squared_error: 0.0385\n",
      "Epoch 36/40\n",
      "567/567 [==============================] - 0s 204us/step - loss: 0.1536 - mean_squared_error: 0.0537 - val_loss: 0.1363 - val_mean_squared_error: 0.0330\n",
      "Epoch 37/40\n",
      "567/567 [==============================] - 0s 296us/step - loss: 0.1531 - mean_squared_error: 0.0534 - val_loss: 0.1528 - val_mean_squared_error: 0.0424\n",
      "Epoch 38/40\n",
      "567/567 [==============================] - 0s 277us/step - loss: 0.1507 - mean_squared_error: 0.0522 - val_loss: 0.1380 - val_mean_squared_error: 0.0348\n",
      "Epoch 39/40\n",
      "567/567 [==============================] - 0s 318us/step - loss: 0.1503 - mean_squared_error: 0.0532 - val_loss: 0.1398 - val_mean_squared_error: 0.0355\n",
      "Epoch 40/40\n",
      "567/567 [==============================] - 0s 282us/step - loss: 0.1508 - mean_squared_error: 0.0518 - val_loss: 0.1411 - val_mean_squared_error: 0.0389\n"
     ]
    }
   ],
   "source": [
    "EPOCHS=40\n",
    "\n",
    "model = crear_modeloFF()\n",
    "\n",
    "history=model.fit(x_train,y_train,epochs=EPOCHS,validation_data=(x_val,y_val),batch_size=PASOS)"
   ]
  },
  {
   "cell_type": "markdown",
   "metadata": {},
   "source": [
    "## Visualizamos Resultados"
   ]
  },
  {
   "cell_type": "code",
   "execution_count": 183,
   "metadata": {
    "ExecuteTime": {
     "end_time": "2019-03-13T09:02:13.051879Z",
     "start_time": "2019-03-13T09:02:12.899589Z"
    }
   },
   "outputs": [
    {
     "name": "stdout",
     "output_type": "stream",
     "text": [
      "30\n"
     ]
    },
    {
     "data": {
      "image/png": "[encoded data removed]",
      "text/plain": [
       "<Figure size 432x288 with 1 Axes>"
      ]
     },
     "metadata": {},
     "output_type": "display_data"
    }
   ],
   "source": [
    "results=model.predict(x_val)\n",
    "print( len(results) )\n",
    "plt.scatter(range(len(y_val)),y_val,c='g')\n",
    "plt.scatter(range(len(results)),results,c='r')\n",
    "plt.title('validate')\n",
    "plt.show()\n"
   ]
  },
  {
   "cell_type": "code",
   "execution_count": 186,
   "metadata": {
    "ExecuteTime": {
     "end_time": "2019-03-13T09:03:00.871175Z",
     "start_time": "2019-03-13T09:03:00.722063Z"
    }
   },
   "outputs": [
    {
     "data": {
      "image/png": "[encoded data removed]",
      "text/plain": [
       "<Figure size 432x288 with 1 Axes>"
      ]
     },
     "metadata": {},
     "output_type": "display_data"
    }
   ],
   "source": [
    "plt.ylim(0.12, 0.35)\n",
    "plt.plot(history.history['loss'])\n",
    "plt.title('loss')\n",
    "plt.plot(history.history['val_loss'])\n",
    "plt.title('validate loss')\n",
    "plt.show()"
   ]
  },
  {
   "cell_type": "code",
   "execution_count": 191,
   "metadata": {
    "ExecuteTime": {
     "end_time": "2019-03-13T09:24:59.182822Z",
     "start_time": "2019-03-13T09:24:59.020613Z"
    }
   },
   "outputs": [
    {
     "data": {
      "image/png": "[encoded data removed]",
      "text/plain": [
       "<Figure size 432x288 with 1 Axes>"
      ]
     },
     "metadata": {},
     "output_type": "display_data"
    }
   ],
   "source": [
    "plt.ylim(0.01, 0.18)\n",
    "plt.title('Accuracy')\n",
    "plt.plot(history.history['mean_squared_error'])\n",
    "plt.show()"
   ]
  },
  {
   "cell_type": "code",
   "execution_count": 173,
   "metadata": {
    "ExecuteTime": {
     "end_time": "2019-03-09T11:38:24.552306Z",
     "start_time": "2019-03-09T11:38:24.534522Z"
    },
    "scrolled": false
   },
   "outputs": [
    {
     "data": {
      "text/html": [
       "<div>\n",
       "<style scoped>\n",
       "    .dataframe tbody tr th:only-of-type {\n",
       "        vertical-align: middle;\n",
       "    }\n",
       "\n",
       "    .dataframe tbody tr th {\n",
       "        vertical-align: top;\n",
       "    }\n",
       "\n",
       "    .dataframe thead th {\n",
       "        text-align: right;\n",
       "    }\n",
       "</style>\n",
       "<table border=\"1\" class=\"dataframe\">\n",
       "  <thead>\n",
       "    <tr style=\"text-align: right;\">\n",
       "      <th></th>\n",
       "      <th>real</th>\n",
       "      <th>prediccion</th>\n",
       "      <th>diferencia</th>\n",
       "    </tr>\n",
       "  </thead>\n",
       "  <tbody>\n",
       "    <tr>\n",
       "      <th>0</th>\n",
       "      <td>252.000006</td>\n",
       "      <td>292.846415</td>\n",
       "      <td>-40.846410</td>\n",
       "    </tr>\n",
       "    <tr>\n",
       "      <th>1</th>\n",
       "      <td>220.000002</td>\n",
       "      <td>271.207719</td>\n",
       "      <td>-51.207718</td>\n",
       "    </tr>\n",
       "    <tr>\n",
       "      <th>2</th>\n",
       "      <td>296.000009</td>\n",
       "      <td>250.841323</td>\n",
       "      <td>45.158686</td>\n",
       "    </tr>\n",
       "    <tr>\n",
       "      <th>3</th>\n",
       "      <td>64.999995</td>\n",
       "      <td>233.249007</td>\n",
       "      <td>-168.249012</td>\n",
       "    </tr>\n",
       "    <tr>\n",
       "      <th>4</th>\n",
       "      <td>212.999999</td>\n",
       "      <td>233.514626</td>\n",
       "      <td>-20.514627</td>\n",
       "    </tr>\n",
       "    <tr>\n",
       "      <th>5</th>\n",
       "      <td>95.999996</td>\n",
       "      <td>150.834429</td>\n",
       "      <td>-54.834433</td>\n",
       "    </tr>\n",
       "    <tr>\n",
       "      <th>6</th>\n",
       "      <td>274.999986</td>\n",
       "      <td>239.217922</td>\n",
       "      <td>35.782064</td>\n",
       "    </tr>\n",
       "    <tr>\n",
       "      <th>7</th>\n",
       "      <td>201.000000</td>\n",
       "      <td>198.954112</td>\n",
       "      <td>2.045887</td>\n",
       "    </tr>\n",
       "    <tr>\n",
       "      <th>8</th>\n",
       "      <td>165.000001</td>\n",
       "      <td>199.531724</td>\n",
       "      <td>-34.531722</td>\n",
       "    </tr>\n",
       "    <tr>\n",
       "      <th>9</th>\n",
       "      <td>162.999996</td>\n",
       "      <td>189.600053</td>\n",
       "      <td>-26.600057</td>\n",
       "    </tr>\n",
       "  </tbody>\n",
       "</table>\n",
       "</div>"
      ],
      "text/plain": [
       "         real  prediccion  diferencia\n",
       "0  252.000006  292.846415  -40.846410\n",
       "1  220.000002  271.207719  -51.207718\n",
       "2  296.000009  250.841323   45.158686\n",
       "3   64.999995  233.249007 -168.249012\n",
       "4  212.999999  233.514626  -20.514627\n",
       "5   95.999996  150.834429  -54.834433\n",
       "6  274.999986  239.217922   35.782064\n",
       "7  201.000000  198.954112    2.045887\n",
       "8  165.000001  199.531724  -34.531722\n",
       "9  162.999996  189.600053  -26.600057"
      ]
     },
     "execution_count": 173,
     "metadata": {},
     "output_type": "execute_result"
    }
   ],
   "source": [
    "compara = pd.DataFrame(np.array([y_val, [x[0] for x in results]])).transpose()\n",
    "compara.columns = ['real', 'prediccion']\n",
    "\n",
    "inverted = scaler.inverse_transform(compara.values)\n",
    "\n",
    "compara2 = pd.DataFrame(inverted)\n",
    "compara2.columns = ['real', 'prediccion']\n",
    "compara2['diferencia'] = compara2['real'] - compara2['prediccion']\n",
    "compara2.head(10)"
   ]
  },
  {
   "cell_type": "code",
   "execution_count": 174,
   "metadata": {
    "ExecuteTime": {
     "end_time": "2019-03-09T11:39:51.158993Z",
     "start_time": "2019-03-09T11:39:51.138301Z"
    }
   },
   "outputs": [
    {
     "data": {
      "text/html": [
       "<div>\n",
       "<style scoped>\n",
       "    .dataframe tbody tr th:only-of-type {\n",
       "        vertical-align: middle;\n",
       "    }\n",
       "\n",
       "    .dataframe tbody tr th {\n",
       "        vertical-align: top;\n",
       "    }\n",
       "\n",
       "    .dataframe thead th {\n",
       "        text-align: right;\n",
       "    }\n",
       "</style>\n",
       "<table border=\"1\" class=\"dataframe\">\n",
       "  <thead>\n",
       "    <tr style=\"text-align: right;\">\n",
       "      <th></th>\n",
       "      <th>real</th>\n",
       "      <th>prediccion</th>\n",
       "      <th>diferencia</th>\n",
       "    </tr>\n",
       "  </thead>\n",
       "  <tbody>\n",
       "    <tr>\n",
       "      <th>count</th>\n",
       "      <td>30.000000</td>\n",
       "      <td>30.000000</td>\n",
       "      <td>30.000000</td>\n",
       "    </tr>\n",
       "    <tr>\n",
       "      <th>mean</th>\n",
       "      <td>191.633332</td>\n",
       "      <td>214.917230</td>\n",
       "      <td>-23.283898</td>\n",
       "    </tr>\n",
       "    <tr>\n",
       "      <th>std</th>\n",
       "      <td>57.580817</td>\n",
       "      <td>35.812104</td>\n",
       "      <td>48.738560</td>\n",
       "    </tr>\n",
       "    <tr>\n",
       "      <th>min</th>\n",
       "      <td>64.999995</td>\n",
       "      <td>150.834429</td>\n",
       "      <td>-168.249012</td>\n",
       "    </tr>\n",
       "    <tr>\n",
       "      <th>25%</th>\n",
       "      <td>169.000000</td>\n",
       "      <td>194.593611</td>\n",
       "      <td>-44.651899</td>\n",
       "    </tr>\n",
       "    <tr>\n",
       "      <th>50%</th>\n",
       "      <td>200.499998</td>\n",
       "      <td>209.075410</td>\n",
       "      <td>-24.525737</td>\n",
       "    </tr>\n",
       "    <tr>\n",
       "      <th>75%</th>\n",
       "      <td>220.000002</td>\n",
       "      <td>237.060020</td>\n",
       "      <td>1.978475</td>\n",
       "    </tr>\n",
       "    <tr>\n",
       "      <th>max</th>\n",
       "      <td>296.000009</td>\n",
       "      <td>292.846415</td>\n",
       "      <td>45.158686</td>\n",
       "    </tr>\n",
       "  </tbody>\n",
       "</table>\n",
       "</div>"
      ],
      "text/plain": [
       "             real  prediccion  diferencia\n",
       "count   30.000000   30.000000   30.000000\n",
       "mean   191.633332  214.917230  -23.283898\n",
       "std     57.580817   35.812104   48.738560\n",
       "min     64.999995  150.834429 -168.249012\n",
       "25%    169.000000  194.593611  -44.651899\n",
       "50%    200.499998  209.075410  -24.525737\n",
       "75%    220.000002  237.060020    1.978475\n",
       "max    296.000009  292.846415   45.158686"
      ]
     },
     "execution_count": 174,
     "metadata": {},
     "output_type": "execute_result"
    }
   ],
   "source": [
    "compara2.describe()"
   ]
  },
  {
   "cell_type": "code",
   "execution_count": 192,
   "metadata": {
    "ExecuteTime": {
     "end_time": "2019-03-13T10:23:25.749428Z",
     "start_time": "2019-03-13T10:23:25.504790Z"
    }
   },
   "outputs": [
    {
     "data": {
      "text/plain": [
       "<matplotlib.axes._subplots.AxesSubplot at 0x1a2b57a9e8>"
      ]
     },
     "execution_count": 192,
     "metadata": {},
     "output_type": "execute_result"
    },
    {
     "data": {
      "image/png": "[encoded data removed]",
      "text/plain": [
       "<Figure size 432x288 with 1 Axes>"
      ]
     },
     "metadata": {},
     "output_type": "display_data"
    }
   ],
   "source": [
    "compara2['real'].plot()\n",
    "compara2['prediccion'].plot()"
   ]
  },
  {
   "cell_type": "markdown",
   "metadata": {},
   "source": [
    "# Pronóstico"
   ]
  },
  {
   "cell_type": "markdown",
   "metadata": {},
   "source": [
    "A partir de la última semana de noviembre 2018, intentaremos predecir la primer semana de diciembre."
   ]
  },
  {
   "cell_type": "code",
   "execution_count": 150,
   "metadata": {
    "ExecuteTime": {
     "end_time": "2019-03-09T11:34:22.278202Z",
     "start_time": "2019-03-09T11:34:22.246618Z"
    }
   },
   "outputs": [
    {
     "data": {
      "text/html": [
       "<div>\n",
       "<style scoped>\n",
       "    .dataframe tbody tr th:only-of-type {\n",
       "        vertical-align: middle;\n",
       "    }\n",
       "\n",
       "    .dataframe tbody tr th {\n",
       "        vertical-align: top;\n",
       "    }\n",
       "\n",
       "    .dataframe thead th {\n",
       "        text-align: right;\n",
       "    }\n",
       "</style>\n",
       "<table border=\"1\" class=\"dataframe\">\n",
       "  <thead>\n",
       "    <tr style=\"text-align: right;\">\n",
       "      <th></th>\n",
       "      <th>unidades</th>\n",
       "      <th>weekday</th>\n",
       "      <th>month</th>\n",
       "      <th>scaled</th>\n",
       "    </tr>\n",
       "    <tr>\n",
       "      <th>fecha</th>\n",
       "      <th></th>\n",
       "      <th></th>\n",
       "      <th></th>\n",
       "      <th></th>\n",
       "    </tr>\n",
       "  </thead>\n",
       "  <tbody>\n",
       "    <tr>\n",
       "      <th>2018-11-16</th>\n",
       "      <td>152</td>\n",
       "      <td>4</td>\n",
       "      <td>11</td>\n",
       "      <td>-0.625926</td>\n",
       "    </tr>\n",
       "    <tr>\n",
       "      <th>2018-11-17</th>\n",
       "      <td>111</td>\n",
       "      <td>5</td>\n",
       "      <td>11</td>\n",
       "      <td>-0.777778</td>\n",
       "    </tr>\n",
       "    <tr>\n",
       "      <th>2018-11-19</th>\n",
       "      <td>207</td>\n",
       "      <td>0</td>\n",
       "      <td>11</td>\n",
       "      <td>-0.422222</td>\n",
       "    </tr>\n",
       "    <tr>\n",
       "      <th>2018-11-20</th>\n",
       "      <td>206</td>\n",
       "      <td>1</td>\n",
       "      <td>11</td>\n",
       "      <td>-0.425926</td>\n",
       "    </tr>\n",
       "    <tr>\n",
       "      <th>2018-11-21</th>\n",
       "      <td>183</td>\n",
       "      <td>2</td>\n",
       "      <td>11</td>\n",
       "      <td>-0.511111</td>\n",
       "    </tr>\n",
       "    <tr>\n",
       "      <th>2018-11-22</th>\n",
       "      <td>200</td>\n",
       "      <td>3</td>\n",
       "      <td>11</td>\n",
       "      <td>-0.448148</td>\n",
       "    </tr>\n",
       "    <tr>\n",
       "      <th>2018-11-23</th>\n",
       "      <td>187</td>\n",
       "      <td>4</td>\n",
       "      <td>11</td>\n",
       "      <td>-0.496296</td>\n",
       "    </tr>\n",
       "    <tr>\n",
       "      <th>2018-11-24</th>\n",
       "      <td>189</td>\n",
       "      <td>5</td>\n",
       "      <td>11</td>\n",
       "      <td>-0.488889</td>\n",
       "    </tr>\n",
       "    <tr>\n",
       "      <th>2018-11-25</th>\n",
       "      <td>76</td>\n",
       "      <td>6</td>\n",
       "      <td>11</td>\n",
       "      <td>-0.907407</td>\n",
       "    </tr>\n",
       "    <tr>\n",
       "      <th>2018-11-26</th>\n",
       "      <td>276</td>\n",
       "      <td>0</td>\n",
       "      <td>11</td>\n",
       "      <td>-0.166667</td>\n",
       "    </tr>\n",
       "    <tr>\n",
       "      <th>2018-11-27</th>\n",
       "      <td>220</td>\n",
       "      <td>1</td>\n",
       "      <td>11</td>\n",
       "      <td>-0.374074</td>\n",
       "    </tr>\n",
       "    <tr>\n",
       "      <th>2018-11-28</th>\n",
       "      <td>183</td>\n",
       "      <td>2</td>\n",
       "      <td>11</td>\n",
       "      <td>-0.511111</td>\n",
       "    </tr>\n",
       "    <tr>\n",
       "      <th>2018-11-29</th>\n",
       "      <td>251</td>\n",
       "      <td>3</td>\n",
       "      <td>11</td>\n",
       "      <td>-0.259259</td>\n",
       "    </tr>\n",
       "    <tr>\n",
       "      <th>2018-11-30</th>\n",
       "      <td>189</td>\n",
       "      <td>4</td>\n",
       "      <td>11</td>\n",
       "      <td>-0.488889</td>\n",
       "    </tr>\n",
       "  </tbody>\n",
       "</table>\n",
       "</div>"
      ],
      "text/plain": [
       "            unidades  weekday  month    scaled\n",
       "fecha                                         \n",
       "2018-11-16       152        4     11 -0.625926\n",
       "2018-11-17       111        5     11 -0.777778\n",
       "2018-11-19       207        0     11 -0.422222\n",
       "2018-11-20       206        1     11 -0.425926\n",
       "2018-11-21       183        2     11 -0.511111\n",
       "2018-11-22       200        3     11 -0.448148\n",
       "2018-11-23       187        4     11 -0.496296\n",
       "2018-11-24       189        5     11 -0.488889\n",
       "2018-11-25        76        6     11 -0.907407\n",
       "2018-11-26       276        0     11 -0.166667\n",
       "2018-11-27       220        1     11 -0.374074\n",
       "2018-11-28       183        2     11 -0.511111\n",
       "2018-11-29       251        3     11 -0.259259\n",
       "2018-11-30       189        4     11 -0.488889"
      ]
     },
     "execution_count": 150,
     "metadata": {},
     "output_type": "execute_result"
    }
   ],
   "source": [
    "ultimosDias = df['2018-11-16':'2018-11-30']\n",
    "ultimosDias"
   ]
  },
  {
   "cell_type": "markdown",
   "metadata": {},
   "source": [
    "## Preparamos los datos para Test"
   ]
  },
  {
   "cell_type": "code",
   "execution_count": 151,
   "metadata": {
    "ExecuteTime": {
     "end_time": "2019-03-09T11:34:22.353579Z",
     "start_time": "2019-03-09T11:34:22.281772Z"
    }
   },
   "outputs": [
    {
     "name": "stdout",
     "output_type": "stream",
     "text": [
      "[[ 4.         11.         -0.62592596]\n",
      " [ 5.         11.         -0.77777779]\n",
      " [ 0.         11.         -0.42222226]\n",
      " [ 1.         11.         -0.42592597]\n",
      " [ 2.         11.         -0.51111114]\n",
      " [ 3.         11.         -0.44814819]\n",
      " [ 4.         11.         -0.49629635]\n",
      " [ 5.         11.         -0.48888892]\n",
      " [ 6.         11.         -0.9074074 ]\n",
      " [ 0.         11.         -0.16666675]\n",
      " [ 1.         11.         -0.3740741 ]\n",
      " [ 2.         11.         -0.51111114]\n",
      " [ 3.         11.         -0.25925928]\n",
      " [ 4.         11.         -0.48888892]]\n"
     ]
    },
    {
     "data": {
      "text/html": [
       "<div>\n",
       "<style scoped>\n",
       "    .dataframe tbody tr th:only-of-type {\n",
       "        vertical-align: middle;\n",
       "    }\n",
       "\n",
       "    .dataframe tbody tr th {\n",
       "        vertical-align: top;\n",
       "    }\n",
       "\n",
       "    .dataframe thead th {\n",
       "        text-align: right;\n",
       "    }\n",
       "</style>\n",
       "<table border=\"1\" class=\"dataframe\">\n",
       "  <thead>\n",
       "    <tr style=\"text-align: right;\">\n",
       "      <th></th>\n",
       "      <th>var1(t-7)</th>\n",
       "      <th>var2(t-7)</th>\n",
       "      <th>var3(t-7)</th>\n",
       "      <th>var1(t-6)</th>\n",
       "      <th>var2(t-6)</th>\n",
       "      <th>var3(t-6)</th>\n",
       "      <th>var1(t-5)</th>\n",
       "      <th>var2(t-5)</th>\n",
       "      <th>var3(t-5)</th>\n",
       "      <th>var1(t-4)</th>\n",
       "      <th>...</th>\n",
       "      <th>var3(t-4)</th>\n",
       "      <th>var1(t-3)</th>\n",
       "      <th>var2(t-3)</th>\n",
       "      <th>var3(t-3)</th>\n",
       "      <th>var1(t-2)</th>\n",
       "      <th>var2(t-2)</th>\n",
       "      <th>var3(t-2)</th>\n",
       "      <th>var1(t-1)</th>\n",
       "      <th>var2(t-1)</th>\n",
       "      <th>var3(t-1)</th>\n",
       "    </tr>\n",
       "    <tr>\n",
       "      <th>fecha</th>\n",
       "      <th></th>\n",
       "      <th></th>\n",
       "      <th></th>\n",
       "      <th></th>\n",
       "      <th></th>\n",
       "      <th></th>\n",
       "      <th></th>\n",
       "      <th></th>\n",
       "      <th></th>\n",
       "      <th></th>\n",
       "      <th></th>\n",
       "      <th></th>\n",
       "      <th></th>\n",
       "      <th></th>\n",
       "      <th></th>\n",
       "      <th></th>\n",
       "      <th></th>\n",
       "      <th></th>\n",
       "      <th></th>\n",
       "      <th></th>\n",
       "      <th></th>\n",
       "    </tr>\n",
       "  </thead>\n",
       "  <tbody>\n",
       "    <tr>\n",
       "      <th>2018-11-24</th>\n",
       "      <td>4.0</td>\n",
       "      <td>11.0</td>\n",
       "      <td>-0.625926</td>\n",
       "      <td>5.0</td>\n",
       "      <td>11.0</td>\n",
       "      <td>-0.777778</td>\n",
       "      <td>0.0</td>\n",
       "      <td>11.0</td>\n",
       "      <td>-0.422222</td>\n",
       "      <td>1.0</td>\n",
       "      <td>...</td>\n",
       "      <td>-0.425926</td>\n",
       "      <td>2.0</td>\n",
       "      <td>11.0</td>\n",
       "      <td>-0.511111</td>\n",
       "      <td>3.0</td>\n",
       "      <td>11.0</td>\n",
       "      <td>-0.448148</td>\n",
       "      <td>4.0</td>\n",
       "      <td>11.0</td>\n",
       "      <td>-0.496296</td>\n",
       "    </tr>\n",
       "    <tr>\n",
       "      <th>2018-11-25</th>\n",
       "      <td>5.0</td>\n",
       "      <td>11.0</td>\n",
       "      <td>-0.777778</td>\n",
       "      <td>0.0</td>\n",
       "      <td>11.0</td>\n",
       "      <td>-0.422222</td>\n",
       "      <td>1.0</td>\n",
       "      <td>11.0</td>\n",
       "      <td>-0.425926</td>\n",
       "      <td>2.0</td>\n",
       "      <td>...</td>\n",
       "      <td>-0.511111</td>\n",
       "      <td>3.0</td>\n",
       "      <td>11.0</td>\n",
       "      <td>-0.448148</td>\n",
       "      <td>4.0</td>\n",
       "      <td>11.0</td>\n",
       "      <td>-0.496296</td>\n",
       "      <td>5.0</td>\n",
       "      <td>11.0</td>\n",
       "      <td>-0.488889</td>\n",
       "    </tr>\n",
       "    <tr>\n",
       "      <th>2018-11-26</th>\n",
       "      <td>0.0</td>\n",
       "      <td>11.0</td>\n",
       "      <td>-0.422222</td>\n",
       "      <td>1.0</td>\n",
       "      <td>11.0</td>\n",
       "      <td>-0.425926</td>\n",
       "      <td>2.0</td>\n",
       "      <td>11.0</td>\n",
       "      <td>-0.511111</td>\n",
       "      <td>3.0</td>\n",
       "      <td>...</td>\n",
       "      <td>-0.448148</td>\n",
       "      <td>4.0</td>\n",
       "      <td>11.0</td>\n",
       "      <td>-0.496296</td>\n",
       "      <td>5.0</td>\n",
       "      <td>11.0</td>\n",
       "      <td>-0.488889</td>\n",
       "      <td>6.0</td>\n",
       "      <td>11.0</td>\n",
       "      <td>-0.907407</td>\n",
       "    </tr>\n",
       "    <tr>\n",
       "      <th>2018-11-27</th>\n",
       "      <td>1.0</td>\n",
       "      <td>11.0</td>\n",
       "      <td>-0.425926</td>\n",
       "      <td>2.0</td>\n",
       "      <td>11.0</td>\n",
       "      <td>-0.511111</td>\n",
       "      <td>3.0</td>\n",
       "      <td>11.0</td>\n",
       "      <td>-0.448148</td>\n",
       "      <td>4.0</td>\n",
       "      <td>...</td>\n",
       "      <td>-0.496296</td>\n",
       "      <td>5.0</td>\n",
       "      <td>11.0</td>\n",
       "      <td>-0.488889</td>\n",
       "      <td>6.0</td>\n",
       "      <td>11.0</td>\n",
       "      <td>-0.907407</td>\n",
       "      <td>0.0</td>\n",
       "      <td>11.0</td>\n",
       "      <td>-0.166667</td>\n",
       "    </tr>\n",
       "    <tr>\n",
       "      <th>2018-11-28</th>\n",
       "      <td>2.0</td>\n",
       "      <td>11.0</td>\n",
       "      <td>-0.511111</td>\n",
       "      <td>3.0</td>\n",
       "      <td>11.0</td>\n",
       "      <td>-0.448148</td>\n",
       "      <td>4.0</td>\n",
       "      <td>11.0</td>\n",
       "      <td>-0.496296</td>\n",
       "      <td>5.0</td>\n",
       "      <td>...</td>\n",
       "      <td>-0.488889</td>\n",
       "      <td>6.0</td>\n",
       "      <td>11.0</td>\n",
       "      <td>-0.907407</td>\n",
       "      <td>0.0</td>\n",
       "      <td>11.0</td>\n",
       "      <td>-0.166667</td>\n",
       "      <td>1.0</td>\n",
       "      <td>11.0</td>\n",
       "      <td>-0.374074</td>\n",
       "    </tr>\n",
       "    <tr>\n",
       "      <th>2018-11-29</th>\n",
       "      <td>3.0</td>\n",
       "      <td>11.0</td>\n",
       "      <td>-0.448148</td>\n",
       "      <td>4.0</td>\n",
       "      <td>11.0</td>\n",
       "      <td>-0.496296</td>\n",
       "      <td>5.0</td>\n",
       "      <td>11.0</td>\n",
       "      <td>-0.488889</td>\n",
       "      <td>6.0</td>\n",
       "      <td>...</td>\n",
       "      <td>-0.907407</td>\n",
       "      <td>0.0</td>\n",
       "      <td>11.0</td>\n",
       "      <td>-0.166667</td>\n",
       "      <td>1.0</td>\n",
       "      <td>11.0</td>\n",
       "      <td>-0.374074</td>\n",
       "      <td>2.0</td>\n",
       "      <td>11.0</td>\n",
       "      <td>-0.511111</td>\n",
       "    </tr>\n",
       "    <tr>\n",
       "      <th>2018-11-30</th>\n",
       "      <td>4.0</td>\n",
       "      <td>11.0</td>\n",
       "      <td>-0.496296</td>\n",
       "      <td>5.0</td>\n",
       "      <td>11.0</td>\n",
       "      <td>-0.488889</td>\n",
       "      <td>6.0</td>\n",
       "      <td>11.0</td>\n",
       "      <td>-0.907407</td>\n",
       "      <td>0.0</td>\n",
       "      <td>...</td>\n",
       "      <td>-0.166667</td>\n",
       "      <td>1.0</td>\n",
       "      <td>11.0</td>\n",
       "      <td>-0.374074</td>\n",
       "      <td>2.0</td>\n",
       "      <td>11.0</td>\n",
       "      <td>-0.511111</td>\n",
       "      <td>3.0</td>\n",
       "      <td>11.0</td>\n",
       "      <td>-0.259259</td>\n",
       "    </tr>\n",
       "  </tbody>\n",
       "</table>\n",
       "<p>7 rows × 21 columns</p>\n",
       "</div>"
      ],
      "text/plain": [
       "            var1(t-7)  var2(t-7)  var3(t-7)  var1(t-6)  var2(t-6)  var3(t-6)  \\\n",
       "fecha                                                                          \n",
       "2018-11-24        4.0       11.0  -0.625926        5.0       11.0  -0.777778   \n",
       "2018-11-25        5.0       11.0  -0.777778        0.0       11.0  -0.422222   \n",
       "2018-11-26        0.0       11.0  -0.422222        1.0       11.0  -0.425926   \n",
       "2018-11-27        1.0       11.0  -0.425926        2.0       11.0  -0.511111   \n",
       "2018-11-28        2.0       11.0  -0.511111        3.0       11.0  -0.448148   \n",
       "2018-11-29        3.0       11.0  -0.448148        4.0       11.0  -0.496296   \n",
       "2018-11-30        4.0       11.0  -0.496296        5.0       11.0  -0.488889   \n",
       "\n",
       "            var1(t-5)  var2(t-5)  var3(t-5)  var1(t-4)    ...      var3(t-4)  \\\n",
       "fecha                                                     ...                  \n",
       "2018-11-24        0.0       11.0  -0.422222        1.0    ...      -0.425926   \n",
       "2018-11-25        1.0       11.0  -0.425926        2.0    ...      -0.511111   \n",
       "2018-11-26        2.0       11.0  -0.511111        3.0    ...      -0.448148   \n",
       "2018-11-27        3.0       11.0  -0.448148        4.0    ...      -0.496296   \n",
       "2018-11-28        4.0       11.0  -0.496296        5.0    ...      -0.488889   \n",
       "2018-11-29        5.0       11.0  -0.488889        6.0    ...      -0.907407   \n",
       "2018-11-30        6.0       11.0  -0.907407        0.0    ...      -0.166667   \n",
       "\n",
       "            var1(t-3)  var2(t-3)  var3(t-3)  var1(t-2)  var2(t-2)  var3(t-2)  \\\n",
       "fecha                                                                          \n",
       "2018-11-24        2.0       11.0  -0.511111        3.0       11.0  -0.448148   \n",
       "2018-11-25        3.0       11.0  -0.448148        4.0       11.0  -0.496296   \n",
       "2018-11-26        4.0       11.0  -0.496296        5.0       11.0  -0.488889   \n",
       "2018-11-27        5.0       11.0  -0.488889        6.0       11.0  -0.907407   \n",
       "2018-11-28        6.0       11.0  -0.907407        0.0       11.0  -0.166667   \n",
       "2018-11-29        0.0       11.0  -0.166667        1.0       11.0  -0.374074   \n",
       "2018-11-30        1.0       11.0  -0.374074        2.0       11.0  -0.511111   \n",
       "\n",
       "            var1(t-1)  var2(t-1)  var3(t-1)  \n",
       "fecha                                        \n",
       "2018-11-24        4.0       11.0  -0.496296  \n",
       "2018-11-25        5.0       11.0  -0.488889  \n",
       "2018-11-26        6.0       11.0  -0.907407  \n",
       "2018-11-27        0.0       11.0  -0.166667  \n",
       "2018-11-28        1.0       11.0  -0.374074  \n",
       "2018-11-29        2.0       11.0  -0.511111  \n",
       "2018-11-30        3.0       11.0  -0.259259  \n",
       "\n",
       "[7 rows x 21 columns]"
      ]
     },
     "execution_count": 151,
     "metadata": {},
     "output_type": "execute_result"
    }
   ],
   "source": [
    "scaledMerge=ultimosDias.drop('unidades',axis=1)\n",
    "print(scaledMerge.values)\n",
    "\n",
    "# frame as supervised learning\n",
    "reframed = series_to_supervised(scaledMerge, PASOS, 1)\n",
    "newReframed=reframed.drop(['var1(t)','var2(t)','var3(t)'],axis=1)\n",
    "newReframed.head(7)"
   ]
  },
  {
   "cell_type": "code",
   "execution_count": 153,
   "metadata": {
    "ExecuteTime": {
     "end_time": "2019-03-09T11:34:22.381464Z",
     "start_time": "2019-03-09T11:34:22.372980Z"
    }
   },
   "outputs": [
    {
     "name": "stdout",
     "output_type": "stream",
     "text": [
      "(1, 1, 21)\n",
      "[[[ 4.         11.         -0.49629635  5.         11.\n",
      "   -0.48888892  6.         11.         -0.9074074   0.\n",
      "   11.         -0.16666675  1.         11.         -0.3740741\n",
      "    2.         11.         -0.51111114  3.         11.\n",
      "   -0.25925928]]]\n"
     ]
    }
   ],
   "source": [
    "values = newReframed.values\n",
    "x_test = values[6:, :]\n",
    "x_test = x_test.reshape((x_test.shape[0], 1, x_test.shape[1]))\n",
    "print(x_test.shape)\n",
    "print(x_test)\n",
    "ultDiaSemana = newReframed.index[len(newReframed.index)-1].weekday()"
   ]
  },
  {
   "cell_type": "code",
   "execution_count": 154,
   "metadata": {
    "ExecuteTime": {
     "end_time": "2019-03-09T11:34:22.391817Z",
     "start_time": "2019-03-09T11:34:22.386537Z"
    }
   },
   "outputs": [],
   "source": [
    "def agregarNuevoValor(x_test,nuevoValor,ultDiaSemana):\n",
    "    for i in range(x_test.shape[2]-3):\n",
    "        x_test[0][0][i] = x_test[0][0][i+3]\n",
    "    ultDiaSemana=ultDiaSemana+1\n",
    "    if ultDiaSemana>6:\n",
    "        ultDiaSemana=0\n",
    "    x_test[0][0][x_test.shape[2]-3]=ultDiaSemana\n",
    "    x_test[0][0][x_test.shape[2]-2]=12\n",
    "    x_test[0][0][x_test.shape[2]-1]=nuevoValor\n",
    "    return x_test,ultDiaSemana"
   ]
  },
  {
   "cell_type": "markdown",
   "metadata": {},
   "source": [
    "## Pronóstico para la \"próxima semana\""
   ]
  },
  {
   "cell_type": "code",
   "execution_count": 155,
   "metadata": {
    "ExecuteTime": {
     "end_time": "2019-03-09T11:34:22.417662Z",
     "start_time": "2019-03-09T11:34:22.395033Z"
    }
   },
   "outputs": [
    {
     "name": "stdout",
     "output_type": "stream",
     "text": [
      "pred 0 [[[ 4.         11.         -0.49629635  5.         11.\n",
      "   -0.48888892  6.         11.         -0.9074074   0.\n",
      "   11.         -0.16666675  1.         11.         -0.3740741\n",
      "    2.         11.         -0.51111114  3.         11.\n",
      "   -0.25925928]]]\n",
      "pred 1 [[[ 5.         11.         -0.48888892  6.         11.\n",
      "   -0.9074074   0.         11.         -0.16666675  1.\n",
      "   11.         -0.3740741   2.         11.         -0.51111114\n",
      "    3.         11.         -0.25925928  5.         12.\n",
      "   -0.30600056]]]\n",
      "pred 2 [[[ 6.         11.         -0.9074074   0.         11.\n",
      "   -0.16666675  1.         11.         -0.3740741   2.\n",
      "   11.         -0.51111114  3.         11.         -0.25925928\n",
      "    5.         12.         -0.30600056  6.         12.\n",
      "   -0.60506994]]]\n",
      "pred 3 [[[ 0.         11.         -0.16666675  1.         11.\n",
      "   -0.3740741   2.         11.         -0.51111114  3.\n",
      "   11.         -0.25925928  5.         12.         -0.30600056\n",
      "    6.         12.         -0.60506994  0.         12.\n",
      "   -0.16298515]]]\n",
      "pred 4 [[[ 1.         11.         -0.3740741   2.         11.\n",
      "   -0.51111114  3.         11.         -0.25925928  5.\n",
      "   12.         -0.30600056  6.         12.         -0.60506994\n",
      "    0.         12.         -0.16298515  1.         12.\n",
      "   -0.31580934]]]\n",
      "pred 5 [[[ 2.         11.         -0.51111114  3.         11.\n",
      "   -0.25925928  5.         12.         -0.30600056  6.\n",
      "   12.         -0.60506994  0.         12.         -0.16298515\n",
      "    1.         12.         -0.31580934  2.         12.\n",
      "   -0.35640854]]]\n",
      "pred 6 [[[ 3.         11.         -0.25925928  5.         12.\n",
      "   -0.30600056  6.         12.         -0.60506994  0.\n",
      "   12.         -0.16298515  1.         12.         -0.31580934\n",
      "    2.         12.         -0.35640854  3.         12.\n",
      "   -0.22789632]]]\n"
     ]
    }
   ],
   "source": [
    "results=[]\n",
    "for i in range(7):\n",
    "    parcial=model.predict(x_test)\n",
    "    results.append(parcial[0])\n",
    "    print('pred',i,x_test)\n",
    "    x_test,ultDiaSemana=agregarNuevoValor(x_test,parcial[0],ultDiaSemana)\n",
    "    "
   ]
  },
  {
   "cell_type": "markdown",
   "metadata": {},
   "source": [
    "## Re-Convertimos los resultados"
   ]
  },
  {
   "cell_type": "code",
   "execution_count": 156,
   "metadata": {
    "ExecuteTime": {
     "end_time": "2019-03-09T11:34:22.438967Z",
     "start_time": "2019-03-09T11:34:22.422731Z"
    }
   },
   "outputs": [
    {
     "name": "stdout",
     "output_type": "stream",
     "text": [
      "[array([-0.30600056], dtype=float32), array([-0.60506994], dtype=float32), array([-0.16298515], dtype=float32), array([-0.31580934], dtype=float32), array([-0.35640854], dtype=float32), array([-0.22789632], dtype=float32), array([-0.21720925], dtype=float32)]\n"
     ]
    },
    {
     "data": {
      "text/plain": [
       "array([[238.37985788],\n",
       "       [157.63112526],\n",
       "       [276.99402048],\n",
       "       [235.73148757],\n",
       "       [224.76970415],\n",
       "       [259.46800378],\n",
       "       [262.35351222]])"
      ]
     },
     "execution_count": 156,
     "metadata": {},
     "output_type": "execute_result"
    }
   ],
   "source": [
    "adimen = [x for x in results]    \n",
    "print(adimen)\n",
    "inverted = scaler.inverse_transform(adimen)\n",
    "inverted"
   ]
  },
  {
   "cell_type": "markdown",
   "metadata": {},
   "source": [
    "## Visualizamos el pronóstico"
   ]
  },
  {
   "cell_type": "code",
   "execution_count": 157,
   "metadata": {
    "ExecuteTime": {
     "end_time": "2019-03-09T11:34:22.823595Z",
     "start_time": "2019-03-09T11:34:22.442351Z"
    }
   },
   "outputs": [
    {
     "data": {
      "image/png": "[encoded data removed]",
      "text/plain": [
       "<Figure size 1152x648 with 1 Axes>"
      ]
     },
     "metadata": {},
     "output_type": "display_data"
    }
   ],
   "source": [
    "prediccion1SemanaDiciembre = pd.DataFrame(inverted)\n",
    "prediccion1SemanaDiciembre.columns = ['pronostico']\n",
    "prediccion1SemanaDiciembre.plot()\n",
    "prediccion1SemanaDiciembre.to_csv('pronostico_multivariate.csv')"
   ]
  },
  {
   "cell_type": "code",
   "execution_count": 158,
   "metadata": {
    "ExecuteTime": {
     "end_time": "2019-03-09T11:34:22.846576Z",
     "start_time": "2019-03-09T11:34:22.828234Z"
    }
   },
   "outputs": [
    {
     "data": {
      "text/html": [
       "<div>\n",
       "<style scoped>\n",
       "    .dataframe tbody tr th:only-of-type {\n",
       "        vertical-align: middle;\n",
       "    }\n",
       "\n",
       "    .dataframe tbody tr th {\n",
       "        vertical-align: top;\n",
       "    }\n",
       "\n",
       "    .dataframe thead th {\n",
       "        text-align: right;\n",
       "    }\n",
       "</style>\n",
       "<table border=\"1\" class=\"dataframe\">\n",
       "  <thead>\n",
       "    <tr style=\"text-align: right;\">\n",
       "      <th></th>\n",
       "      <th>pronostico</th>\n",
       "    </tr>\n",
       "  </thead>\n",
       "  <tbody>\n",
       "    <tr>\n",
       "      <th>0</th>\n",
       "      <td>238.379858</td>\n",
       "    </tr>\n",
       "    <tr>\n",
       "      <th>1</th>\n",
       "      <td>157.631125</td>\n",
       "    </tr>\n",
       "    <tr>\n",
       "      <th>2</th>\n",
       "      <td>276.994020</td>\n",
       "    </tr>\n",
       "    <tr>\n",
       "      <th>3</th>\n",
       "      <td>235.731488</td>\n",
       "    </tr>\n",
       "    <tr>\n",
       "      <th>4</th>\n",
       "      <td>224.769704</td>\n",
       "    </tr>\n",
       "    <tr>\n",
       "      <th>5</th>\n",
       "      <td>259.468004</td>\n",
       "    </tr>\n",
       "    <tr>\n",
       "      <th>6</th>\n",
       "      <td>262.353512</td>\n",
       "    </tr>\n",
       "  </tbody>\n",
       "</table>\n",
       "</div>"
      ],
      "text/plain": [
       "   pronostico\n",
       "0  238.379858\n",
       "1  157.631125\n",
       "2  276.994020\n",
       "3  235.731488\n",
       "4  224.769704\n",
       "5  259.468004\n",
       "6  262.353512"
      ]
     },
     "execution_count": 158,
     "metadata": {},
     "output_type": "execute_result"
    }
   ],
   "source": [
    "prediccion1SemanaDiciembre"
   ]
  },
  {
   "cell_type": "markdown",
   "metadata": {},
   "source": [
    "El artículo completo en www.aprendemachinelearning.com"
   ]
  }
 ],
 "metadata": {
  "kernelspec": {
   "display_name": "Python 3",
   "language": "python",
   "name": "python3"
  },
  "language_info": {
   "codemirror_mode": {
    "name": "ipython",
    "version": 3
   },
   "file_extension": ".py",
   "mimetype": "text/x-python",
   "name": "python",
   "nbconvert_exporter": "python",
   "pygments_lexer": "ipython3",
   "version": "3.6.5"
  }
 },
 "nbformat": 4,
 "nbformat_minor": 2
}
