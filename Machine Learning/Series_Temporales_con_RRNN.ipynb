{
 "cells": [
  {
   "cell_type": "markdown",
   "metadata": {},
   "source": [
    "# Predicción de Series Temporales con Redes Neuronales"
   ]
  },
  {
   "cell_type": "markdown",
   "metadata": {},
   "source": [
    "El artículo completo con la explicación detallada en el blog: http://www.aprendemachinelearning.com/"
   ]
  },
  {
   "cell_type": "markdown",
   "metadata": {},
   "source": [
    "## Usaremos Keras y Tensorflow"
   ]
  },
  {
   "cell_type": "markdown",
   "metadata": {},
   "source": [
    "Importamos las Librerías que vamos a utilizar"
   ]
  },
  {
   "cell_type": "code",
   "execution_count": 2,
   "metadata": {
    "ExecuteTime": {
     "end_time": "2019-02-25T20:51:03.702007Z",
     "start_time": "2019-02-25T20:50:45.180334Z"
    }
   },
   "outputs": [
    {
     "name": "stderr",
     "output_type": "stream",
     "text": [
      "Using TensorFlow backend.\n"
     ]
    }
   ],
   "source": [
    "import pandas as pd\n",
    "import numpy as np\n",
    "import matplotlib.pylab as plt\n",
    "%matplotlib inline\n",
    "plt.rcParams['figure.figsize'] = (16, 9)\n",
    "plt.style.use('fast')\n",
    "\n",
    "from keras.models import Sequential\n",
    "from keras.layers import Dense,Activation,Flatten\n",
    "from sklearn.preprocessing import MinMaxScaler"
   ]
  },
  {
   "cell_type": "markdown",
   "metadata": {},
   "source": [
    "### Cargamos nuestro Dataset"
   ]
  },
  {
   "cell_type": "code",
   "execution_count": 3,
   "metadata": {
    "ExecuteTime": {
     "end_time": "2019-02-25T20:51:03.748521Z",
     "start_time": "2019-02-25T20:51:03.704287Z"
    }
   },
   "outputs": [
    {
     "data": {
      "text/plain": [
       "fecha\n",
       "2017-01-02    236\n",
       "2017-01-03    237\n",
       "2017-01-04    290\n",
       "2017-01-05    221\n",
       "2017-01-07    128\n",
       "Name: unidades, dtype: int64"
      ]
     },
     "execution_count": 3,
     "metadata": {},
     "output_type": "execute_result"
    }
   ],
   "source": [
    "df = pd.read_csv('time_series.csv',  parse_dates=[0], header=None,index_col=0, squeeze=True,names=['fecha','unidades'])\n",
    "df.head()"
   ]
  },
  {
   "cell_type": "code",
   "execution_count": 4,
   "metadata": {
    "ExecuteTime": {
     "end_time": "2019-02-25T20:51:03.765627Z",
     "start_time": "2019-02-25T20:51:03.753400Z"
    }
   },
   "outputs": [
    {
     "data": {
      "text/plain": [
       "count    604.000000\n",
       "mean     215.935430\n",
       "std       75.050304\n",
       "min       51.000000\n",
       "25%      171.000000\n",
       "50%      214.000000\n",
       "75%      261.250000\n",
       "max      591.000000\n",
       "Name: unidades, dtype: float64"
      ]
     },
     "execution_count": 4,
     "metadata": {},
     "output_type": "execute_result"
    }
   ],
   "source": [
    "df.describe()"
   ]
  },
  {
   "cell_type": "code",
   "execution_count": 5,
   "metadata": {
    "ExecuteTime": {
     "end_time": "2019-02-25T20:51:03.777528Z",
     "start_time": "2019-02-25T20:51:03.770857Z"
    }
   },
   "outputs": [
    {
     "name": "stdout",
     "output_type": "stream",
     "text": [
      "2017-01-02 00:00:00\n",
      "2018-11-30 00:00:00\n"
     ]
    }
   ],
   "source": [
    "print(df.index.min())\n",
    "print(df.index.max())"
   ]
  },
  {
   "cell_type": "code",
   "execution_count": 6,
   "metadata": {
    "ExecuteTime": {
     "end_time": "2019-02-25T20:51:03.794258Z",
     "start_time": "2019-02-25T20:51:03.784557Z"
    }
   },
   "outputs": [
    {
     "name": "stdout",
     "output_type": "stream",
     "text": [
      "315\n",
      "289\n"
     ]
    }
   ],
   "source": [
    "print(len(df['2017']))\n",
    "print(len(df['2018']))"
   ]
  },
  {
   "cell_type": "code",
   "execution_count": 7,
   "metadata": {
    "ExecuteTime": {
     "end_time": "2019-02-25T20:51:03.859508Z",
     "start_time": "2019-02-25T20:51:03.800478Z"
    }
   },
   "outputs": [
    {
     "data": {
      "text/plain": [
       "fecha\n",
       "2017-01-31    203.923077\n",
       "2017-02-28    184.666667\n",
       "2017-03-31    182.964286\n",
       "2017-04-30    198.960000\n",
       "2017-05-31    201.185185\n",
       "2017-06-30    209.518519\n",
       "2017-07-31    278.923077\n",
       "2017-08-31    316.000000\n",
       "2017-09-30    222.925926\n",
       "2017-10-31    207.851852\n",
       "2017-11-30    185.925926\n",
       "2017-12-31    213.200000\n",
       "2018-01-31    201.384615\n",
       "2018-02-28    190.625000\n",
       "2018-03-31    174.846154\n",
       "2018-04-30    186.000000\n",
       "2018-05-31    190.666667\n",
       "2018-06-30    196.037037\n",
       "2018-07-31    289.500000\n",
       "2018-08-31    309.038462\n",
       "2018-09-30    230.518519\n",
       "2018-10-31    209.444444\n",
       "2018-11-30    184.481481\n",
       "Freq: M, Name: unidades, dtype: float64"
      ]
     },
     "execution_count": 7,
     "metadata": {},
     "output_type": "execute_result"
    }
   ],
   "source": [
    "meses =df.resample('M').mean()\n",
    "meses"
   ]
  },
  {
   "cell_type": "markdown",
   "metadata": {},
   "source": [
    "## Visualizaciones"
   ]
  },
  {
   "cell_type": "code",
   "execution_count": 8,
   "metadata": {
    "ExecuteTime": {
     "end_time": "2019-02-25T20:51:04.096077Z",
     "start_time": "2019-02-25T20:51:03.862373Z"
    }
   },
   "outputs": [
    {
     "data": {
      "text/plain": [
       "[<matplotlib.lines.Line2D at 0x1a30ec5860>]"
      ]
     },
     "execution_count": 8,
     "metadata": {},
     "output_type": "execute_result"
    },
    {
     "data": {
      "image/png": "[encoded data removed]",
      "text/plain": [
       "<Figure size 432x288 with 1 Axes>"
      ]
     },
     "metadata": {},
     "output_type": "display_data"
    }
   ],
   "source": [
    "plt.plot(meses['2017'].values)\n",
    "plt.plot(meses['2018'].values)"
   ]
  },
  {
   "cell_type": "code",
   "execution_count": 9,
   "metadata": {
    "ExecuteTime": {
     "end_time": "2019-02-25T20:51:04.294343Z",
     "start_time": "2019-02-25T20:51:04.099520Z"
    }
   },
   "outputs": [
    {
     "data": {
      "text/plain": [
       "[<matplotlib.lines.Line2D at 0x1a31776470>]"
      ]
     },
     "execution_count": 9,
     "metadata": {},
     "output_type": "execute_result"
    },
    {
     "data": {
      "image/png": "[encoded data removed]",
      "text/plain": [
       "<Figure size 432x288 with 1 Axes>"
      ]
     },
     "metadata": {},
     "output_type": "display_data"
    }
   ],
   "source": [
    "verano2017 = df['2017-06-01':'2017-09-01']\n",
    "plt.plot(verano2017.values)\n",
    "verano2018 = df['2018-06-01':'2018-09-01']\n",
    "plt.plot(verano2018.values)"
   ]
  },
  {
   "cell_type": "markdown",
   "metadata": {},
   "source": [
    "# Preprocesado de los datos"
   ]
  },
  {
   "cell_type": "code",
   "execution_count": 10,
   "metadata": {
    "ExecuteTime": {
     "end_time": "2019-02-25T20:51:04.344102Z",
     "start_time": "2019-02-25T20:51:04.298243Z"
    }
   },
   "outputs": [
    {
     "data": {
      "text/html": [
       "<div>\n",
       "<style scoped>\n",
       "    .dataframe tbody tr th:only-of-type {\n",
       "        vertical-align: middle;\n",
       "    }\n",
       "\n",
       "    .dataframe tbody tr th {\n",
       "        vertical-align: top;\n",
       "    }\n",
       "\n",
       "    .dataframe thead th {\n",
       "        text-align: right;\n",
       "    }\n",
       "</style>\n",
       "<table border=\"1\" class=\"dataframe\">\n",
       "  <thead>\n",
       "    <tr style=\"text-align: right;\">\n",
       "      <th></th>\n",
       "      <th>var1(t-7)</th>\n",
       "      <th>var1(t-6)</th>\n",
       "      <th>var1(t-5)</th>\n",
       "      <th>var1(t-4)</th>\n",
       "      <th>var1(t-3)</th>\n",
       "      <th>var1(t-2)</th>\n",
       "      <th>var1(t-1)</th>\n",
       "      <th>var1(t)</th>\n",
       "    </tr>\n",
       "  </thead>\n",
       "  <tbody>\n",
       "    <tr>\n",
       "      <th>7</th>\n",
       "      <td>-0.314815</td>\n",
       "      <td>-0.311111</td>\n",
       "      <td>-0.114815</td>\n",
       "      <td>-0.370370</td>\n",
       "      <td>-0.714815</td>\n",
       "      <td>-0.103704</td>\n",
       "      <td>-0.225926</td>\n",
       "      <td>-0.433333</td>\n",
       "    </tr>\n",
       "    <tr>\n",
       "      <th>8</th>\n",
       "      <td>-0.311111</td>\n",
       "      <td>-0.114815</td>\n",
       "      <td>-0.370370</td>\n",
       "      <td>-0.714815</td>\n",
       "      <td>-0.103704</td>\n",
       "      <td>-0.225926</td>\n",
       "      <td>-0.433333</td>\n",
       "      <td>-0.607407</td>\n",
       "    </tr>\n",
       "    <tr>\n",
       "      <th>9</th>\n",
       "      <td>-0.114815</td>\n",
       "      <td>-0.370370</td>\n",
       "      <td>-0.714815</td>\n",
       "      <td>-0.103704</td>\n",
       "      <td>-0.225926</td>\n",
       "      <td>-0.433333</td>\n",
       "      <td>-0.607407</td>\n",
       "      <td>-0.522222</td>\n",
       "    </tr>\n",
       "    <tr>\n",
       "      <th>10</th>\n",
       "      <td>-0.370370</td>\n",
       "      <td>-0.714815</td>\n",
       "      <td>-0.103704</td>\n",
       "      <td>-0.225926</td>\n",
       "      <td>-0.433333</td>\n",
       "      <td>-0.607407</td>\n",
       "      <td>-0.522222</td>\n",
       "      <td>-0.644444</td>\n",
       "    </tr>\n",
       "    <tr>\n",
       "      <th>11</th>\n",
       "      <td>-0.714815</td>\n",
       "      <td>-0.103704</td>\n",
       "      <td>-0.225926</td>\n",
       "      <td>-0.433333</td>\n",
       "      <td>-0.607407</td>\n",
       "      <td>-0.522222</td>\n",
       "      <td>-0.644444</td>\n",
       "      <td>-0.344444</td>\n",
       "    </tr>\n",
       "  </tbody>\n",
       "</table>\n",
       "</div>"
      ],
      "text/plain": [
       "    var1(t-7)  var1(t-6)  var1(t-5)  var1(t-4)  var1(t-3)  var1(t-2)  \\\n",
       "7   -0.314815  -0.311111  -0.114815  -0.370370  -0.714815  -0.103704   \n",
       "8   -0.311111  -0.114815  -0.370370  -0.714815  -0.103704  -0.225926   \n",
       "9   -0.114815  -0.370370  -0.714815  -0.103704  -0.225926  -0.433333   \n",
       "10  -0.370370  -0.714815  -0.103704  -0.225926  -0.433333  -0.607407   \n",
       "11  -0.714815  -0.103704  -0.225926  -0.433333  -0.607407  -0.522222   \n",
       "\n",
       "    var1(t-1)   var1(t)  \n",
       "7   -0.225926 -0.433333  \n",
       "8   -0.433333 -0.607407  \n",
       "9   -0.607407 -0.522222  \n",
       "10  -0.522222 -0.644444  \n",
       "11  -0.644444 -0.344444  "
      ]
     },
     "execution_count": 10,
     "metadata": {},
     "output_type": "execute_result"
    }
   ],
   "source": [
    "PASOS=7\n",
    "\n",
    "# convert series to supervised learning\n",
    "def series_to_supervised(data, n_in=1, n_out=1, dropnan=True):\n",
    "    n_vars = 1 if type(data) is list else data.shape[1]\n",
    "    df = pd.DataFrame(data)\n",
    "    cols, names = list(), list()\n",
    "    # input sequence (t-n, ... t-1)\n",
    "    for i in range(n_in, 0, -1):\n",
    "        cols.append(df.shift(i))\n",
    "        names += [('var%d(t-%d)' % (j+1, i)) for j in range(n_vars)]\n",
    "    # forecast sequence (t, t+1, ... t+n)\n",
    "    for i in range(0, n_out):\n",
    "        cols.append(df.shift(-i))\n",
    "        if i == 0:\n",
    "            names += [('var%d(t)' % (j+1)) for j in range(n_vars)]\n",
    "        else:\n",
    "            names += [('var%d(t+%d)' % (j+1, i)) for j in range(n_vars)]\n",
    "    # put it all together\n",
    "    agg = pd.concat(cols, axis=1)\n",
    "    agg.columns = names\n",
    "    # drop rows with NaN values\n",
    "    if dropnan:\n",
    "        agg.dropna(inplace=True)\n",
    "    return agg\n",
    " \n",
    "# load dataset\n",
    "values = df.values\n",
    "# ensure all data is float\n",
    "values = values.astype('float32')\n",
    "# normalize features\n",
    "scaler = MinMaxScaler(feature_range=(-1, 1))\n",
    "values=values.reshape(-1, 1) # esto lo hacemos porque tenemos 1 sola dimension\n",
    "scaled = scaler.fit_transform(values)\n",
    "# frame as supervised learning\n",
    "reframed = series_to_supervised(scaled, PASOS, 1)\n",
    "reframed.head()"
   ]
  },
  {
   "cell_type": "markdown",
   "metadata": {},
   "source": [
    "## Dividimos en set de Entrenamiento y Validación"
   ]
  },
  {
   "cell_type": "code",
   "execution_count": 11,
   "metadata": {
    "ExecuteTime": {
     "end_time": "2019-02-25T20:51:04.359517Z",
     "start_time": "2019-02-25T20:51:04.349323Z"
    }
   },
   "outputs": [
    {
     "name": "stdout",
     "output_type": "stream",
     "text": [
      "(567, 1, 7) (567,) (30, 1, 7) (30,)\n"
     ]
    }
   ],
   "source": [
    "# split into train and test sets\n",
    "values = reframed.values\n",
    "n_train_days = 315+289 - (30+PASOS)\n",
    "train = values[:n_train_days, :]\n",
    "test = values[n_train_days:, :]\n",
    "# split into input and outputs\n",
    "x_train, y_train = train[:, :-1], train[:, -1]\n",
    "x_val, y_val = test[:, :-1], test[:, -1]\n",
    "# reshape input to be 3D [samples, timesteps, features]\n",
    "x_train = x_train.reshape((x_train.shape[0], 1, x_train.shape[1]))\n",
    "x_val = x_val.reshape((x_val.shape[0], 1, x_val.shape[1]))\n",
    "print(x_train.shape, y_train.shape, x_val.shape, y_val.shape)"
   ]
  },
  {
   "cell_type": "markdown",
   "metadata": {
    "ExecuteTime": {
     "end_time": "2019-02-22T21:40:14.487519Z",
     "start_time": "2019-02-22T21:40:14.474395Z"
    }
   },
   "source": [
    "# Creamos el Modelo de Red Neuronal"
   ]
  },
  {
   "cell_type": "markdown",
   "metadata": {},
   "source": [
    "## Utilizaremos una Red \"normal\" Feedforward"
   ]
  },
  {
   "cell_type": "code",
   "execution_count": 12,
   "metadata": {
    "ExecuteTime": {
     "end_time": "2019-02-25T20:51:04.368665Z",
     "start_time": "2019-02-25T20:51:04.362320Z"
    }
   },
   "outputs": [],
   "source": [
    "def crear_modeloFF():\n",
    "    model = Sequential() \n",
    "    model.add(Dense(PASOS, input_shape=(1,PASOS),activation='tanh'))\n",
    "    model.add(Flatten())\n",
    "    model.add(Dense(1, activation='tanh'))\n",
    "    model.compile(loss='mean_absolute_error',optimizer='Adam',metrics=[\"mse\"])\n",
    "    model.summary()\n",
    "    return model\n"
   ]
  },
  {
   "cell_type": "markdown",
   "metadata": {},
   "source": [
    "## Entrenamos nuestra máquina"
   ]
  },
  {
   "cell_type": "code",
   "execution_count": 13,
   "metadata": {
    "ExecuteTime": {
     "end_time": "2019-02-25T20:51:12.615429Z",
     "start_time": "2019-02-25T20:51:04.373597Z"
    }
   },
   "outputs": [
    {
     "name": "stdout",
     "output_type": "stream",
     "text": [
      "_________________________________________________________________\n",
      "Layer (type)                 Output Shape              Param #   \n",
      "=================================================================\n",
      "dense_1 (Dense)              (None, 1, 7)              56        \n",
      "_________________________________________________________________\n",
      "flatten_1 (Flatten)          (None, 7)                 0         \n",
      "_________________________________________________________________\n",
      "dense_2 (Dense)              (None, 1)                 8         \n",
      "=================================================================\n",
      "Total params: 64\n",
      "Trainable params: 64\n",
      "Non-trainable params: 0\n",
      "_________________________________________________________________\n",
      "Train on 567 samples, validate on 30 samples\n",
      "Epoch 1/40\n",
      "567/567 [==============================] - 0s 795us/step - loss: 0.3436 - mean_squared_error: 0.1881 - val_loss: 0.1672 - val_mean_squared_error: 0.0444\n",
      "Epoch 2/40\n",
      "567/567 [==============================] - 0s 255us/step - loss: 0.2224 - mean_squared_error: 0.0793 - val_loss: 0.1621 - val_mean_squared_error: 0.0426\n",
      "Epoch 3/40\n",
      "567/567 [==============================] - 0s 248us/step - loss: 0.2096 - mean_squared_error: 0.0719 - val_loss: 0.1569 - val_mean_squared_error: 0.0411\n",
      "Epoch 4/40\n",
      "567/567 [==============================] - 0s 241us/step - loss: 0.1984 - mean_squared_error: 0.0660 - val_loss: 0.1562 - val_mean_squared_error: 0.0367\n",
      "Epoch 5/40\n",
      "567/567 [==============================] - 0s 252us/step - loss: 0.1895 - mean_squared_error: 0.0618 - val_loss: 0.1506 - val_mean_squared_error: 0.0374\n",
      "Epoch 6/40\n",
      "567/567 [==============================] - 0s 253us/step - loss: 0.1827 - mean_squared_error: 0.0589 - val_loss: 0.1480 - val_mean_squared_error: 0.0389\n",
      "Epoch 7/40\n",
      "567/567 [==============================] - 0s 307us/step - loss: 0.1775 - mean_squared_error: 0.0575 - val_loss: 0.1518 - val_mean_squared_error: 0.0361\n",
      "Epoch 8/40\n",
      "567/567 [==============================] - 0s 273us/step - loss: 0.1758 - mean_squared_error: 0.0565 - val_loss: 0.1469 - val_mean_squared_error: 0.0388\n",
      "Epoch 9/40\n",
      "567/567 [==============================] - 0s 254us/step - loss: 0.1730 - mean_squared_error: 0.0556 - val_loss: 0.1411 - val_mean_squared_error: 0.0360\n",
      "Epoch 10/40\n",
      "567/567 [==============================] - 0s 278us/step - loss: 0.1719 - mean_squared_error: 0.0554 - val_loss: 0.1401 - val_mean_squared_error: 0.0360\n",
      "Epoch 11/40\n",
      "567/567 [==============================] - 0s 263us/step - loss: 0.1711 - mean_squared_error: 0.0552 - val_loss: 0.1415 - val_mean_squared_error: 0.0368\n",
      "Epoch 12/40\n",
      "567/567 [==============================] - 0s 275us/step - loss: 0.1705 - mean_squared_error: 0.0563 - val_loss: 0.1392 - val_mean_squared_error: 0.0350\n",
      "Epoch 13/40\n",
      "567/567 [==============================] - 0s 275us/step - loss: 0.1704 - mean_squared_error: 0.0560 - val_loss: 0.1387 - val_mean_squared_error: 0.0356\n",
      "Epoch 14/40\n",
      "567/567 [==============================] - 0s 336us/step - loss: 0.1701 - mean_squared_error: 0.0560 - val_loss: 0.1397 - val_mean_squared_error: 0.0356\n",
      "Epoch 15/40\n",
      "567/567 [==============================] - 0s 428us/step - loss: 0.1703 - mean_squared_error: 0.0564 - val_loss: 0.1393 - val_mean_squared_error: 0.0353\n",
      "Epoch 16/40\n",
      "567/567 [==============================] - 0s 498us/step - loss: 0.1712 - mean_squared_error: 0.0564 - val_loss: 0.1398 - val_mean_squared_error: 0.0359\n",
      "Epoch 17/40\n",
      "567/567 [==============================] - 0s 458us/step - loss: 0.1692 - mean_squared_error: 0.0557 - val_loss: 0.1397 - val_mean_squared_error: 0.0352\n",
      "Epoch 18/40\n",
      "567/567 [==============================] - 0s 316us/step - loss: 0.1691 - mean_squared_error: 0.0556 - val_loss: 0.1408 - val_mean_squared_error: 0.0348\n",
      "Epoch 19/40\n",
      "567/567 [==============================] - 0s 273us/step - loss: 0.1684 - mean_squared_error: 0.0557 - val_loss: 0.1438 - val_mean_squared_error: 0.0378\n",
      "Epoch 20/40\n",
      "567/567 [==============================] - 0s 447us/step - loss: 0.1691 - mean_squared_error: 0.0555 - val_loss: 0.1394 - val_mean_squared_error: 0.0352\n",
      "Epoch 21/40\n",
      "567/567 [==============================] - 0s 554us/step - loss: 0.1687 - mean_squared_error: 0.0559 - val_loss: 0.1407 - val_mean_squared_error: 0.0350\n",
      "Epoch 22/40\n",
      "567/567 [==============================] - 0s 518us/step - loss: 0.1688 - mean_squared_error: 0.0559 - val_loss: 0.1409 - val_mean_squared_error: 0.0362\n",
      "Epoch 23/40\n",
      "567/567 [==============================] - 0s 334us/step - loss: 0.1689 - mean_squared_error: 0.0557 - val_loss: 0.1399 - val_mean_squared_error: 0.0356\n",
      "Epoch 24/40\n",
      "567/567 [==============================] - 0s 269us/step - loss: 0.1689 - mean_squared_error: 0.0558 - val_loss: 0.1412 - val_mean_squared_error: 0.0364\n",
      "Epoch 25/40\n",
      "567/567 [==============================] - 0s 259us/step - loss: 0.1690 - mean_squared_error: 0.0559 - val_loss: 0.1403 - val_mean_squared_error: 0.0350\n",
      "Epoch 26/40\n",
      "567/567 [==============================] - 0s 321us/step - loss: 0.1685 - mean_squared_error: 0.0553 - val_loss: 0.1402 - val_mean_squared_error: 0.0358\n",
      "Epoch 27/40\n",
      "567/567 [==============================] - 0s 313us/step - loss: 0.1686 - mean_squared_error: 0.0557 - val_loss: 0.1398 - val_mean_squared_error: 0.0352\n",
      "Epoch 28/40\n",
      "567/567 [==============================] - 0s 273us/step - loss: 0.1693 - mean_squared_error: 0.0555 - val_loss: 0.1409 - val_mean_squared_error: 0.0357\n",
      "Epoch 29/40\n",
      "567/567 [==============================] - 0s 347us/step - loss: 0.1694 - mean_squared_error: 0.0559 - val_loss: 0.1404 - val_mean_squared_error: 0.0359\n",
      "Epoch 30/40\n",
      "567/567 [==============================] - 0s 322us/step - loss: 0.1691 - mean_squared_error: 0.0557 - val_loss: 0.1413 - val_mean_squared_error: 0.0348\n",
      "Epoch 31/40\n",
      "567/567 [==============================] - 0s 322us/step - loss: 0.1712 - mean_squared_error: 0.0576 - val_loss: 0.1408 - val_mean_squared_error: 0.0362\n",
      "Epoch 32/40\n",
      "567/567 [==============================] - 0s 335us/step - loss: 0.1689 - mean_squared_error: 0.0554 - val_loss: 0.1418 - val_mean_squared_error: 0.0348\n",
      "Epoch 33/40\n",
      "567/567 [==============================] - 0s 331us/step - loss: 0.1680 - mean_squared_error: 0.0553 - val_loss: 0.1435 - val_mean_squared_error: 0.0353\n",
      "Epoch 34/40\n",
      "567/567 [==============================] - 0s 336us/step - loss: 0.1688 - mean_squared_error: 0.0555 - val_loss: 0.1409 - val_mean_squared_error: 0.0360\n",
      "Epoch 35/40\n",
      "567/567 [==============================] - 0s 331us/step - loss: 0.1681 - mean_squared_error: 0.0558 - val_loss: 0.1401 - val_mean_squared_error: 0.0350\n",
      "Epoch 36/40\n",
      "567/567 [==============================] - 0s 313us/step - loss: 0.1679 - mean_squared_error: 0.0551 - val_loss: 0.1424 - val_mean_squared_error: 0.0351\n",
      "Epoch 37/40\n",
      "567/567 [==============================] - 0s 321us/step - loss: 0.1682 - mean_squared_error: 0.0553 - val_loss: 0.1406 - val_mean_squared_error: 0.0351\n",
      "Epoch 38/40\n",
      "567/567 [==============================] - 0s 339us/step - loss: 0.1684 - mean_squared_error: 0.0558 - val_loss: 0.1403 - val_mean_squared_error: 0.0353\n",
      "Epoch 39/40\n",
      "567/567 [==============================] - 0s 336us/step - loss: 0.1683 - mean_squared_error: 0.0555 - val_loss: 0.1405 - val_mean_squared_error: 0.0353\n",
      "Epoch 40/40\n",
      "567/567 [==============================] - 0s 342us/step - loss: 0.1682 - mean_squared_error: 0.0555 - val_loss: 0.1402 - val_mean_squared_error: 0.0353\n"
     ]
    }
   ],
   "source": [
    "EPOCHS=40\n",
    "\n",
    "model = crear_modeloFF()\n",
    "\n",
    "history=model.fit(x_train,y_train,epochs=EPOCHS,validation_data=(x_val,y_val),batch_size=PASOS)"
   ]
  },
  {
   "cell_type": "markdown",
   "metadata": {},
   "source": [
    "## Visualizamos Resultados"
   ]
  },
  {
   "cell_type": "code",
   "execution_count": 14,
   "metadata": {
    "ExecuteTime": {
     "end_time": "2019-02-25T20:51:12.852142Z",
     "start_time": "2019-02-25T20:51:12.618559Z"
    }
   },
   "outputs": [
    {
     "name": "stdout",
     "output_type": "stream",
     "text": [
      "30\n"
     ]
    },
    {
     "data": {
      "image/png": "[encoded data removed]",
      "text/plain": [
       "<Figure size 432x288 with 1 Axes>"
      ]
     },
     "metadata": {},
     "output_type": "display_data"
    }
   ],
   "source": [
    "results=model.predict(x_val)\n",
    "print( len(results) )\n",
    "plt.scatter(range(len(y_val)),y_val,c='g')\n",
    "plt.scatter(range(len(results)),results,c='r')\n",
    "plt.title('validate')\n",
    "plt.show()\n"
   ]
  },
  {
   "cell_type": "code",
   "execution_count": 15,
   "metadata": {
    "ExecuteTime": {
     "end_time": "2019-02-25T20:51:13.128405Z",
     "start_time": "2019-02-25T20:51:12.855770Z"
    }
   },
   "outputs": [
    {
     "data": {
      "image/png": "[encoded data removed]",
      "text/plain": [
       "<Figure size 432x288 with 1 Axes>"
      ]
     },
     "metadata": {},
     "output_type": "display_data"
    }
   ],
   "source": [
    "plt.plot(history.history['loss'])\n",
    "plt.title('loss')\n",
    "plt.plot(history.history['val_loss'])\n",
    "plt.title('validate loss')\n",
    "plt.show()"
   ]
  },
  {
   "cell_type": "code",
   "execution_count": 16,
   "metadata": {
    "ExecuteTime": {
     "end_time": "2019-02-25T20:51:13.311943Z",
     "start_time": "2019-02-25T20:51:13.131681Z"
    }
   },
   "outputs": [
    {
     "data": {
      "image/png": "[encoded data removed]",
      "text/plain": [
       "<Figure size 432x288 with 1 Axes>"
      ]
     },
     "metadata": {},
     "output_type": "display_data"
    }
   ],
   "source": [
    "plt.title('Accuracy')\n",
    "plt.plot(history.history['mean_squared_error'])\n",
    "plt.show()"
   ]
  },
  {
   "cell_type": "code",
   "execution_count": 17,
   "metadata": {
    "ExecuteTime": {
     "end_time": "2019-02-25T20:51:13.366609Z",
     "start_time": "2019-02-25T20:51:13.314722Z"
    },
    "scrolled": false
   },
   "outputs": [
    {
     "name": "stdout",
     "output_type": "stream",
     "text": [
      "(30, 1, 7)\n",
      "(30,)\n",
      "30\n"
     ]
    },
    {
     "data": {
      "text/html": [
       "<div>\n",
       "<style scoped>\n",
       "    .dataframe tbody tr th:only-of-type {\n",
       "        vertical-align: middle;\n",
       "    }\n",
       "\n",
       "    .dataframe tbody tr th {\n",
       "        vertical-align: top;\n",
       "    }\n",
       "\n",
       "    .dataframe thead th {\n",
       "        text-align: right;\n",
       "    }\n",
       "</style>\n",
       "<table border=\"1\" class=\"dataframe\">\n",
       "  <thead>\n",
       "    <tr style=\"text-align: right;\">\n",
       "      <th></th>\n",
       "      <th>real</th>\n",
       "      <th>prediccion</th>\n",
       "      <th>diferencia</th>\n",
       "    </tr>\n",
       "  </thead>\n",
       "  <tbody>\n",
       "    <tr>\n",
       "      <th>0</th>\n",
       "      <td>252.000000</td>\n",
       "      <td>214.163651</td>\n",
       "      <td>37.836349</td>\n",
       "    </tr>\n",
       "    <tr>\n",
       "      <th>1</th>\n",
       "      <td>220.000000</td>\n",
       "      <td>203.868866</td>\n",
       "      <td>16.131134</td>\n",
       "    </tr>\n",
       "    <tr>\n",
       "      <th>2</th>\n",
       "      <td>296.000000</td>\n",
       "      <td>198.812180</td>\n",
       "      <td>97.187820</td>\n",
       "    </tr>\n",
       "    <tr>\n",
       "      <th>3</th>\n",
       "      <td>64.999992</td>\n",
       "      <td>194.746170</td>\n",
       "      <td>-129.746185</td>\n",
       "    </tr>\n",
       "    <tr>\n",
       "      <th>4</th>\n",
       "      <td>213.000000</td>\n",
       "      <td>196.406677</td>\n",
       "      <td>16.593323</td>\n",
       "    </tr>\n",
       "  </tbody>\n",
       "</table>\n",
       "</div>"
      ],
      "text/plain": [
       "         real  prediccion  diferencia\n",
       "0  252.000000  214.163651   37.836349\n",
       "1  220.000000  203.868866   16.131134\n",
       "2  296.000000  198.812180   97.187820\n",
       "3   64.999992  194.746170 -129.746185\n",
       "4  213.000000  196.406677   16.593323"
      ]
     },
     "execution_count": 17,
     "metadata": {},
     "output_type": "execute_result"
    }
   ],
   "source": [
    "compara = pd.DataFrame(np.array([y_val, [x[0] for x in results]])).transpose()\n",
    "compara.columns = ['real', 'prediccion']\n",
    "\n",
    "inverted = scaler.inverse_transform(compara.values)\n",
    "\n",
    "compara2 = pd.DataFrame(inverted)\n",
    "compara2.columns = ['real', 'prediccion']\n",
    "compara2['diferencia'] = compara2['real'] - compara2['prediccion']\n",
    "compara2.head()"
   ]
  },
  {
   "cell_type": "code",
   "execution_count": 18,
   "metadata": {
    "ExecuteTime": {
     "end_time": "2019-02-25T20:51:13.401663Z",
     "start_time": "2019-02-25T20:51:13.369640Z"
    }
   },
   "outputs": [
    {
     "data": {
      "text/html": [
       "<div>\n",
       "<style scoped>\n",
       "    .dataframe tbody tr th:only-of-type {\n",
       "        vertical-align: middle;\n",
       "    }\n",
       "\n",
       "    .dataframe tbody tr th {\n",
       "        vertical-align: top;\n",
       "    }\n",
       "\n",
       "    .dataframe thead th {\n",
       "        text-align: right;\n",
       "    }\n",
       "</style>\n",
       "<table border=\"1\" class=\"dataframe\">\n",
       "  <thead>\n",
       "    <tr style=\"text-align: right;\">\n",
       "      <th></th>\n",
       "      <th>real</th>\n",
       "      <th>prediccion</th>\n",
       "      <th>diferencia</th>\n",
       "    </tr>\n",
       "  </thead>\n",
       "  <tbody>\n",
       "    <tr>\n",
       "      <th>count</th>\n",
       "      <td>30.000000</td>\n",
       "      <td>30.000000</td>\n",
       "      <td>30.000000</td>\n",
       "    </tr>\n",
       "    <tr>\n",
       "      <th>mean</th>\n",
       "      <td>191.633331</td>\n",
       "      <td>196.321518</td>\n",
       "      <td>-4.688193</td>\n",
       "    </tr>\n",
       "    <tr>\n",
       "      <th>std</th>\n",
       "      <td>57.580818</td>\n",
       "      <td>23.251623</td>\n",
       "      <td>51.338474</td>\n",
       "    </tr>\n",
       "    <tr>\n",
       "      <th>min</th>\n",
       "      <td>64.999992</td>\n",
       "      <td>150.876389</td>\n",
       "      <td>-129.746185</td>\n",
       "    </tr>\n",
       "    <tr>\n",
       "      <th>25%</th>\n",
       "      <td>169.000000</td>\n",
       "      <td>182.479301</td>\n",
       "      <td>-24.522148</td>\n",
       "    </tr>\n",
       "    <tr>\n",
       "      <th>50%</th>\n",
       "      <td>200.500000</td>\n",
       "      <td>197.162064</td>\n",
       "      <td>1.159111</td>\n",
       "    </tr>\n",
       "    <tr>\n",
       "      <th>75%</th>\n",
       "      <td>220.000000</td>\n",
       "      <td>207.022148</td>\n",
       "      <td>26.922920</td>\n",
       "    </tr>\n",
       "    <tr>\n",
       "      <th>max</th>\n",
       "      <td>296.000000</td>\n",
       "      <td>241.253464</td>\n",
       "      <td>97.187820</td>\n",
       "    </tr>\n",
       "  </tbody>\n",
       "</table>\n",
       "</div>"
      ],
      "text/plain": [
       "             real  prediccion  diferencia\n",
       "count   30.000000   30.000000   30.000000\n",
       "mean   191.633331  196.321518   -4.688193\n",
       "std     57.580818   23.251623   51.338474\n",
       "min     64.999992  150.876389 -129.746185\n",
       "25%    169.000000  182.479301  -24.522148\n",
       "50%    200.500000  197.162064    1.159111\n",
       "75%    220.000000  207.022148   26.922920\n",
       "max    296.000000  241.253464   97.187820"
      ]
     },
     "execution_count": 18,
     "metadata": {},
     "output_type": "execute_result"
    }
   ],
   "source": [
    "compara2.describe()"
   ]
  },
  {
   "cell_type": "code",
   "execution_count": 19,
   "metadata": {
    "ExecuteTime": {
     "end_time": "2019-02-25T20:51:13.594591Z",
     "start_time": "2019-02-25T20:51:13.405616Z"
    }
   },
   "outputs": [
    {
     "data": {
      "text/plain": [
       "<matplotlib.axes._subplots.AxesSubplot at 0x1a31d9f0f0>"
      ]
     },
     "execution_count": 19,
     "metadata": {},
     "output_type": "execute_result"
    },
    {
     "data": {
      "image/png": "[encoded data removed]",
      "text/plain": [
       "<Figure size 432x288 with 1 Axes>"
      ]
     },
     "metadata": {},
     "output_type": "display_data"
    }
   ],
   "source": [
    "compara2['real'].plot()\n",
    "compara2['prediccion'].plot()"
   ]
  },
  {
   "cell_type": "markdown",
   "metadata": {},
   "source": [
    "# Predicción"
   ]
  },
  {
   "cell_type": "markdown",
   "metadata": {},
   "source": [
    "A partir de la última semana de noviembre 2018, intentaremos predecir la primer semana de diciembre."
   ]
  },
  {
   "cell_type": "code",
   "execution_count": 30,
   "metadata": {
    "ExecuteTime": {
     "end_time": "2019-02-25T20:52:11.024445Z",
     "start_time": "2019-02-25T20:52:10.983681Z"
    }
   },
   "outputs": [
    {
     "data": {
      "text/plain": [
       "fecha\n",
       "2018-11-16    152\n",
       "2018-11-17    111\n",
       "2018-11-19    207\n",
       "2018-11-20    206\n",
       "2018-11-21    183\n",
       "2018-11-22    200\n",
       "2018-11-23    187\n",
       "2018-11-24    189\n",
       "2018-11-25     76\n",
       "2018-11-26    276\n",
       "2018-11-27    220\n",
       "2018-11-28    183\n",
       "2018-11-29    251\n",
       "2018-11-30    189\n",
       "Name: unidades, dtype: int64"
      ]
     },
     "execution_count": 30,
     "metadata": {},
     "output_type": "execute_result"
    }
   ],
   "source": [
    "ultimosDias = df['2018-11-16':'2018-11-30']\n",
    "ultimosDias"
   ]
  },
  {
   "cell_type": "markdown",
   "metadata": {},
   "source": [
    "## Preparamos los datos para Test"
   ]
  },
  {
   "cell_type": "code",
   "execution_count": 31,
   "metadata": {
    "ExecuteTime": {
     "end_time": "2019-02-25T20:52:17.532182Z",
     "start_time": "2019-02-25T20:52:17.507681Z"
    }
   },
   "outputs": [
    {
     "data": {
      "text/html": [
       "<div>\n",
       "<style scoped>\n",
       "    .dataframe tbody tr th:only-of-type {\n",
       "        vertical-align: middle;\n",
       "    }\n",
       "\n",
       "    .dataframe tbody tr th {\n",
       "        vertical-align: top;\n",
       "    }\n",
       "\n",
       "    .dataframe thead th {\n",
       "        text-align: right;\n",
       "    }\n",
       "</style>\n",
       "<table border=\"1\" class=\"dataframe\">\n",
       "  <thead>\n",
       "    <tr style=\"text-align: right;\">\n",
       "      <th></th>\n",
       "      <th>var1(t-7)</th>\n",
       "      <th>var1(t-6)</th>\n",
       "      <th>var1(t-5)</th>\n",
       "      <th>var1(t-4)</th>\n",
       "      <th>var1(t-3)</th>\n",
       "      <th>var1(t-2)</th>\n",
       "      <th>var1(t-1)</th>\n",
       "    </tr>\n",
       "  </thead>\n",
       "  <tbody>\n",
       "    <tr>\n",
       "      <th>7</th>\n",
       "      <td>-0.24</td>\n",
       "      <td>-0.65</td>\n",
       "      <td>0.31</td>\n",
       "      <td>0.30</td>\n",
       "      <td>0.07</td>\n",
       "      <td>0.24</td>\n",
       "      <td>0.11</td>\n",
       "    </tr>\n",
       "    <tr>\n",
       "      <th>8</th>\n",
       "      <td>-0.65</td>\n",
       "      <td>0.31</td>\n",
       "      <td>0.30</td>\n",
       "      <td>0.07</td>\n",
       "      <td>0.24</td>\n",
       "      <td>0.11</td>\n",
       "      <td>0.13</td>\n",
       "    </tr>\n",
       "    <tr>\n",
       "      <th>9</th>\n",
       "      <td>0.31</td>\n",
       "      <td>0.30</td>\n",
       "      <td>0.07</td>\n",
       "      <td>0.24</td>\n",
       "      <td>0.11</td>\n",
       "      <td>0.13</td>\n",
       "      <td>-1.00</td>\n",
       "    </tr>\n",
       "    <tr>\n",
       "      <th>10</th>\n",
       "      <td>0.30</td>\n",
       "      <td>0.07</td>\n",
       "      <td>0.24</td>\n",
       "      <td>0.11</td>\n",
       "      <td>0.13</td>\n",
       "      <td>-1.00</td>\n",
       "      <td>1.00</td>\n",
       "    </tr>\n",
       "    <tr>\n",
       "      <th>11</th>\n",
       "      <td>0.07</td>\n",
       "      <td>0.24</td>\n",
       "      <td>0.11</td>\n",
       "      <td>0.13</td>\n",
       "      <td>-1.00</td>\n",
       "      <td>1.00</td>\n",
       "      <td>0.44</td>\n",
       "    </tr>\n",
       "    <tr>\n",
       "      <th>12</th>\n",
       "      <td>0.24</td>\n",
       "      <td>0.11</td>\n",
       "      <td>0.13</td>\n",
       "      <td>-1.00</td>\n",
       "      <td>1.00</td>\n",
       "      <td>0.44</td>\n",
       "      <td>0.07</td>\n",
       "    </tr>\n",
       "    <tr>\n",
       "      <th>13</th>\n",
       "      <td>0.11</td>\n",
       "      <td>0.13</td>\n",
       "      <td>-1.00</td>\n",
       "      <td>1.00</td>\n",
       "      <td>0.44</td>\n",
       "      <td>0.07</td>\n",
       "      <td>0.75</td>\n",
       "    </tr>\n",
       "  </tbody>\n",
       "</table>\n",
       "</div>"
      ],
      "text/plain": [
       "    var1(t-7)  var1(t-6)  var1(t-5)  var1(t-4)  var1(t-3)  var1(t-2)  \\\n",
       "7       -0.24      -0.65       0.31       0.30       0.07       0.24   \n",
       "8       -0.65       0.31       0.30       0.07       0.24       0.11   \n",
       "9        0.31       0.30       0.07       0.24       0.11       0.13   \n",
       "10       0.30       0.07       0.24       0.11       0.13      -1.00   \n",
       "11       0.07       0.24       0.11       0.13      -1.00       1.00   \n",
       "12       0.24       0.11       0.13      -1.00       1.00       0.44   \n",
       "13       0.11       0.13      -1.00       1.00       0.44       0.07   \n",
       "\n",
       "    var1(t-1)  \n",
       "7        0.11  \n",
       "8        0.13  \n",
       "9       -1.00  \n",
       "10       1.00  \n",
       "11       0.44  \n",
       "12       0.07  \n",
       "13       0.75  "
      ]
     },
     "execution_count": 31,
     "metadata": {},
     "output_type": "execute_result"
    }
   ],
   "source": [
    "values = ultimosDias.values\n",
    "values = values.astype('float32')\n",
    "# normalize features\n",
    "values=values.reshape(-1, 1) # esto lo hacemos porque tenemos 1 sola dimension\n",
    "scaled = scaler.fit_transform(values)\n",
    "reframed = series_to_supervised(scaled, PASOS, 1)\n",
    "reframed.drop(reframed.columns[[7]], axis=1, inplace=True)\n",
    "reframed.head(7)"
   ]
  },
  {
   "cell_type": "code",
   "execution_count": 32,
   "metadata": {
    "ExecuteTime": {
     "end_time": "2019-02-25T20:52:21.914334Z",
     "start_time": "2019-02-25T20:52:21.904612Z"
    }
   },
   "outputs": [
    {
     "name": "stdout",
     "output_type": "stream",
     "text": [
      "(1, 1, 7)\n"
     ]
    },
    {
     "data": {
      "text/plain": [
       "array([[[ 0.11000001,  0.13      , -1.        ,  1.        ,\n",
       "          0.44000006,  0.06999993,  0.75      ]]], dtype=float32)"
      ]
     },
     "execution_count": 32,
     "metadata": {},
     "output_type": "execute_result"
    }
   ],
   "source": [
    "values = reframed.values\n",
    "x_test = values[6:, :]\n",
    "x_test = x_test.reshape((x_test.shape[0], 1, x_test.shape[1]))\n",
    "print(x_test.shape)\n",
    "x_test"
   ]
  },
  {
   "cell_type": "code",
   "execution_count": 23,
   "metadata": {
    "ExecuteTime": {
     "end_time": "2019-02-25T20:51:13.693886Z",
     "start_time": "2019-02-25T20:51:13.687944Z"
    }
   },
   "outputs": [],
   "source": [
    "def agregarNuevoValor(x_test,nuevoValor):\n",
    "    for i in range(x_test.shape[2]-1):\n",
    "        x_test[0][0][i] = x_test[0][0][i+1]\n",
    "    x_test[0][0][x_test.shape[2]-1]=nuevoValor\n",
    "    return x_test"
   ]
  },
  {
   "cell_type": "markdown",
   "metadata": {},
   "source": [
    "## Pronóstico para la \"próxima semana\""
   ]
  },
  {
   "cell_type": "code",
   "execution_count": 24,
   "metadata": {
    "ExecuteTime": {
     "end_time": "2019-02-25T20:51:13.721175Z",
     "start_time": "2019-02-25T20:51:13.697146Z"
    }
   },
   "outputs": [
    {
     "name": "stdout",
     "output_type": "stream",
     "text": [
      "[[[ 0.11000001  0.13       -1.          1.          0.44000006\n",
      "    0.06999993  0.75      ]]]\n",
      "[[[ 0.13       -1.          1.          0.44000006  0.06999993\n",
      "    0.75       -0.01510962]]]\n",
      "[[[-1.          1.          0.44000006  0.06999993  0.75\n",
      "   -0.01510962 -0.3473066 ]]]\n",
      "[[[ 1.          0.44000006  0.06999993  0.75       -0.01510962\n",
      "   -0.3473066   0.4949292 ]]]\n",
      "[[[ 0.44000006  0.06999993  0.75       -0.01510962 -0.3473066\n",
      "    0.4949292   0.2773262 ]]]\n",
      "[[[ 0.06999993  0.75       -0.01510962 -0.3473066   0.4949292\n",
      "    0.2773262   0.01309414]]]\n",
      "[[[ 0.75       -0.01510962 -0.3473066   0.4949292   0.2773262\n",
      "    0.01309414  0.32155222]]]\n"
     ]
    }
   ],
   "source": [
    "results=[]\n",
    "for i in range(7):\n",
    "    parcial=model.predict(x_test)\n",
    "    results.append(parcial[0])\n",
    "    print(x_test)\n",
    "    x_test=agregarNuevoValor(x_test,parcial[0])\n",
    "    "
   ]
  },
  {
   "cell_type": "markdown",
   "metadata": {},
   "source": [
    "## Re-Convertimos los resultados"
   ]
  },
  {
   "cell_type": "code",
   "execution_count": 33,
   "metadata": {
    "ExecuteTime": {
     "end_time": "2019-02-25T21:03:35.759150Z",
     "start_time": "2019-02-25T21:03:35.746646Z"
    }
   },
   "outputs": [
    {
     "name": "stdout",
     "output_type": "stream",
     "text": [
      "[array([-0.01510962], dtype=float32), array([-0.3473066], dtype=float32), array([0.4949292], dtype=float32), array([0.2773262], dtype=float32), array([0.01309414], dtype=float32), array([0.32155222], dtype=float32), array([-0.00763017], dtype=float32)]\n"
     ]
    },
    {
     "data": {
      "text/plain": [
       "array([[174.48904094],\n",
       "       [141.26934129],\n",
       "       [225.49292353],\n",
       "       [203.73262324],\n",
       "       [177.30941712],\n",
       "       [208.1552254 ],\n",
       "       [175.23698644]])"
      ]
     },
     "execution_count": 33,
     "metadata": {},
     "output_type": "execute_result"
    }
   ],
   "source": [
    "adimen = [x for x in results]    \n",
    "print(adimen)\n",
    "inverted = scaler.inverse_transform(adimen)\n",
    "inverted"
   ]
  },
  {
   "cell_type": "markdown",
   "metadata": {},
   "source": [
    "## Visualizamos el pronóstico"
   ]
  },
  {
   "cell_type": "code",
   "execution_count": 35,
   "metadata": {
    "ExecuteTime": {
     "end_time": "2019-02-25T21:08:28.155409Z",
     "start_time": "2019-02-25T21:08:27.987373Z"
    }
   },
   "outputs": [
    {
     "data": {
      "image/png": "[encoded data removed]",
      "text/plain": [
       "<Figure size 432x288 with 1 Axes>"
      ]
     },
     "metadata": {},
     "output_type": "display_data"
    }
   ],
   "source": [
    "prediccion1SemanaDiciembre = pd.DataFrame(inverted)\n",
    "prediccion1SemanaDiciembre.columns = ['pronostico']\n",
    "prediccion1SemanaDiciembre.plot()\n",
    "prediccion1SemanaDiciembre.to_csv('pronostico.csv')"
   ]
  },
  {
   "cell_type": "code",
   "execution_count": 27,
   "metadata": {
    "ExecuteTime": {
     "end_time": "2019-02-25T20:51:13.944994Z",
     "start_time": "2019-02-25T20:51:13.932992Z"
    }
   },
   "outputs": [
    {
     "data": {
      "text/html": [
       "<div>\n",
       "<style scoped>\n",
       "    .dataframe tbody tr th:only-of-type {\n",
       "        vertical-align: middle;\n",
       "    }\n",
       "\n",
       "    .dataframe tbody tr th {\n",
       "        vertical-align: top;\n",
       "    }\n",
       "\n",
       "    .dataframe thead th {\n",
       "        text-align: right;\n",
       "    }\n",
       "</style>\n",
       "<table border=\"1\" class=\"dataframe\">\n",
       "  <thead>\n",
       "    <tr style=\"text-align: right;\">\n",
       "      <th></th>\n",
       "      <th>pronostico</th>\n",
       "    </tr>\n",
       "  </thead>\n",
       "  <tbody>\n",
       "    <tr>\n",
       "      <th>0</th>\n",
       "      <td>174.489041</td>\n",
       "    </tr>\n",
       "    <tr>\n",
       "      <th>1</th>\n",
       "      <td>141.269341</td>\n",
       "    </tr>\n",
       "    <tr>\n",
       "      <th>2</th>\n",
       "      <td>225.492924</td>\n",
       "    </tr>\n",
       "    <tr>\n",
       "      <th>3</th>\n",
       "      <td>203.732623</td>\n",
       "    </tr>\n",
       "    <tr>\n",
       "      <th>4</th>\n",
       "      <td>177.309417</td>\n",
       "    </tr>\n",
       "    <tr>\n",
       "      <th>5</th>\n",
       "      <td>208.155225</td>\n",
       "    </tr>\n",
       "    <tr>\n",
       "      <th>6</th>\n",
       "      <td>175.236986</td>\n",
       "    </tr>\n",
       "  </tbody>\n",
       "</table>\n",
       "</div>"
      ],
      "text/plain": [
       "   pronostico\n",
       "0  174.489041\n",
       "1  141.269341\n",
       "2  225.492924\n",
       "3  203.732623\n",
       "4  177.309417\n",
       "5  208.155225\n",
       "6  175.236986"
      ]
     },
     "execution_count": 27,
     "metadata": {},
     "output_type": "execute_result"
    }
   ],
   "source": [
    "prediccion1SemanaDiciembre"
   ]
  },
  {
   "cell_type": "markdown",
   "metadata": {},
   "source": [
    "# Agregamos el resultado en el dataset"
   ]
  },
  {
   "cell_type": "code",
   "execution_count": 28,
   "metadata": {
    "ExecuteTime": {
     "end_time": "2019-02-25T20:51:13.974698Z",
     "start_time": "2019-02-25T20:51:13.948522Z"
    }
   },
   "outputs": [
    {
     "name": "stdout",
     "output_type": "stream",
     "text": [
      "174.48904094075502\n",
      "141.26934128856678\n",
      "225.49292353152313\n",
      "203.73262324331603\n",
      "177.30941712430308\n",
      "208.15522539962586\n",
      "175.23698644310952\n"
     ]
    },
    {
     "data": {
      "text/plain": [
       "fecha\n",
       "2018-11-24 00:00:00    189.000000\n",
       "2018-11-25 00:00:00     76.000000\n",
       "2018-11-26 00:00:00    276.000000\n",
       "2018-11-27 00:00:00    220.000000\n",
       "2018-11-28 00:00:00    183.000000\n",
       "2018-11-29 00:00:00    251.000000\n",
       "2018-11-30 00:00:00    189.000000\n",
       "2018-12-01 00:00:00    174.489041\n",
       "2018-12-02 00:00:00    141.269341\n",
       "2018-12-03 00:00:00    225.492924\n",
       "2018-12-04 00:00:00    203.732623\n",
       "2018-12-05 00:00:00    177.309417\n",
       "2018-12-06 00:00:00    208.155225\n",
       "2018-12-07 00:00:00    175.236986\n",
       "Name: unidades, dtype: float64"
      ]
     },
     "execution_count": 28,
     "metadata": {},
     "output_type": "execute_result"
    }
   ],
   "source": [
    "i=0\n",
    "for fila in prediccion1SemanaDiciembre.pronostico:\n",
    "    i=i+1\n",
    "    ultimosDias.loc['2018-12-0' + str(i) + ' 00:00:00'] = fila\n",
    "    print(fila)\n",
    "ultimosDias.tail(14)"
   ]
  },
  {
   "cell_type": "markdown",
   "metadata": {},
   "source": [
    "El artículo completo en www.aprendemachinelearning.com"
   ]
  }
 ],
 "metadata": {
  "kernelspec": {
   "display_name": "Python 3",
   "language": "python",
   "name": "python3"
  },
  "language_info": {
   "codemirror_mode": {
    "name": "ipython",
    "version": 3
   },
   "file_extension": ".py",
   "mimetype": "text/x-python",
   "name": "python",
   "nbconvert_exporter": "python",
   "pygments_lexer": "ipython3",
   "version": "3.6.5"
  }
 },
 "nbformat": 4,
 "nbformat_minor": 2
}
